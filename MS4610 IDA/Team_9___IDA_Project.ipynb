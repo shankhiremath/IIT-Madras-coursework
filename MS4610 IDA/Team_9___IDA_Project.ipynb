{
  "nbformat": 4,
  "nbformat_minor": 0,
  "metadata": {
    "colab": {
      "name": "Team 9 | IDA Project.ipynb",
      "provenance": [],
      "collapsed_sections": [],
      "toc_visible": true
    },
    "kernelspec": {
      "display_name": "Python 3",
      "language": "python",
      "name": "python3"
    },
    "language_info": {
      "codemirror_mode": {
        "name": "ipython",
        "version": 3
      },
      "file_extension": ".py",
      "mimetype": "text/x-python",
      "name": "python",
      "nbconvert_exporter": "python",
      "pygments_lexer": "ipython3",
      "version": "3.8.3"
    }
  },
  "cells": [
    {
      "cell_type": "markdown",
      "metadata": {
        "id": "l0FigkZ5jlhl"
      },
      "source": [
        "# MS4610 - Introduction To Data Anlyatics\r\n",
        "\r\n",
        "#### TEAM 9\r\n",
        "- Saarthak Sandip Marathe - ME17B162\r\n",
        "- Burhanuddin Sabuwala - BE17B011\r\n",
        "- G Prashant - BS17B011\r\n",
        "- Raj Jain - CH17B066\r\n",
        "- Sriram Ragunathan - CH17B072\r\n",
        "- Shashank H S - BE18B006"
      ]
    },
    {
      "cell_type": "markdown",
      "metadata": {
        "id": "LYcVzlORogrq"
      },
      "source": [
        "# Project - Loan Default Prediction"
      ]
    },
    {
      "cell_type": "markdown",
      "metadata": {
        "id": "kslyy_IvaPLs"
      },
      "source": [
        "## Importing Packages"
      ]
    },
    {
      "cell_type": "code",
      "metadata": {
        "id": "W_PpfvRpppOV"
      },
      "source": [
        "import numpy as np\n",
        "import pandas as pd\n",
        "import matplotlib.pyplot as plt\n",
        "from sklearn.tree import DecisionTreeClassifier\n",
        "from sklearn.ensemble import RandomForestClassifier, ExtraTreesClassifier\n",
        "from sklearn.decomposition import PCA\n",
        "from sklearn.experimental import enable_iterative_imputer\n",
        "from sklearn.impute import SimpleImputer, KNNImputer, IterativeImputer\n",
        "from sklearn.svm import SVC\n",
        "from sklearn.neighbors import KNeighborsClassifier\n",
        "from sklearn.linear_model import LogisticRegression\n",
        "from sklearn.model_selection import cross_validate, StratifiedKFold, KFold\n",
        "from sklearn.ensemble import AdaBoostClassifier, GradientBoostingClassifier, VotingClassifier\n",
        "from sklearn.model_selection import train_test_split\n",
        "from sklearn.neural_network import MLPClassifier\n",
        "from sklearn.model_selection import GridSearchCV\n",
        "from sklearn.preprocessing import LabelEncoder, StandardScaler\n",
        "from sklearn.metrics import accuracy_score,f1_score,confusion_matrix,precision_score,recall_score,roc_auc_score,roc_curve\n",
        "from xgboost import XGBClassifier\n",
        "# from catboost import CatBoostClassifier, Pool, cv\n",
        "from lightgbm import LGBMClassifier\n",
        "from tqdm import tqdm\n",
        "import seaborn as sns\n",
        "import warnings\n",
        "warnings.filterwarnings('ignore')"
      ],
      "execution_count": 49,
      "outputs": []
    },
    {
      "cell_type": "code",
      "metadata": {
        "colab": {
          "base_uri": "https://localhost:8080/"
        },
        "id": "XK5wLOA4q9Jg",
        "outputId": "87ec057f-3d6f-49f7-96cb-9e792ee4340e"
      },
      "source": [
        "from google.colab import drive\n",
        "drive.mount('/content/drive')"
      ],
      "execution_count": 29,
      "outputs": [
        {
          "output_type": "stream",
          "text": [
            "Drive already mounted at /content/drive; to attempt to forcibly remount, call drive.mount(\"/content/drive\", force_remount=True).\n"
          ],
          "name": "stdout"
        }
      ]
    },
    {
      "cell_type": "markdown",
      "metadata": {
        "id": "vmgonomSaHs4"
      },
      "source": [
        "## Loading Training and Test Data"
      ]
    },
    {
      "cell_type": "code",
      "metadata": {
        "id": "jH958-ZVrFVI"
      },
      "source": [
        "fx = pd.read_csv(\"/content/drive/MyDrive/MyPC/Sem 7/IDA project/train_x.csv\").set_index('ID')\r\n",
        "fy = pd.read_csv(\"/content/drive/MyDrive/MyPC/Sem 7/IDA project/train_y.csv\").set_index('ID')\r\n",
        "test_data = pd.read_csv(\"/content/drive/MyDrive/MyPC/Sem 7/IDA project/test_x.csv\").set_index('ID_Test')"
      ],
      "execution_count": 30,
      "outputs": []
    },
    {
      "cell_type": "markdown",
      "metadata": {
        "id": "TI5IYr5Vr47q"
      },
      "source": [
        "## Imputation of Categorical and Ordinal Features"
      ]
    },
    {
      "cell_type": "markdown",
      "metadata": {
        "id": "yxNavec-xLPw"
      },
      "source": [
        "The Ordinal (Age) and Categorical features (Loan Type, Occupation Type) were imputed with the most frequent value corresponding to the class"
      ]
    },
    {
      "cell_type": "code",
      "metadata": {
        "colab": {
          "base_uri": "https://localhost:8080/"
        },
        "id": "wJEfpMEjjPOg",
        "outputId": "ec22a892-07e0-48c5-d23f-63a3e52ed8a4"
      },
      "source": [
        "from scipy import stats\r\n",
        "print('Most Frequent Age for Class 0: ',stats.mode(fx['Age'].loc[(fy==0)['Label']])[0][0])\r\n",
        "print('Most Frequent Loan Type for Class 0: ',stats.mode(fx['Loan type'].loc[(fy==0)['Label']])[0][0])\r\n",
        "print('Most Frequent Occupation Type for Class 0: ',stats.mode(fx['Occupation type'].loc[(fy==0)['Label']])[0][0])\r\n",
        "print()\r\n",
        "print('Most Frequent Age for Class 1: ',stats.mode(fx['Age'].loc[(fy==1)['Label']])[0][0])\r\n",
        "print('Most Frequent Loan Type for Class 1: ',stats.mode(fx['Loan type'].loc[(fy==1)['Label']])[0][0])\r\n",
        "print('Most Frequent Occupation Type for Class 1: ',stats.mode(fx['Occupation type'].loc[(fy==1)['Label']])[0][0])"
      ],
      "execution_count": 31,
      "outputs": [
        {
          "output_type": "stream",
          "text": [
            "Most Frequent Age for Class 0:  0.0\n",
            "Most Frequent Loan Type for Class 0:  A\n",
            "Most Frequent Occupation Type for Class 0:  Y\n",
            "\n",
            "Most Frequent Age for Class 1:  1.0\n",
            "Most Frequent Loan Type for Class 1:  B\n",
            "Most Frequent Occupation Type for Class 1:  Y\n"
          ],
          "name": "stdout"
        }
      ]
    },
    {
      "cell_type": "code",
      "metadata": {
        "id": "iIEBBBeyokFc"
      },
      "source": [
        "#Age Feature\r\n",
        "id = fx['Age'][np.isnan(fx['Age'])].index\r\n",
        "id1 = fx['Age'][np.isnan(fx['Age'])][(fy.loc[np.array(id)] == 0)['Label']].index \r\n",
        "fx['Age'].loc[id1] = fx['Age'][np.isnan(fx['Age'])][(fy.loc[np.array(id)] == 0)['Label']].replace(np.nan, 0)\r\n",
        "\r\n",
        "id2 = fx['Age'][np.isnan(fx['Age'])][(fy.loc[np.array(id)] == 1)['Label']].index \r\n",
        "fx['Age'].loc[id2] = fx['Age'][np.isnan(fx['Age'])][(fy.loc[np.array(id)] == 1)['Label']].replace(np.nan, 1)\r\n",
        "\r\n",
        "#Loan Type Feature\r\n",
        "id =  fx['Loan type'][pd.isnull(fx['Loan type'])].index\r\n",
        "\r\n",
        "id1 = fx['Loan type'][pd.isnull(fx['Loan type'])][(fy.loc[np.array(id)] == 0)['Label']].index \r\n",
        "fx['Loan type'].loc[id1] = fx['Loan type'][pd.isnull(fx['Loan type'])][(fy.loc[np.array(id)] == 0)['Label']].replace(np.nan, 'A')\r\n",
        "\r\n",
        "id2 = fx['Loan type'][pd.isnull(fx['Loan type'])][(fy.loc[np.array(id)] == 1)['Label']].index \r\n",
        "fx['Loan type'].loc[id2] = fx['Loan type'][pd.isnull(fx['Loan type'])][(fy.loc[np.array(id)] == 1)['Label']].replace(np.nan, 'B')\r\n",
        "\r\n",
        "#Occupation Type Feature\r\n",
        "id =  fx['Occupation type'][pd.isnull(fx['Occupation type'])].index\r\n",
        "fx['Occupation type'].loc[id] =  fx['Occupation type'].loc[id].replace(np.nan,'Y')"
      ],
      "execution_count": 32,
      "outputs": []
    },
    {
      "cell_type": "markdown",
      "metadata": {
        "id": "FfeyorcCWDsZ"
      },
      "source": [
        "## Iterative Imputation for Numerical Features"
      ]
    },
    {
      "cell_type": "code",
      "metadata": {
        "colab": {
          "base_uri": "https://localhost:8080/"
        },
        "id": "h7VeePb4ppOl",
        "outputId": "f3247270-2f7e-45b4-8106-209582eb7f54"
      },
      "source": [
        "# Iterative imputer\n",
        "imp = IterativeImputer(missing_values = np.nan, max_iter = 10, random_state = 42,verbose=1)\n",
        "\n",
        "# One Hot Encoding of categorical features Loan Type and Occupation Type\n",
        "fx_loan_type = pd.get_dummies(fx['Loan type'], prefix = 'Loan type')\n",
        "fx_occupation = pd.get_dummies(fx['Occupation type'], prefix = 'Occupation type')\n",
        "\n",
        "cols = list(fx.columns);\n",
        "cols.remove('Loan type'); cols.remove('Occupation type');\n",
        "\n",
        "fx = pd.concat([fx[cols], fx_loan_type, fx_occupation],axis = 1)\n",
        "imp.fit(fx)\n",
        "p = list(imp.transform(fx))\n",
        "y = list(fy['Label'])"
      ],
      "execution_count": 33,
      "outputs": [
        {
          "output_type": "stream",
          "text": [
            "[IterativeImputer] Completing matrix with shape (80000, 13)\n",
            "[IterativeImputer] Change: 4072.2446953765193, scaled tolerance: 20.72891533 \n",
            "[IterativeImputer] Change: 4066.959594631126, scaled tolerance: 20.72891533 \n",
            "[IterativeImputer] Change: 760.2445291387521, scaled tolerance: 20.72891533 \n",
            "[IterativeImputer] Change: 548.4206595597784, scaled tolerance: 20.72891533 \n",
            "[IterativeImputer] Change: 397.30854102846934, scaled tolerance: 20.72891533 \n",
            "[IterativeImputer] Change: 253.810880458469, scaled tolerance: 20.72891533 \n",
            "[IterativeImputer] Change: 191.99084863988764, scaled tolerance: 20.72891533 \n",
            "[IterativeImputer] Change: 254.86686987255734, scaled tolerance: 20.72891533 \n",
            "[IterativeImputer] Change: 34.70309814903885, scaled tolerance: 20.72891533 \n",
            "[IterativeImputer] Change: 17.867956365225382, scaled tolerance: 20.72891533 \n",
            "[IterativeImputer] Early stopping criterion reached.\n",
            "[IterativeImputer] Completing matrix with shape (80000, 13)\n"
          ],
          "name": "stdout"
        }
      ]
    },
    {
      "cell_type": "markdown",
      "metadata": {
        "id": "r4_0KBmZTT7s"
      },
      "source": [
        "## Preprocessing "
      ]
    },
    {
      "cell_type": "markdown",
      "metadata": {
        "id": "r-4o7ykVdjyc"
      },
      "source": [
        "We have included only those data points that have proper labels, and ignored those that have missing labels."
      ]
    },
    {
      "cell_type": "code",
      "metadata": {
        "id": "H0WVM00YdicN"
      },
      "source": [
        "# Including values that have labels in the final dataset\r\n",
        "x_matrix = []\r\n",
        "y_matrix = []\r\n",
        "for i in range(len(p)):\r\n",
        "    if fy['Label'][i+1] in [0,1]:\r\n",
        "      x_matrix.append(p[i])\r\n",
        "      y_matrix.append(y[i])\r\n",
        "\r\n",
        "df_x = pd.DataFrame(x_matrix, columns = fx.columns)\r\n",
        "df_y = y_matrix"
      ],
      "execution_count": 34,
      "outputs": []
    },
    {
      "cell_type": "markdown",
      "metadata": {
        "id": "Ehx0OgmQ9j93"
      },
      "source": [
        "## Model Used for Training - Light Gradient Boosted Machine (LightGBM)"
      ]
    },
    {
      "cell_type": "markdown",
      "metadata": {
        "id": "nPxA-JhM-RP4"
      },
      "source": [
        "### Initialize Model"
      ]
    },
    {
      "cell_type": "code",
      "metadata": {
        "id": "haDRNg4O-Hbk"
      },
      "source": [
        "#Instantiating LightGBM Classifier Model with 3300 estimators\r\n",
        "lgbm_clf = LGBMClassifier(n_estimators=3300,\r\n",
        "                       max_depth=9,\r\n",
        "                       learning_rate=0.12, \r\n",
        "                       objective='binary',\r\n",
        "                       subsample=0.7,\r\n",
        "                       colsample_bytree=1.,\r\n",
        "                       num_parallel_tree = 10,\r\n",
        "                       scale_pos_weight=2.20,\r\n",
        "                       random_state=123,\r\n",
        "                       reg_alpha = 0,\r\n",
        "                       )"
      ],
      "execution_count": 35,
      "outputs": []
    },
    {
      "cell_type": "markdown",
      "metadata": {
        "id": "P5bUMc3_-WUu"
      },
      "source": [
        "### Model Evaluation Using 10-fold Cross Validation"
      ]
    },
    {
      "cell_type": "code",
      "metadata": {
        "colab": {
          "base_uri": "https://localhost:8080/"
        },
        "id": "srxZrJif9pgs",
        "outputId": "9784113d-e735-4102-aa24-5447e4ec36ba"
      },
      "source": [
        "## 10 fold Cross Validation using LGBM Classifier Initialized above\r\n",
        "\r\n",
        "# Initializing k-fold splitter\r\n",
        "n_splits = 10   # 10 splits\r\n",
        "kf = KFold(n_splits=n_splits,shuffle=True,random_state = 230)\r\n",
        "# PCA\r\n",
        "pca = PCA(n_components=10)\r\n",
        "\r\n",
        "# For tracking metrics\r\n",
        "train_score,val_score,f1,prec,rec,roc_auc = [],[],[],[],[],[]\r\n",
        "\r\n",
        "for train_index, test_index in tqdm(kf.split(df_x)):\r\n",
        "  # Train-Validation Split\r\n",
        "  X_train, X_val = df_x.loc[train_index], df_x.loc[test_index]\r\n",
        "  y_train, y_val = np.array(df_y)[train_index], np.array(df_y)[test_index]\r\n",
        "\r\n",
        "  # PCA fitting and transformation of Training Data\r\n",
        "  pca_X_train = pca.fit_transform(X_train)\r\n",
        "\r\n",
        "  # PCA transformation of Validation Data\r\n",
        "  pca_X_val = pca.transform(X_val)\r\n",
        "\r\n",
        "  # Model Fitting using PCA transformed training data\r\n",
        "  lgbm_clf.fit(pca_X_train,y_train)\r\n",
        "\r\n",
        "  # Predict train labels\r\n",
        "  y_train_pred = lgbm_clf.predict(pca_X_train)\r\n",
        "  # Predict Probabilities for Validation\r\n",
        "  y_val_prob = lgbm_clf.predict_proba(pca_X_val)[:,1]\r\n",
        "  # Predict labels for Validation\r\n",
        "  # y_pred_val = lgbm_clf.predict(pca_X_val) \r\n",
        "  y_pred_val = (y_val_prob>0.2)*1\r\n",
        "\r\n",
        "\r\n",
        "  # Train Accuracy\r\n",
        "  train_score.append(accuracy_score(y_train,y_train_pred)) \r\n",
        "  # Validation Accuracy\r\n",
        "  val_score.append(accuracy_score(y_val,y_pred_val))\r\n",
        "  # F1 Score\r\n",
        "  f1.append(f1_score(y_val,y_pred_val))\r\n",
        "  # Precision\r\n",
        "  prec.append(precision_score(y_val,y_pred_val))\r\n",
        "  # Recall\r\n",
        "  rec.append(recall_score(y_val,y_pred_val))\r\n",
        "  # ROC AUC\r\n",
        "  roc_auc.append(roc_auc_score(y_val,y_val_prob))\r\n",
        "\r\n",
        "print('\\n')\r\n",
        "print('\\033[1mTraining Accuracy: \\033[0m' + str(np.mean(np.array(train_score)))+' +/- '+str(1.96*np.std(np.array(train_score))/np.sqrt(n_splits)))\r\n",
        "print('\\033[1mValidation Accuracy: \\033[0m'+ str(np.mean(np.array(val_score)))+' +/- '+str(1.96*np.std(np.array(val_score))/np.sqrt(n_splits)))\r\n",
        "print('\\033[1mF1 Score: \\033[0m' + str(np.mean(np.array(f1)))+' +/- '+str(1.96*np.std(np.array(f1))/np.sqrt(n_splits)))\r\n",
        "print('\\033[1mPrecision: \\033[0m'+str(np.mean(np.array(prec)))+' +/- '+str(1.96*np.std(np.array(prec))/np.sqrt(n_splits)))\r\n",
        "print('\\033[1mRecall: \\033[0m' + str(np.mean(np.array(rec)))+' +/- '+str(1.96*np.std(np.array(rec))/np.sqrt(n_splits)))\r\n",
        "print('\\033[1mROC AUC: \\033[0m' + str(np.mean(np.array(roc_auc)))+' +/- '+str(1.96*np.std(np.array(roc_auc))/np.sqrt(n_splits)))"
      ],
      "execution_count": 36,
      "outputs": [
        {
          "output_type": "stream",
          "text": [
            "10it [06:01, 36.16s/it]"
          ],
          "name": "stderr"
        },
        {
          "output_type": "stream",
          "text": [
            "\n",
            "\n",
            "\u001b[1mTraining Accuracy: \u001b[0m1.0 +/- 0.0\n",
            "\u001b[1mValidation Accuracy: \u001b[0m0.9864252046775649 +/- 0.0008528323387918677\n",
            "\u001b[1mF1 Score: \u001b[0m0.8926428352620066 +/- 0.007381654896401563\n",
            "\u001b[1mPrecision: \u001b[0m0.9340945823450866 +/- 0.0060790665387295256\n",
            "\u001b[1mRecall: \u001b[0m0.8550861558451306 +/- 0.01394369757251419\n",
            "\u001b[1mROC AUC: \u001b[0m0.9780731749913057 +/- 0.0020134067128612086\n"
          ],
          "name": "stdout"
        },
        {
          "output_type": "stream",
          "text": [
            "\n"
          ],
          "name": "stderr"
        }
      ]
    },
    {
      "cell_type": "markdown",
      "metadata": {
        "id": "TUualWe3NO6K"
      },
      "source": [
        "### Training the model with all data"
      ]
    },
    {
      "cell_type": "code",
      "metadata": {
        "colab": {
          "base_uri": "https://localhost:8080/"
        },
        "id": "E3-F5p0R_y9Q",
        "outputId": "4df9d82f-1cdc-4699-a4ff-77c26e98ff8b"
      },
      "source": [
        "lgbm_clf = LGBMClassifier(n_estimators=3300,\r\n",
        "                       max_depth=9,\r\n",
        "                       learning_rate=0.12, \r\n",
        "                       objective='binary',\r\n",
        "                       subsample=0.7,\r\n",
        "                       colsample_bytree=1.,\r\n",
        "                       num_parallel_tree = 10,\r\n",
        "                       scale_pos_weight=2.20,\r\n",
        "                       random_state=123,\r\n",
        "                       reg_alpha = 0,\r\n",
        "                       )\r\n",
        "#PCA Transformation of all data\r\n",
        "pca = PCA(n_components=10)\r\n",
        "pca_X_all = pca.fit_transform(df_x)\r\n",
        "#Fitting all data using LightGBM model\r\n",
        "lgbm_clf.fit(pca_X_all,np.array(df_y))"
      ],
      "execution_count": 38,
      "outputs": [
        {
          "output_type": "execute_result",
          "data": {
            "text/plain": [
              "LGBMClassifier(boosting_type='gbdt', class_weight=None, colsample_bytree=1.0,\n",
              "               importance_type='split', learning_rate=0.12, max_depth=9,\n",
              "               min_child_samples=20, min_child_weight=0.001, min_split_gain=0.0,\n",
              "               n_estimators=3300, n_jobs=-1, num_leaves=31,\n",
              "               num_parallel_tree=10, objective='binary', random_state=123,\n",
              "               reg_alpha=0, reg_lambda=0.0, scale_pos_weight=2.2, silent=True,\n",
              "               subsample=0.7, subsample_for_bin=200000, subsample_freq=0)"
            ]
          },
          "metadata": {
            "tags": []
          },
          "execution_count": 38
        }
      ]
    },
    {
      "cell_type": "markdown",
      "metadata": {
        "id": "VTDmCijDikbi"
      },
      "source": [
        "### One-Hot Encoding and PCA of Test Data"
      ]
    },
    {
      "cell_type": "code",
      "metadata": {
        "id": "TqBnjdKLi5G-"
      },
      "source": [
        "# OHE and PCA transformation of test data\r\n",
        "pca_test = pca.transform(pd.get_dummies(test_data))"
      ],
      "execution_count": 39,
      "outputs": []
    },
    {
      "cell_type": "markdown",
      "metadata": {
        "id": "8lCekTcPjfGy"
      },
      "source": [
        "### Predicting Test Labels"
      ]
    },
    {
      "cell_type": "code",
      "metadata": {
        "id": "ZkIK7uRpNle8"
      },
      "source": [
        "#Predicting Test dataset labels with 0.2 threshold \r\n",
        "y_pred_test = (lgbm_clf.predict_proba(pca_test)[:,1]>0.2)*1"
      ],
      "execution_count": 44,
      "outputs": []
    },
    {
      "cell_type": "code",
      "metadata": {
        "id": "BeOGKziPeDEL",
        "colab": {
          "base_uri": "https://localhost:8080/"
        },
        "outputId": "81fd12b8-741e-433f-c68a-01c33c19088f"
      },
      "source": [
        "# Counting the number of zeros and ones\r\n",
        "unique, counts = np.unique(y_pred_test, return_counts=True)\r\n",
        "count_labels = dict(zip(unique, counts))\r\n",
        "count_labels"
      ],
      "execution_count": 45,
      "outputs": [
        {
          "output_type": "execute_result",
          "data": {
            "text/plain": [
              "{0: 7134, 1: 12866}"
            ]
          },
          "metadata": {
            "tags": []
          },
          "execution_count": 45
        }
      ]
    },
    {
      "cell_type": "markdown",
      "metadata": {
        "id": "2THUM5kFqojV"
      },
      "source": [
        "As observed from the predictions of the test dataset, more than 64% of the data have predicted labels as Class 1, i.e., loan defaulter. "
      ]
    },
    {
      "cell_type": "code",
      "metadata": {
        "id": "xVTel9sGjpdm"
      },
      "source": [
        "# Saving Predictions\r\n",
        "np.savetxt('pred_y.csv',y_pred_test.astype(int),delimiter=\",\",header='Labels')"
      ],
      "execution_count": 46,
      "outputs": []
    },
    {
      "cell_type": "markdown",
      "metadata": {
        "id": "UwSohpTSebOO"
      },
      "source": [
        "## Feature Importances obtained using LightGBM Classifier"
      ]
    },
    {
      "cell_type": "markdown",
      "metadata": {
        "id": "KVMM8c_se6QF"
      },
      "source": [
        "Earlier, the Light Gradient Boosting Classifier was trained on a PCA transformed data. In order to determine the importance of features determined by LGBM, we again train using the Raw data."
      ]
    },
    {
      "cell_type": "markdown",
      "metadata": {
        "id": "N0GRcKiBmgkN"
      },
      "source": [
        "### Determining Feature Importance"
      ]
    },
    {
      "cell_type": "code",
      "metadata": {
        "id": "hdoyl1wXe2N0",
        "colab": {
          "base_uri": "https://localhost:8080/"
        },
        "outputId": "64213b1c-baf3-4167-93d7-9ad89a961d6d"
      },
      "source": [
        "# Training model on raw data\r\n",
        "X = np.array(x_matrix)\r\n",
        "y = np.array(df_y)\r\n",
        "lgbm_clf.fit(X,np.array(df_y))"
      ],
      "execution_count": 47,
      "outputs": [
        {
          "output_type": "execute_result",
          "data": {
            "text/plain": [
              "LGBMClassifier(boosting_type='gbdt', class_weight=None, colsample_bytree=1.0,\n",
              "               importance_type='split', learning_rate=0.12, max_depth=9,\n",
              "               min_child_samples=20, min_child_weight=0.001, min_split_gain=0.0,\n",
              "               n_estimators=3300, n_jobs=-1, num_leaves=31,\n",
              "               num_parallel_tree=10, objective='binary', random_state=123,\n",
              "               reg_alpha=0, reg_lambda=0.0, scale_pos_weight=2.2, silent=True,\n",
              "               subsample=0.7, subsample_for_bin=200000, subsample_freq=0)"
            ]
          },
          "metadata": {
            "tags": []
          },
          "execution_count": 47
        }
      ]
    },
    {
      "cell_type": "code",
      "metadata": {
        "id": "r6Qa2u7nnTKk",
        "colab": {
          "base_uri": "https://localhost:8080/",
          "height": 733
        },
        "outputId": "8dd987ae-789e-4898-d7c9-ea1670e27fbd"
      },
      "source": [
        "# Obtain scores of features\r\n",
        "feature_scores = lgbm_clf.feature_importances_\r\n",
        "importance = pd.DataFrame({'Feature': fx.columns , 'Importance': feature_scores})\r\n",
        "importance = importance.sort_values(by='Importance', ascending=True)\r\n",
        "importance = importance.set_index(importance['Feature'])\r\n",
        "\r\n",
        "# Plot horizontal bar plot\r\n",
        "plt.figure(figsize=(10,12))\r\n",
        "importance['Importance'].plot.barh()\r\n",
        "plt.title('Feature Importances')\r\n",
        "plt.grid()\r\n",
        "plt.show()\r\n",
        "plt.savefig('FeatImpRaw.png',dpi = 400)"
      ],
      "execution_count": 52,
      "outputs": [
        {
          "output_type": "display_data",
          "data": {
            "image/png": "[encoded data removed]",
            "text/plain": [
              "<Figure size 720x864 with 1 Axes>"
            ]
          },
          "metadata": {
            "tags": [],
            "needs_background": "light"
          }
        },
        {
          "output_type": "display_data",
          "data": {
            "text/plain": [
              "<Figure size 432x288 with 0 Axes>"
            ]
          },
          "metadata": {
            "tags": []
          }
        }
      ]
    }
  ]
}