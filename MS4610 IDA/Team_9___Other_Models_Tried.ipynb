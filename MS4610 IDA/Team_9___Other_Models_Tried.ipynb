{
  "nbformat": 4,
  "nbformat_minor": 0,
  "metadata": {
    "colab": {
      "name": "Team 9 _ Other Models Tried.ipynb",
      "provenance": [],
      "collapsed_sections": [],
      "toc_visible": true
    },
    "kernelspec": {
      "display_name": "Python 3",
      "language": "python",
      "name": "python3"
    },
    "language_info": {
      "codemirror_mode": {
        "name": "ipython",
        "version": 3
      },
      "file_extension": ".py",
      "mimetype": "text/x-python",
      "name": "python",
      "nbconvert_exporter": "python",
      "pygments_lexer": "ipython3",
      "version": "3.8.3"
    }
  },
  "cells": [
    {
      "cell_type": "markdown",
      "metadata": {
        "id": "opQFGlGMtJ1u"
      },
      "source": [
        "# Team 9 | Project - Loan Default Prediction"
      ]
    },
    {
      "cell_type": "markdown",
      "metadata": {
        "id": "knK5Re08s4zN"
      },
      "source": [
        "**This notebook contains the codes and results of other models that we tried initially in order to narrow down to the best classifier. We have not used PCA for this analysis**"
      ]
    },
    {
      "cell_type": "markdown",
      "metadata": {
        "id": "kslyy_IvaPLs"
      },
      "source": [
        "## Importing Packages"
      ]
    },
    {
      "cell_type": "code",
      "metadata": {
        "id": "W_PpfvRpppOV"
      },
      "source": [
        "import numpy as np\n",
        "import pandas as pd\n",
        "import matplotlib.pyplot as plt\n",
        "from sklearn.tree import DecisionTreeClassifier\n",
        "from sklearn.ensemble import RandomForestClassifier, ExtraTreesClassifier\n",
        "from sklearn.decomposition import PCA\n",
        "from sklearn.experimental import enable_iterative_imputer\n",
        "from sklearn.impute import SimpleImputer, KNNImputer, IterativeImputer\n",
        "from sklearn.svm import SVC\n",
        "from sklearn.neighbors import KNeighborsClassifier\n",
        "from sklearn.linear_model import LogisticRegression\n",
        "from sklearn.model_selection import cross_validate, StratifiedKFold, KFold\n",
        "from sklearn.ensemble import AdaBoostClassifier, GradientBoostingClassifier, VotingClassifier\n",
        "from sklearn.model_selection import train_test_split\n",
        "from sklearn.neural_network import MLPClassifier\n",
        "from sklearn.model_selection import GridSearchCV\n",
        "from sklearn.preprocessing import LabelEncoder, StandardScaler\n",
        "from sklearn.metrics import accuracy_score,f1_score,confusion_matrix,precision_score,recall_score,roc_auc_score,roc_curve\n",
        "from xgboost import XGBClassifier\n",
        "# from catboost import CatBoostClassifier, Pool, cv\n",
        "from lightgbm import LGBMClassifier\n",
        "from tqdm import tqdm\n",
        "import seaborn as sns\n",
        "%matplotlib inline\n",
        "import warnings\n",
        "warnings.filterwarnings('ignore')"
      ],
      "execution_count": 37,
      "outputs": []
    },
    {
      "cell_type": "code",
      "metadata": {
        "colab": {
          "base_uri": "https://localhost:8080/"
        },
        "id": "XK5wLOA4q9Jg",
        "outputId": "6dcf2817-263b-4d84-b423-ea25434ab894"
      },
      "source": [
        "from google.colab import drive\n",
        "drive.mount('/content/drive')"
      ],
      "execution_count": 38,
      "outputs": [
        {
          "output_type": "stream",
          "text": [
            "Drive already mounted at /content/drive; to attempt to forcibly remount, call drive.mount(\"/content/drive\", force_remount=True).\n"
          ],
          "name": "stdout"
        }
      ]
    },
    {
      "cell_type": "markdown",
      "metadata": {
        "id": "vmgonomSaHs4"
      },
      "source": [
        "## Loading Training and Test Data"
      ]
    },
    {
      "cell_type": "code",
      "metadata": {
        "id": "jH958-ZVrFVI"
      },
      "source": [
        "fx = pd.read_csv(\"/content/drive/MyDrive/MyPC/Sem 7/IDA project/train_x.csv\").set_index('ID')\r\n",
        "fy = pd.read_csv(\"/content/drive/MyDrive/MyPC/Sem 7/IDA project/train_y.csv\").set_index('ID')\r\n",
        "test_data = pd.read_csv(\"/content/drive/MyDrive/MyPC/Sem 7/IDA project/test_x.csv\").set_index('ID_Test')"
      ],
      "execution_count": 39,
      "outputs": []
    },
    {
      "cell_type": "markdown",
      "metadata": {
        "id": "TI5IYr5Vr47q"
      },
      "source": [
        "## Imputation of Categorical and Ordinal Features"
      ]
    },
    {
      "cell_type": "markdown",
      "metadata": {
        "id": "yxNavec-xLPw"
      },
      "source": [
        "The Ordinal (Age) and Categorical features (Loan Type, Occupation Type) were imputed with the most frequent value corresponding to the class"
      ]
    },
    {
      "cell_type": "code",
      "metadata": {
        "colab": {
          "base_uri": "https://localhost:8080/"
        },
        "id": "wJEfpMEjjPOg",
        "outputId": "d94be9bc-738b-444f-82b6-539e00c0ed15"
      },
      "source": [
        "from scipy import stats\r\n",
        "print('Most Frequent Age for Class 0: ',stats.mode(fx['Age'].loc[(fy==0)['Label']])[0][0])\r\n",
        "print('Most Frequent Loan Type for Class 0: ',stats.mode(fx['Loan type'].loc[(fy==0)['Label']])[0][0])\r\n",
        "print('Most Frequent Occupation Type for Class 0: ',stats.mode(fx['Occupation type'].loc[(fy==0)['Label']])[0][0])\r\n",
        "print()\r\n",
        "print('Most Frequent Age for Class 1: ',stats.mode(fx['Age'].loc[(fy==1)['Label']])[0][0])\r\n",
        "print('Most Frequent Loan Type for Class 1: ',stats.mode(fx['Loan type'].loc[(fy==1)['Label']])[0][0])\r\n",
        "print('Most Frequent Occupation Type for Class 1: ',stats.mode(fx['Occupation type'].loc[(fy==1)['Label']])[0][0])"
      ],
      "execution_count": 40,
      "outputs": [
        {
          "output_type": "stream",
          "text": [
            "Most Frequent Age for Class 0:  0.0\n",
            "Most Frequent Loan Type for Class 0:  A\n",
            "Most Frequent Occupation Type for Class 0:  Y\n",
            "\n",
            "Most Frequent Age for Class 1:  1.0\n",
            "Most Frequent Loan Type for Class 1:  B\n",
            "Most Frequent Occupation Type for Class 1:  Y\n"
          ],
          "name": "stdout"
        }
      ]
    },
    {
      "cell_type": "code",
      "metadata": {
        "id": "iIEBBBeyokFc"
      },
      "source": [
        "#Age Feature\r\n",
        "id = fx['Age'][np.isnan(fx['Age'])].index\r\n",
        "id1 = fx['Age'][np.isnan(fx['Age'])][(fy.loc[np.array(id)] == 0)['Label']].index \r\n",
        "fx['Age'].loc[id1] = fx['Age'][np.isnan(fx['Age'])][(fy.loc[np.array(id)] == 0)['Label']].replace(np.nan, 0)\r\n",
        "\r\n",
        "id2 = fx['Age'][np.isnan(fx['Age'])][(fy.loc[np.array(id)] == 1)['Label']].index \r\n",
        "fx['Age'].loc[id2] = fx['Age'][np.isnan(fx['Age'])][(fy.loc[np.array(id)] == 1)['Label']].replace(np.nan, 1)\r\n",
        "\r\n",
        "#Loan Type Feature\r\n",
        "id =  fx['Loan type'][pd.isnull(fx['Loan type'])].index\r\n",
        "\r\n",
        "id1 = fx['Loan type'][pd.isnull(fx['Loan type'])][(fy.loc[np.array(id)] == 0)['Label']].index \r\n",
        "fx['Loan type'].loc[id1] = fx['Loan type'][pd.isnull(fx['Loan type'])][(fy.loc[np.array(id)] == 0)['Label']].replace(np.nan, 'A')\r\n",
        "\r\n",
        "id2 = fx['Loan type'][pd.isnull(fx['Loan type'])][(fy.loc[np.array(id)] == 1)['Label']].index \r\n",
        "fx['Loan type'].loc[id2] = fx['Loan type'][pd.isnull(fx['Loan type'])][(fy.loc[np.array(id)] == 1)['Label']].replace(np.nan, 'B')\r\n",
        "\r\n",
        "#Occupation Type Feature\r\n",
        "id =  fx['Occupation type'][pd.isnull(fx['Occupation type'])].index\r\n",
        "fx['Occupation type'].loc[id] =  fx['Occupation type'].loc[id].replace(np.nan,'Y')"
      ],
      "execution_count": 41,
      "outputs": []
    },
    {
      "cell_type": "markdown",
      "metadata": {
        "id": "FfeyorcCWDsZ"
      },
      "source": [
        "## Iterative Imputation for Numerical Features"
      ]
    },
    {
      "cell_type": "code",
      "metadata": {
        "colab": {
          "base_uri": "https://localhost:8080/"
        },
        "id": "h7VeePb4ppOl",
        "outputId": "f91ac6c2-8d7b-4eaf-eb67-1bf9386630ee"
      },
      "source": [
        "# Iterative imputer\n",
        "imp = IterativeImputer(missing_values = np.nan, max_iter = 10, random_state = 42,verbose=1)\n",
        "\n",
        "# One Hot Encoding of categorical features Loan Type and Occupation Type\n",
        "fx_loan_type = pd.get_dummies(fx['Loan type'], prefix = 'Loan type')\n",
        "fx_occupation = pd.get_dummies(fx['Occupation type'], prefix = 'Occupation type')\n",
        "\n",
        "cols = list(fx.columns);\n",
        "cols.remove('Loan type'); cols.remove('Occupation type');\n",
        "\n",
        "fx = pd.concat([fx[cols], fx_loan_type, fx_occupation],axis = 1)\n",
        "imp.fit(fx)\n",
        "p = list(imp.transform(fx))\n",
        "y = list(fy['Label'])"
      ],
      "execution_count": 42,
      "outputs": [
        {
          "output_type": "stream",
          "text": [
            "[IterativeImputer] Completing matrix with shape (80000, 13)\n",
            "[IterativeImputer] Change: 4072.2446953765193, scaled tolerance: 20.72891533 \n",
            "[IterativeImputer] Change: 4066.959594631126, scaled tolerance: 20.72891533 \n",
            "[IterativeImputer] Change: 760.2445291387521, scaled tolerance: 20.72891533 \n",
            "[IterativeImputer] Change: 548.4206595597784, scaled tolerance: 20.72891533 \n",
            "[IterativeImputer] Change: 397.30854102846934, scaled tolerance: 20.72891533 \n",
            "[IterativeImputer] Change: 253.810880458469, scaled tolerance: 20.72891533 \n",
            "[IterativeImputer] Change: 191.99084863988764, scaled tolerance: 20.72891533 \n",
            "[IterativeImputer] Change: 254.86686987255734, scaled tolerance: 20.72891533 \n",
            "[IterativeImputer] Change: 34.70309814903885, scaled tolerance: 20.72891533 \n",
            "[IterativeImputer] Change: 17.867956365225382, scaled tolerance: 20.72891533 \n",
            "[IterativeImputer] Early stopping criterion reached.\n",
            "[IterativeImputer] Completing matrix with shape (80000, 13)\n"
          ],
          "name": "stdout"
        }
      ]
    },
    {
      "cell_type": "markdown",
      "metadata": {
        "id": "r4_0KBmZTT7s"
      },
      "source": [
        "## Preprocessing and Nonlinear Feature Transformation"
      ]
    },
    {
      "cell_type": "markdown",
      "metadata": {
        "id": "r-4o7ykVdjyc"
      },
      "source": [
        "We have included only those data points that have proper labels, and ignored those that have missing labels."
      ]
    },
    {
      "cell_type": "code",
      "metadata": {
        "id": "H0WVM00YdicN"
      },
      "source": [
        "# Including values that have labels in the final dataset\r\n",
        "x_matrix = []\r\n",
        "y_matrix = []\r\n",
        "for i in range(len(p)):\r\n",
        "    if fy['Label'][i+1] in [0,1]:\r\n",
        "      x_matrix.append(p[i])\r\n",
        "      y_matrix.append(y[i])\r\n",
        "\r\n",
        "df_x = pd.DataFrame(x_matrix, columns = fx.columns)\r\n",
        "df_y = y_matrix"
      ],
      "execution_count": 43,
      "outputs": []
    },
    {
      "cell_type": "markdown",
      "metadata": {
        "id": "37XzaVs6UVVr"
      },
      "source": [
        "## Other Approaches (apart from the best LGBM model)"
      ]
    },
    {
      "cell_type": "markdown",
      "metadata": {
        "id": "1S3ZiChhDOAi"
      },
      "source": [
        "### Train-Validation Split"
      ]
    },
    {
      "cell_type": "code",
      "metadata": {
        "id": "4yzxBBw6HGNI"
      },
      "source": [
        "X_train, X_val, y_train, y_val = train_test_split(np.array(x_matrix), df_y, test_size = 0.2,random_state = 42)"
      ],
      "execution_count": 46,
      "outputs": []
    },
    {
      "cell_type": "markdown",
      "metadata": {
        "id": "TkohT3D-Vujg"
      },
      "source": [
        "### Random Forest"
      ]
    },
    {
      "cell_type": "code",
      "metadata": {
        "colab": {
          "base_uri": "https://localhost:8080/"
        },
        "id": "kOlyQuzCppOl",
        "outputId": "30015a2c-7a87-47b1-b5b9-0968158f5b19"
      },
      "source": [
        "RF_classifier = RandomForestClassifier(n_estimators=100)\n",
        "RF_classifier.fit(X_train, y_train)"
      ],
      "execution_count": 47,
      "outputs": [
        {
          "output_type": "execute_result",
          "data": {
            "text/plain": [
              "RandomForestClassifier(bootstrap=True, ccp_alpha=0.0, class_weight=None,\n",
              "                       criterion='gini', max_depth=None, max_features='auto',\n",
              "                       max_leaf_nodes=None, max_samples=None,\n",
              "                       min_impurity_decrease=0.0, min_impurity_split=None,\n",
              "                       min_samples_leaf=1, min_samples_split=2,\n",
              "                       min_weight_fraction_leaf=0.0, n_estimators=100,\n",
              "                       n_jobs=None, oob_score=False, random_state=None,\n",
              "                       verbose=0, warm_start=False)"
            ]
          },
          "metadata": {
            "tags": []
          },
          "execution_count": 47
        }
      ]
    },
    {
      "cell_type": "code",
      "metadata": {
        "id": "sG_JGiJoQHxB"
      },
      "source": [
        "y_pred_train = RF_classifier.predict(X_train)\r\n",
        "y_pred_val = RF_classifier.predict(X_val)\r\n",
        "y_pred_prob = RF_classifier.predict_proba(X_val)\r\n",
        "roc_RF = roc_curve(y_val, y_pred_prob[:,1])"
      ],
      "execution_count": 48,
      "outputs": []
    },
    {
      "cell_type": "code",
      "metadata": {
        "colab": {
          "base_uri": "https://localhost:8080/",
          "height": 174
        },
        "id": "45axttdTQKmP",
        "outputId": "d4ddd65a-289b-4e63-abed-c5647d897a25"
      },
      "source": [
        "print('Validation Accuracy: ',accuracy_score(y_val,y_pred_val))\r\n",
        "print('F1 Score Accuracy: ',f1_score(y_val,y_pred_val))\r\n",
        "print('ROC AUC: ',roc_auc_score(y_val,y_pred_prob[:,1]))\r\n",
        "print('Confusion Matrix:')\r\n",
        "pd.DataFrame(confusion_matrix(y_val,y_pred_val))"
      ],
      "execution_count": 49,
      "outputs": [
        {
          "output_type": "stream",
          "text": [
            "Validation Accuracy:  0.9837056504599212\n",
            "F1 Score Accuracy:  0.8603603603603602\n",
            "ROC AUC:  0.9713606601248368\n",
            "Confusion Matrix:\n"
          ],
          "name": "stdout"
        },
        {
          "output_type": "execute_result",
          "data": {
            "text/html": [
              "<div>\n",
              "<style scoped>\n",
              "    .dataframe tbody tr th:only-of-type {\n",
              "        vertical-align: middle;\n",
              "    }\n",
              "\n",
              "    .dataframe tbody tr th {\n",
              "        vertical-align: top;\n",
              "    }\n",
              "\n",
              "    .dataframe thead th {\n",
              "        text-align: right;\n",
              "    }\n",
              "</style>\n",
              "<table border=\"1\" class=\"dataframe\">\n",
              "  <thead>\n",
              "    <tr style=\"text-align: right;\">\n",
              "      <th></th>\n",
              "      <th>0</th>\n",
              "      <th>1</th>\n",
              "    </tr>\n",
              "  </thead>\n",
              "  <tbody>\n",
              "    <tr>\n",
              "      <th>0</th>\n",
              "      <td>14208</td>\n",
              "      <td>44</td>\n",
              "    </tr>\n",
              "    <tr>\n",
              "      <th>1</th>\n",
              "      <td>204</td>\n",
              "      <td>764</td>\n",
              "    </tr>\n",
              "  </tbody>\n",
              "</table>\n",
              "</div>"
            ],
            "text/plain": [
              "       0    1\n",
              "0  14208   44\n",
              "1    204  764"
            ]
          },
          "metadata": {
            "tags": []
          },
          "execution_count": 49
        }
      ]
    },
    {
      "cell_type": "markdown",
      "metadata": {
        "id": "tc0JR1xWVAOT"
      },
      "source": [
        "### Adaboost with RF as base estimator"
      ]
    },
    {
      "cell_type": "code",
      "metadata": {
        "id": "8yn-FU0XpcEf",
        "colab": {
          "base_uri": "https://localhost:8080/"
        },
        "outputId": "17dc6f15-6235-45c3-90e0-c19c9ee6f2b5"
      },
      "source": [
        "clf_RF = RandomForestClassifier(n_estimators=50,max_depth=10,verbose=0,n_jobs=4)\r\n",
        "clf_ada = AdaBoostClassifier(n_estimators=100, random_state=0,base_estimator=clf_RF)\r\n",
        "clf_ada.fit(X_train, y_train)"
      ],
      "execution_count": 82,
      "outputs": [
        {
          "output_type": "execute_result",
          "data": {
            "text/plain": [
              "AdaBoostClassifier(algorithm='SAMME.R',\n",
              "                   base_estimator=RandomForestClassifier(bootstrap=True,\n",
              "                                                         ccp_alpha=0.0,\n",
              "                                                         class_weight=None,\n",
              "                                                         criterion='gini',\n",
              "                                                         max_depth=10,\n",
              "                                                         max_features='auto',\n",
              "                                                         max_leaf_nodes=None,\n",
              "                                                         max_samples=None,\n",
              "                                                         min_impurity_decrease=0.0,\n",
              "                                                         min_impurity_split=None,\n",
              "                                                         min_samples_leaf=1,\n",
              "                                                         min_samples_split=2,\n",
              "                                                         min_weight_fraction_leaf=0.0,\n",
              "                                                         n_estimators=50,\n",
              "                                                         n_jobs=4,\n",
              "                                                         oob_score=False,\n",
              "                                                         random_state=None,\n",
              "                                                         verbose=0,\n",
              "                                                         warm_start=False),\n",
              "                   learning_rate=1.0, n_estimators=100, random_state=0)"
            ]
          },
          "metadata": {
            "tags": []
          },
          "execution_count": 82
        }
      ]
    },
    {
      "cell_type": "code",
      "metadata": {
        "id": "Ia1drdIXSK2z"
      },
      "source": [
        "y_pred_train = clf_ada.predict(X_train)\r\n",
        "y_pred_val = clf_ada.predict(X_val)\r\n",
        "y_pred_prob = clf_ada.predict_proba(X_val)\r\n",
        "roc_ada = roc_curve(y_val, y_pred_prob[:,1])"
      ],
      "execution_count": 83,
      "outputs": []
    },
    {
      "cell_type": "code",
      "metadata": {
        "colab": {
          "base_uri": "https://localhost:8080/",
          "height": 174
        },
        "id": "pzCPbrO9AVqB",
        "outputId": "83694ae9-c2cd-411d-ba58-479d4e039159"
      },
      "source": [
        "print('Validation Accuracy: ',accuracy_score(y_val,y_pred_val))\r\n",
        "print('F1 Score: ',f1_score(y_val,y_pred_val))\r\n",
        "print('ROC AUC: ',roc_auc_score(y_val,y_pred_prob[:,1]))\r\n",
        "print('Confusion Matrix:')\r\n",
        "pd.DataFrame(confusion_matrix(y_val,y_pred_val))"
      ],
      "execution_count": 52,
      "outputs": [
        {
          "output_type": "stream",
          "text": [
            "Validation Accuracy:  0.9847568988173456\n",
            "F1 Score:  0.8681818181818182\n",
            "ROC AUC:  0.9747515500216876\n",
            "Confusion Matrix:\n"
          ],
          "name": "stdout"
        },
        {
          "output_type": "execute_result",
          "data": {
            "text/html": [
              "<div>\n",
              "<style scoped>\n",
              "    .dataframe tbody tr th:only-of-type {\n",
              "        vertical-align: middle;\n",
              "    }\n",
              "\n",
              "    .dataframe tbody tr th {\n",
              "        vertical-align: top;\n",
              "    }\n",
              "\n",
              "    .dataframe thead th {\n",
              "        text-align: right;\n",
              "    }\n",
              "</style>\n",
              "<table border=\"1\" class=\"dataframe\">\n",
              "  <thead>\n",
              "    <tr style=\"text-align: right;\">\n",
              "      <th></th>\n",
              "      <th>0</th>\n",
              "      <th>1</th>\n",
              "    </tr>\n",
              "  </thead>\n",
              "  <tbody>\n",
              "    <tr>\n",
              "      <th>0</th>\n",
              "      <td>14224</td>\n",
              "      <td>28</td>\n",
              "    </tr>\n",
              "    <tr>\n",
              "      <th>1</th>\n",
              "      <td>204</td>\n",
              "      <td>764</td>\n",
              "    </tr>\n",
              "  </tbody>\n",
              "</table>\n",
              "</div>"
            ],
            "text/plain": [
              "       0    1\n",
              "0  14224   28\n",
              "1    204  764"
            ]
          },
          "metadata": {
            "tags": []
          },
          "execution_count": 52
        }
      ]
    },
    {
      "cell_type": "markdown",
      "metadata": {
        "id": "oBcDytFZ8SzX"
      },
      "source": [
        "### XGBoost"
      ]
    },
    {
      "cell_type": "code",
      "metadata": {
        "colab": {
          "base_uri": "https://localhost:8080/"
        },
        "id": "8Ts5VDaQ8WOD",
        "outputId": "aaa1bb4b-622d-460e-ce51-879e9a910c89"
      },
      "source": [
        "xgb_clf = XGBClassifier(n_estimators=500,\r\n",
        "                      max_depth=15,\r\n",
        "                      learning_rate=0.12,\r\n",
        "                      objective='binary:logistic',\r\n",
        "                      subsample=0.7,\r\n",
        "                      colsample_bytree=0.7,\r\n",
        "                      scale_pos_weight=2.20,\r\n",
        "                      # num_parallel_tree = 10,\r\n",
        "                      random_state=123,verbosity=1)\r\n",
        "xgb_clf.fit(X_train,y_train)"
      ],
      "execution_count": 53,
      "outputs": [
        {
          "output_type": "execute_result",
          "data": {
            "text/plain": [
              "XGBClassifier(base_score=0.5, booster='gbtree', colsample_bylevel=1,\n",
              "              colsample_bynode=1, colsample_bytree=0.7, gamma=0,\n",
              "              learning_rate=0.12, max_delta_step=0, max_depth=15,\n",
              "              min_child_weight=1, missing=None, n_estimators=500, n_jobs=1,\n",
              "              nthread=None, objective='binary:logistic', random_state=123,\n",
              "              reg_alpha=0, reg_lambda=1, scale_pos_weight=2.2, seed=None,\n",
              "              silent=None, subsample=0.7, verbosity=1)"
            ]
          },
          "metadata": {
            "tags": []
          },
          "execution_count": 53
        }
      ]
    },
    {
      "cell_type": "code",
      "metadata": {
        "id": "b24e9Wpu9TY6"
      },
      "source": [
        "y_pred_train = xgb_clf.predict(X_train)\r\n",
        "y_pred_val = xgb_clf.predict(X_val)\r\n",
        "y_pred_prob = xgb_clf.predict_proba(X_val)\r\n",
        "roc_XG = roc_curve(y_val, y_pred_prob[:,1])"
      ],
      "execution_count": 86,
      "outputs": []
    },
    {
      "cell_type": "code",
      "metadata": {
        "colab": {
          "base_uri": "https://localhost:8080/",
          "height": 174
        },
        "id": "uomGBIPZ9W_1",
        "outputId": "4499585f-b73d-4b30-8966-b900ca5c3e4b"
      },
      "source": [
        "print('Validation Accuracy: ',accuracy_score(y_val,y_pred_val))\r\n",
        "print('F1 Score: ',f1_score(y_val,y_pred_val))\r\n",
        "print('ROC AUC: ',roc_auc_score(y_val,y_pred_prob[:,1]))\r\n",
        "print('Confusion Matrix:')\r\n",
        "pd.DataFrame(confusion_matrix(y_val,y_pred_val))"
      ],
      "execution_count": 55,
      "outputs": [
        {
          "output_type": "stream",
          "text": [
            "Validation Accuracy:  0.9854139290407359\n",
            "F1 Score:  0.8776185226019846\n",
            "ROC AUC:  0.9727624859958759\n",
            "Confusion Matrix:\n"
          ],
          "name": "stdout"
        },
        {
          "output_type": "execute_result",
          "data": {
            "text/html": [
              "<div>\n",
              "<style scoped>\n",
              "    .dataframe tbody tr th:only-of-type {\n",
              "        vertical-align: middle;\n",
              "    }\n",
              "\n",
              "    .dataframe tbody tr th {\n",
              "        vertical-align: top;\n",
              "    }\n",
              "\n",
              "    .dataframe thead th {\n",
              "        text-align: right;\n",
              "    }\n",
              "</style>\n",
              "<table border=\"1\" class=\"dataframe\">\n",
              "  <thead>\n",
              "    <tr style=\"text-align: right;\">\n",
              "      <th></th>\n",
              "      <th>0</th>\n",
              "      <th>1</th>\n",
              "    </tr>\n",
              "  </thead>\n",
              "  <tbody>\n",
              "    <tr>\n",
              "      <th>0</th>\n",
              "      <td>14202</td>\n",
              "      <td>50</td>\n",
              "    </tr>\n",
              "    <tr>\n",
              "      <th>1</th>\n",
              "      <td>172</td>\n",
              "      <td>796</td>\n",
              "    </tr>\n",
              "  </tbody>\n",
              "</table>\n",
              "</div>"
            ],
            "text/plain": [
              "       0    1\n",
              "0  14202   50\n",
              "1    172  796"
            ]
          },
          "metadata": {
            "tags": []
          },
          "execution_count": 55
        }
      ]
    },
    {
      "cell_type": "markdown",
      "metadata": {
        "id": "mheCSJBPEYpq"
      },
      "source": [
        "### Light Gradient Boosting Classifier"
      ]
    },
    {
      "cell_type": "code",
      "metadata": {
        "colab": {
          "base_uri": "https://localhost:8080/"
        },
        "id": "9LX1_HyVEXWW",
        "outputId": "26959a94-bd65-4a6f-8021-49bf92984567"
      },
      "source": [
        "lgbm_clf = LGBMClassifier(n_estimators=1500,\r\n",
        "                       max_depth=14,\r\n",
        "                       learning_rate=0.12, \r\n",
        "                       objective='binary',\r\n",
        "                       subsample=0.6,\r\n",
        "                       colsample_bytree=1.,\r\n",
        "                       num_parallel_tree = 10,\r\n",
        "                       scale_pos_weight=2.20,\r\n",
        "                       random_state=123,\r\n",
        "                       reg_alpha = 0\r\n",
        "                       )\r\n",
        "lgbm_clf.fit(X_train,y_train)"
      ],
      "execution_count": 65,
      "outputs": [
        {
          "output_type": "execute_result",
          "data": {
            "text/plain": [
              "LGBMClassifier(boosting_type='gbdt', class_weight=None, colsample_bytree=1.0,\n",
              "               importance_type='split', learning_rate=0.12, max_depth=14,\n",
              "               min_child_samples=20, min_child_weight=0.001, min_split_gain=0.0,\n",
              "               n_estimators=1500, n_jobs=-1, num_leaves=31,\n",
              "               num_parallel_tree=10, objective='binary', random_state=123,\n",
              "               reg_alpha=0, reg_lambda=0.0, scale_pos_weight=2.2, silent=True,\n",
              "               subsample=0.6, subsample_for_bin=200000, subsample_freq=0)"
            ]
          },
          "metadata": {
            "tags": []
          },
          "execution_count": 65
        }
      ]
    },
    {
      "cell_type": "code",
      "metadata": {
        "id": "HqPALCRQEyi_"
      },
      "source": [
        "y_pred_train = lgbm_clf.predict(X_train)\r\n",
        "y_pred_val = lgbm_clf.predict(X_val)\r\n",
        "y_pred_prob = lgbm_clf.predict_proba(X_val)\r\n",
        "roc_LGBM = roc_curve(y_val, y_pred_prob[:,1])"
      ],
      "execution_count": 67,
      "outputs": []
    },
    {
      "cell_type": "code",
      "metadata": {
        "colab": {
          "base_uri": "https://localhost:8080/",
          "height": 174
        },
        "id": "7vcDj84zFBwa",
        "outputId": "bc108c81-8f32-4bb2-b237-721c27f22e95"
      },
      "source": [
        "print('Validation Accuracy: ',accuracy_score(y_val,y_pred_val))\r\n",
        "print('F1 Score: ',f1_score(y_val,y_pred_val))\r\n",
        "print('ROC AUC: ',roc_auc_score(y_val,y_pred_prob[:,1]))\r\n",
        "print('Confusion Matrix:')\r\n",
        "pd.DataFrame(confusion_matrix(y_val,y_pred_val))"
      ],
      "execution_count": 68,
      "outputs": [
        {
          "output_type": "stream",
          "text": [
            "Validation Accuracy:  0.9862023653088042\n",
            "F1 Score:  0.8838495575221239\n",
            "ROC AUC:  0.9758106300290172\n",
            "Confusion Matrix:\n"
          ],
          "name": "stdout"
        },
        {
          "output_type": "execute_result",
          "data": {
            "text/html": [
              "<div>\n",
              "<style scoped>\n",
              "    .dataframe tbody tr th:only-of-type {\n",
              "        vertical-align: middle;\n",
              "    }\n",
              "\n",
              "    .dataframe tbody tr th {\n",
              "        vertical-align: top;\n",
              "    }\n",
              "\n",
              "    .dataframe thead th {\n",
              "        text-align: right;\n",
              "    }\n",
              "</style>\n",
              "<table border=\"1\" class=\"dataframe\">\n",
              "  <thead>\n",
              "    <tr style=\"text-align: right;\">\n",
              "      <th></th>\n",
              "      <th>0</th>\n",
              "      <th>1</th>\n",
              "    </tr>\n",
              "  </thead>\n",
              "  <tbody>\n",
              "    <tr>\n",
              "      <th>0</th>\n",
              "      <td>14211</td>\n",
              "      <td>41</td>\n",
              "    </tr>\n",
              "    <tr>\n",
              "      <th>1</th>\n",
              "      <td>169</td>\n",
              "      <td>799</td>\n",
              "    </tr>\n",
              "  </tbody>\n",
              "</table>\n",
              "</div>"
            ],
            "text/plain": [
              "       0    1\n",
              "0  14211   41\n",
              "1    169  799"
            ]
          },
          "metadata": {
            "tags": []
          },
          "execution_count": 68
        }
      ]
    },
    {
      "cell_type": "markdown",
      "metadata": {
        "id": "GMLAPH00OGaF"
      },
      "source": [
        "### Gradient Boosting Classifier"
      ]
    },
    {
      "cell_type": "code",
      "metadata": {
        "colab": {
          "base_uri": "https://localhost:8080/"
        },
        "id": "LSUWNHwLOF9U",
        "outputId": "2b4111d2-2458-46fd-f00f-3ac6f071d16d"
      },
      "source": [
        "clf_GBC = GradientBoostingClassifier(n_estimators=600, learning_rate=0.5, max_depth=5, random_state=0,verbose=1,min_samples_leaf = 1000).fit(X_train, y_train)"
      ],
      "execution_count": 69,
      "outputs": [
        {
          "output_type": "stream",
          "text": [
            "      Iter       Train Loss   Remaining Time \n",
            "         1           0.3377            3.96m\n",
            "         2           0.2757            3.89m\n",
            "         3           0.2398            3.91m\n",
            "         4           0.2214            3.95m\n",
            "         5           0.2027            3.89m\n",
            "         6           0.1827            3.88m\n",
            "         7           0.1746            3.84m\n",
            "         8           0.1714            3.84m\n",
            "         9           0.1684            3.84m\n",
            "        10           0.1572            3.81m\n",
            "        20           0.1319            3.71m\n",
            "        30           0.1153            3.64m\n",
            "        40           0.1064            3.56m\n",
            "        50           0.0977            3.49m\n",
            "        60           0.0921            3.43m\n",
            "        70           0.0871            3.36m\n",
            "        80           0.0830            3.30m\n",
            "        90           0.0788            3.23m\n",
            "       100           0.0757            3.17m\n",
            "       200           0.0527            2.53m\n",
            "       300           0.0384            1.90m\n",
            "       400           0.0288            1.26m\n",
            "       500           0.0220           37.81s\n",
            "       600           0.0168            0.00s\n"
          ],
          "name": "stdout"
        }
      ]
    },
    {
      "cell_type": "code",
      "metadata": {
        "id": "c70E0L6zOU2h"
      },
      "source": [
        "y_pred_train = clf_GBC.predict(X_train)\r\n",
        "y_pred_val = clf_GBC.predict(X_val)\r\n",
        "y_pred_prob = clf_GBC.predict_proba(X_val)\r\n",
        "roc_GBC = roc_curve(y_val, y_pred_prob[:,1])"
      ],
      "execution_count": 70,
      "outputs": []
    },
    {
      "cell_type": "code",
      "metadata": {
        "colab": {
          "base_uri": "https://localhost:8080/",
          "height": 174
        },
        "id": "E0L0XJZROWdh",
        "outputId": "d5381d1d-e4b3-4bf1-85df-8b2c1b0e0ac2"
      },
      "source": [
        "print('Validation Accuracy: ',accuracy_score(y_val,y_pred_val))\r\n",
        "print('F1 Score: ',f1_score(y_val,y_pred_val))\r\n",
        "print('ROC AUC: ',roc_auc_score(y_val,y_pred_prob[:,1]))\r\n",
        "print('Confusion Matrix:')\r\n",
        "pd.DataFrame(confusion_matrix(y_val,y_pred_val))"
      ],
      "execution_count": 61,
      "outputs": [
        {
          "output_type": "stream",
          "text": [
            "Validation Accuracy:  0.9835085413929041\n",
            "F1 Score:  0.8614025400331309\n",
            "ROC AUC:  0.9700996728311873\n",
            "Confusion Matrix:\n"
          ],
          "name": "stdout"
        },
        {
          "output_type": "execute_result",
          "data": {
            "text/html": [
              "<div>\n",
              "<style scoped>\n",
              "    .dataframe tbody tr th:only-of-type {\n",
              "        vertical-align: middle;\n",
              "    }\n",
              "\n",
              "    .dataframe tbody tr th {\n",
              "        vertical-align: top;\n",
              "    }\n",
              "\n",
              "    .dataframe thead th {\n",
              "        text-align: right;\n",
              "    }\n",
              "</style>\n",
              "<table border=\"1\" class=\"dataframe\">\n",
              "  <thead>\n",
              "    <tr style=\"text-align: right;\">\n",
              "      <th></th>\n",
              "      <th>0</th>\n",
              "      <th>1</th>\n",
              "    </tr>\n",
              "  </thead>\n",
              "  <tbody>\n",
              "    <tr>\n",
              "      <th>0</th>\n",
              "      <td>14189</td>\n",
              "      <td>63</td>\n",
              "    </tr>\n",
              "    <tr>\n",
              "      <th>1</th>\n",
              "      <td>188</td>\n",
              "      <td>780</td>\n",
              "    </tr>\n",
              "  </tbody>\n",
              "</table>\n",
              "</div>"
            ],
            "text/plain": [
              "       0    1\n",
              "0  14189   63\n",
              "1    188  780"
            ]
          },
          "metadata": {
            "tags": []
          },
          "execution_count": 61
        }
      ]
    },
    {
      "cell_type": "markdown",
      "metadata": {
        "id": "NdpBGI1002On"
      },
      "source": [
        "## Plotting ROC Curve"
      ]
    },
    {
      "cell_type": "code",
      "metadata": {
        "colab": {
          "base_uri": "https://localhost:8080/",
          "height": 390
        },
        "id": "Qtat5IvXxmWn",
        "outputId": "475549ec-2bb0-4eda-85c6-7515a2a7ad63"
      },
      "source": [
        "plt.figure(figsize=(10,6))\r\n",
        "plt.plot(roc_LGBM[0],roc_LGBM[1],'--')\r\n",
        "plt.plot(roc_RF[0],roc_RF[1],'--')\r\n",
        "plt.plot(roc_GBC[0],roc_GBC[1],'--')\r\n",
        "plt.plot(roc_ada[0],roc_ada[1],'--')\r\n",
        "plt.plot(roc_XG[0],roc_XG[1],'--')\r\n",
        "plt.legend(['LGBM','RF','GBC','AdaBoost','XGBoost'])"
      ],
      "execution_count": 89,
      "outputs": [
        {
          "output_type": "execute_result",
          "data": {
            "text/plain": [
              "<matplotlib.legend.Legend at 0x7f3cc58c15f8>"
            ]
          },
          "metadata": {
            "tags": []
          },
          "execution_count": 89
        },
        {
          "output_type": "display_data",
          "data": {
            "image/png": "[encoded data removed]",
            "text/plain": [
              "<Figure size 720x432 with 1 Axes>"
            ]
          },
          "metadata": {
            "tags": [],
            "needs_background": "light"
          }
        }
      ]
    }
  ]
}