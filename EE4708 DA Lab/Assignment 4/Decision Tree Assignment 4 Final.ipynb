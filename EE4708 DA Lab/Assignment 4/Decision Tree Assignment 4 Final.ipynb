{
 "cells": [
  {
   "cell_type": "code",
   "execution_count": 110,
   "id": "3a234220",
   "metadata": {},
   "outputs": [],
   "source": [
    "# Import the required modules for basic data handling\n",
    "\n",
    "import numpy as np\n",
    "import pandas as pd\n",
    "import matplotlib.pyplot as plt\n",
    "import seaborn as sns\n",
    "%matplotlib inline"
   ]
  },
  {
   "cell_type": "code",
   "execution_count": 111,
   "id": "9fffe509",
   "metadata": {},
   "outputs": [
    {
     "data": {
      "text/html": [
       "<div>\n",
       "<style scoped>\n",
       "    .dataframe tbody tr th:only-of-type {\n",
       "        vertical-align: middle;\n",
       "    }\n",
       "\n",
       "    .dataframe tbody tr th {\n",
       "        vertical-align: top;\n",
       "    }\n",
       "\n",
       "    .dataframe thead th {\n",
       "        text-align: right;\n",
       "    }\n",
       "</style>\n",
       "<table border=\"1\" class=\"dataframe\">\n",
       "  <thead>\n",
       "    <tr style=\"text-align: right;\">\n",
       "      <th></th>\n",
       "      <th>buying</th>\n",
       "      <th>maint</th>\n",
       "      <th>doors</th>\n",
       "      <th>persons</th>\n",
       "      <th>lug_boot</th>\n",
       "      <th>safety</th>\n",
       "      <th>target</th>\n",
       "    </tr>\n",
       "  </thead>\n",
       "  <tbody>\n",
       "    <tr>\n",
       "      <th>0</th>\n",
       "      <td>vhigh</td>\n",
       "      <td>vhigh</td>\n",
       "      <td>2</td>\n",
       "      <td>2</td>\n",
       "      <td>small</td>\n",
       "      <td>low</td>\n",
       "      <td>unacc</td>\n",
       "    </tr>\n",
       "    <tr>\n",
       "      <th>1</th>\n",
       "      <td>vhigh</td>\n",
       "      <td>vhigh</td>\n",
       "      <td>2</td>\n",
       "      <td>2</td>\n",
       "      <td>small</td>\n",
       "      <td>med</td>\n",
       "      <td>unacc</td>\n",
       "    </tr>\n",
       "    <tr>\n",
       "      <th>2</th>\n",
       "      <td>vhigh</td>\n",
       "      <td>vhigh</td>\n",
       "      <td>2</td>\n",
       "      <td>2</td>\n",
       "      <td>small</td>\n",
       "      <td>high</td>\n",
       "      <td>unacc</td>\n",
       "    </tr>\n",
       "    <tr>\n",
       "      <th>3</th>\n",
       "      <td>vhigh</td>\n",
       "      <td>vhigh</td>\n",
       "      <td>2</td>\n",
       "      <td>2</td>\n",
       "      <td>med</td>\n",
       "      <td>low</td>\n",
       "      <td>unacc</td>\n",
       "    </tr>\n",
       "    <tr>\n",
       "      <th>4</th>\n",
       "      <td>vhigh</td>\n",
       "      <td>vhigh</td>\n",
       "      <td>2</td>\n",
       "      <td>2</td>\n",
       "      <td>med</td>\n",
       "      <td>med</td>\n",
       "      <td>unacc</td>\n",
       "    </tr>\n",
       "    <tr>\n",
       "      <th>...</th>\n",
       "      <td>...</td>\n",
       "      <td>...</td>\n",
       "      <td>...</td>\n",
       "      <td>...</td>\n",
       "      <td>...</td>\n",
       "      <td>...</td>\n",
       "      <td>...</td>\n",
       "    </tr>\n",
       "    <tr>\n",
       "      <th>1723</th>\n",
       "      <td>low</td>\n",
       "      <td>low</td>\n",
       "      <td>5more</td>\n",
       "      <td>more</td>\n",
       "      <td>med</td>\n",
       "      <td>med</td>\n",
       "      <td>good</td>\n",
       "    </tr>\n",
       "    <tr>\n",
       "      <th>1724</th>\n",
       "      <td>low</td>\n",
       "      <td>low</td>\n",
       "      <td>5more</td>\n",
       "      <td>more</td>\n",
       "      <td>med</td>\n",
       "      <td>high</td>\n",
       "      <td>vgood</td>\n",
       "    </tr>\n",
       "    <tr>\n",
       "      <th>1725</th>\n",
       "      <td>low</td>\n",
       "      <td>low</td>\n",
       "      <td>5more</td>\n",
       "      <td>more</td>\n",
       "      <td>big</td>\n",
       "      <td>low</td>\n",
       "      <td>unacc</td>\n",
       "    </tr>\n",
       "    <tr>\n",
       "      <th>1726</th>\n",
       "      <td>low</td>\n",
       "      <td>low</td>\n",
       "      <td>5more</td>\n",
       "      <td>more</td>\n",
       "      <td>big</td>\n",
       "      <td>med</td>\n",
       "      <td>good</td>\n",
       "    </tr>\n",
       "    <tr>\n",
       "      <th>1727</th>\n",
       "      <td>low</td>\n",
       "      <td>low</td>\n",
       "      <td>5more</td>\n",
       "      <td>more</td>\n",
       "      <td>big</td>\n",
       "      <td>high</td>\n",
       "      <td>vgood</td>\n",
       "    </tr>\n",
       "  </tbody>\n",
       "</table>\n",
       "<p>1728 rows × 7 columns</p>\n",
       "</div>"
      ],
      "text/plain": [
       "     buying  maint  doors persons lug_boot safety target\n",
       "0     vhigh  vhigh      2       2    small    low  unacc\n",
       "1     vhigh  vhigh      2       2    small    med  unacc\n",
       "2     vhigh  vhigh      2       2    small   high  unacc\n",
       "3     vhigh  vhigh      2       2      med    low  unacc\n",
       "4     vhigh  vhigh      2       2      med    med  unacc\n",
       "...     ...    ...    ...     ...      ...    ...    ...\n",
       "1723    low    low  5more    more      med    med   good\n",
       "1724    low    low  5more    more      med   high  vgood\n",
       "1725    low    low  5more    more      big    low  unacc\n",
       "1726    low    low  5more    more      big    med   good\n",
       "1727    low    low  5more    more      big   high  vgood\n",
       "\n",
       "[1728 rows x 7 columns]"
      ]
     },
     "execution_count": 111,
     "metadata": {},
     "output_type": "execute_result"
    }
   ],
   "source": [
    "data = pd.read_csv('car_evaluation.csv', header = None)\n",
    "col_names = ['buying', 'maint', 'doors', 'persons', 'lug_boot', 'safety', 'target']\n",
    "data.columns = col_names\n",
    "data"
   ]
  },
  {
   "cell_type": "code",
   "execution_count": 112,
   "id": "5297c7af",
   "metadata": {},
   "outputs": [],
   "source": [
    "# Bar plot function for visualisation\n",
    "\n",
    "def barplotfunc(col, data, c):\n",
    "    plt.figure()\n",
    "    plt.title('Bar plot of ' + col)\n",
    "    data[col].value_counts().plot(kind = 'bar', color = c)"
   ]
  },
  {
   "cell_type": "code",
   "execution_count": 113,
   "id": "ef941d63",
   "metadata": {},
   "outputs": [
    {
     "data": {
      "image/png": "[encoded data removed]",
      "text/plain": [
       "<Figure size 432x288 with 1 Axes>"
      ]
     },
     "metadata": {
      "needs_background": "light"
     },
     "output_type": "display_data"
    }
   ],
   "source": [
    "barplotfunc('buying', data, 'red')"
   ]
  },
  {
   "cell_type": "code",
   "execution_count": 114,
   "id": "c30c5c61",
   "metadata": {},
   "outputs": [
    {
     "data": {
      "image/png": "[encoded data removed]",
      "text/plain": [
       "<Figure size 432x288 with 1 Axes>"
      ]
     },
     "metadata": {
      "needs_background": "light"
     },
     "output_type": "display_data"
    }
   ],
   "source": [
    "barplotfunc('maint', data, 'purple')"
   ]
  },
  {
   "cell_type": "code",
   "execution_count": 115,
   "id": "90bcb31a",
   "metadata": {},
   "outputs": [
    {
     "data": {
      "image/png": "[encoded data removed]",
      "text/plain": [
       "<Figure size 432x288 with 1 Axes>"
      ]
     },
     "metadata": {
      "needs_background": "light"
     },
     "output_type": "display_data"
    }
   ],
   "source": [
    "barplotfunc('doors', data, 'blue')"
   ]
  },
  {
   "cell_type": "code",
   "execution_count": 116,
   "id": "c77d229e",
   "metadata": {},
   "outputs": [
    {
     "data": {
      "image/png": "[encoded data removed]",
      "text/plain": [
       "<Figure size 432x288 with 1 Axes>"
      ]
     },
     "metadata": {
      "needs_background": "light"
     },
     "output_type": "display_data"
    }
   ],
   "source": [
    "barplotfunc('persons', data, 'green')"
   ]
  },
  {
   "cell_type": "code",
   "execution_count": 117,
   "id": "c53f0cbd",
   "metadata": {},
   "outputs": [
    {
     "data": {
      "image/png": "[encoded data removed]",
      "text/plain": [
       "<Figure size 432x288 with 1 Axes>"
      ]
     },
     "metadata": {
      "needs_background": "light"
     },
     "output_type": "display_data"
    }
   ],
   "source": [
    "barplotfunc('lug_boot', data, 'orange')"
   ]
  },
  {
   "cell_type": "code",
   "execution_count": 118,
   "id": "f4097a9c",
   "metadata": {},
   "outputs": [
    {
     "data": {
      "image/png": "[encoded data removed]",
      "text/plain": [
       "<Figure size 432x288 with 1 Axes>"
      ]
     },
     "metadata": {
      "needs_background": "light"
     },
     "output_type": "display_data"
    }
   ],
   "source": [
    "barplotfunc('safety', data, 'maroon')"
   ]
  },
  {
   "cell_type": "code",
   "execution_count": 119,
   "id": "ed7c8298",
   "metadata": {},
   "outputs": [
    {
     "data": {
      "image/png": "[encoded data removed]",
      "text/plain": [
       "<Figure size 432x288 with 1 Axes>"
      ]
     },
     "metadata": {
      "needs_background": "light"
     },
     "output_type": "display_data"
    }
   ],
   "source": [
    "barplotfunc('target', data, 'cyan')"
   ]
  },
  {
   "cell_type": "code",
   "execution_count": 120,
   "id": "481895c1",
   "metadata": {},
   "outputs": [
    {
     "data": {
      "text/html": [
       "<div>\n",
       "<style scoped>\n",
       "    .dataframe tbody tr th:only-of-type {\n",
       "        vertical-align: middle;\n",
       "    }\n",
       "\n",
       "    .dataframe tbody tr th {\n",
       "        vertical-align: top;\n",
       "    }\n",
       "\n",
       "    .dataframe thead th {\n",
       "        text-align: right;\n",
       "    }\n",
       "</style>\n",
       "<table border=\"1\" class=\"dataframe\">\n",
       "  <thead>\n",
       "    <tr style=\"text-align: right;\">\n",
       "      <th></th>\n",
       "      <th>buying</th>\n",
       "      <th>maint</th>\n",
       "      <th>doors</th>\n",
       "      <th>persons</th>\n",
       "      <th>lug_boot</th>\n",
       "      <th>safety</th>\n",
       "      <th>target</th>\n",
       "    </tr>\n",
       "  </thead>\n",
       "  <tbody>\n",
       "    <tr>\n",
       "      <th>0</th>\n",
       "      <td>1</td>\n",
       "      <td>1</td>\n",
       "      <td>1</td>\n",
       "      <td>1</td>\n",
       "      <td>1</td>\n",
       "      <td>1</td>\n",
       "      <td>unacc</td>\n",
       "    </tr>\n",
       "    <tr>\n",
       "      <th>1</th>\n",
       "      <td>1</td>\n",
       "      <td>1</td>\n",
       "      <td>1</td>\n",
       "      <td>1</td>\n",
       "      <td>1</td>\n",
       "      <td>2</td>\n",
       "      <td>unacc</td>\n",
       "    </tr>\n",
       "    <tr>\n",
       "      <th>2</th>\n",
       "      <td>1</td>\n",
       "      <td>1</td>\n",
       "      <td>1</td>\n",
       "      <td>1</td>\n",
       "      <td>1</td>\n",
       "      <td>3</td>\n",
       "      <td>unacc</td>\n",
       "    </tr>\n",
       "    <tr>\n",
       "      <th>3</th>\n",
       "      <td>1</td>\n",
       "      <td>1</td>\n",
       "      <td>1</td>\n",
       "      <td>1</td>\n",
       "      <td>2</td>\n",
       "      <td>1</td>\n",
       "      <td>unacc</td>\n",
       "    </tr>\n",
       "    <tr>\n",
       "      <th>4</th>\n",
       "      <td>1</td>\n",
       "      <td>1</td>\n",
       "      <td>1</td>\n",
       "      <td>1</td>\n",
       "      <td>2</td>\n",
       "      <td>2</td>\n",
       "      <td>unacc</td>\n",
       "    </tr>\n",
       "    <tr>\n",
       "      <th>...</th>\n",
       "      <td>...</td>\n",
       "      <td>...</td>\n",
       "      <td>...</td>\n",
       "      <td>...</td>\n",
       "      <td>...</td>\n",
       "      <td>...</td>\n",
       "      <td>...</td>\n",
       "    </tr>\n",
       "    <tr>\n",
       "      <th>1723</th>\n",
       "      <td>4</td>\n",
       "      <td>4</td>\n",
       "      <td>4</td>\n",
       "      <td>3</td>\n",
       "      <td>2</td>\n",
       "      <td>2</td>\n",
       "      <td>good</td>\n",
       "    </tr>\n",
       "    <tr>\n",
       "      <th>1724</th>\n",
       "      <td>4</td>\n",
       "      <td>4</td>\n",
       "      <td>4</td>\n",
       "      <td>3</td>\n",
       "      <td>2</td>\n",
       "      <td>3</td>\n",
       "      <td>vgood</td>\n",
       "    </tr>\n",
       "    <tr>\n",
       "      <th>1725</th>\n",
       "      <td>4</td>\n",
       "      <td>4</td>\n",
       "      <td>4</td>\n",
       "      <td>3</td>\n",
       "      <td>3</td>\n",
       "      <td>1</td>\n",
       "      <td>unacc</td>\n",
       "    </tr>\n",
       "    <tr>\n",
       "      <th>1726</th>\n",
       "      <td>4</td>\n",
       "      <td>4</td>\n",
       "      <td>4</td>\n",
       "      <td>3</td>\n",
       "      <td>3</td>\n",
       "      <td>2</td>\n",
       "      <td>good</td>\n",
       "    </tr>\n",
       "    <tr>\n",
       "      <th>1727</th>\n",
       "      <td>4</td>\n",
       "      <td>4</td>\n",
       "      <td>4</td>\n",
       "      <td>3</td>\n",
       "      <td>3</td>\n",
       "      <td>3</td>\n",
       "      <td>vgood</td>\n",
       "    </tr>\n",
       "  </tbody>\n",
       "</table>\n",
       "<p>1728 rows × 7 columns</p>\n",
       "</div>"
      ],
      "text/plain": [
       "      buying  maint  doors  persons  lug_boot  safety target\n",
       "0          1      1      1        1         1       1  unacc\n",
       "1          1      1      1        1         1       2  unacc\n",
       "2          1      1      1        1         1       3  unacc\n",
       "3          1      1      1        1         2       1  unacc\n",
       "4          1      1      1        1         2       2  unacc\n",
       "...      ...    ...    ...      ...       ...     ...    ...\n",
       "1723       4      4      4        3         2       2   good\n",
       "1724       4      4      4        3         2       3  vgood\n",
       "1725       4      4      4        3         3       1  unacc\n",
       "1726       4      4      4        3         3       2   good\n",
       "1727       4      4      4        3         3       3  vgood\n",
       "\n",
       "[1728 rows x 7 columns]"
      ]
     },
     "execution_count": 120,
     "metadata": {},
     "output_type": "execute_result"
    }
   ],
   "source": [
    "# encode variables with ordinal encoding\n",
    "\n",
    "import category_encoders as ce\n",
    "\n",
    "encoder = ce.OrdinalEncoder(cols=['buying', 'maint', 'doors', 'persons', 'lug_boot', 'safety'])\n",
    "data = encoder.fit_transform(data)\n",
    "data"
   ]
  },
  {
   "cell_type": "code",
   "execution_count": 121,
   "id": "8b9036a6",
   "metadata": {},
   "outputs": [],
   "source": [
    "# split X and y into training and testing sets\n",
    "\n",
    "from sklearn.model_selection import train_test_split\n",
    "\n",
    "X = data.drop(['target'], axis=1)\n",
    "y = data['target']\n",
    "X_train, X_test, y_train, y_test = train_test_split(X, y, test_size = 0.1, random_state = 30)"
   ]
  },
  {
   "cell_type": "code",
   "execution_count": 122,
   "id": "e024ae90",
   "metadata": {},
   "outputs": [
    {
     "data": {
      "image/png": "[encoded data removed]",
      "text/plain": [
       "<Figure size 1080x720 with 2 Axes>"
      ]
     },
     "metadata": {
      "needs_background": "light"
     },
     "output_type": "display_data"
    }
   ],
   "source": [
    "sns.heatmap(data.corr(), annot = True, cmap = 'Blues', linewidths = 0.2)\n",
    "fig = plt.gcf()\n",
    "fig.set_size_inches(15,10)\n",
    "plt.show()"
   ]
  },
  {
   "cell_type": "code",
   "execution_count": 123,
   "id": "0f0cca71",
   "metadata": {},
   "outputs": [
    {
     "data": {
      "text/plain": [
       "Text(0.5, 1.0, 'Training and test accuracy with gini index \\n criterion vs depth of decision tree')"
      ]
     },
     "execution_count": 123,
     "metadata": {},
     "output_type": "execute_result"
    },
    {
     "data": {
      "image/png": "[encoded data removed]",
      "text/plain": [
       "<Figure size 432x288 with 1 Axes>"
      ]
     },
     "metadata": {
      "needs_background": "light"
     },
     "output_type": "display_data"
    }
   ],
   "source": [
    "# import Decision Tree Classifier from sklearn\n",
    "\n",
    "from sklearn import tree\n",
    "from sklearn.tree import DecisionTreeClassifier\n",
    "from sklearn.metrics import accuracy_score\n",
    "\n",
    "# instantiate the Decision Tree Classifier model with criterion gini index for different depths\n",
    "y_pred_train_gini = []\n",
    "y_pred_gini = []\n",
    "train_acc_gini, test_acc_gini = [], []\n",
    "\n",
    "# Fit the model to data. Make predictions using the model and check accuracy\n",
    "\n",
    "model = []\n",
    "for i in range(1, 31):\n",
    "    model.append(DecisionTreeClassifier(criterion='gini', max_features = 5, max_depth = i, random_state = 30))\n",
    "    model[i-1].fit(X_train, y_train)\n",
    "    y_pred_train_gini.append(model[i-1].predict(X_train))\n",
    "    y_pred_gini.append(model[i-1].predict(X_test))\n",
    "    train_acc_gini.append(accuracy_score(y_train, y_pred_train_gini[i-1]) * 100)\n",
    "    test_acc_gini.append(accuracy_score(y_test, y_pred_gini[i-1]) * 100)\n",
    "\n",
    "plt.plot(train_acc_gini)\n",
    "plt.plot(test_acc_gini)\n",
    "plt.legend(['training accuracy', 'test accuracy'])\n",
    "plt.xlabel('depth of decision tree')\n",
    "plt.ylabel('Accuracy in %')\n",
    "plt.title('Training and test accuracy with gini index \\n criterion vs depth of decision tree')"
   ]
  },
  {
   "cell_type": "code",
   "execution_count": 124,
   "id": "4d310601",
   "metadata": {},
   "outputs": [
    {
     "name": "stdout",
     "output_type": "stream",
     "text": [
      "Training-set accuracy score with gini index criterion: 0.9955\n",
      "Test-set accuracy score with gini index criterion: 0.9884\n"
     ]
    }
   ],
   "source": [
    "# import graphviz\n",
    "# from sklearn.tree import export_graphviz\n",
    "# from IPython.display import Image\n",
    "\n",
    "modelgini = DecisionTreeClassifier(criterion = 'gini', max_features = 5, max_depth = 11, random_state = 30)\n",
    "modelgini.fit(X_train, y_train)\n",
    "\n",
    "y_pred_train_ginifinal = modelgini.predict(X_train)\n",
    "print('Training-set accuracy score with gini index criterion: {0:0.4f}'. format(accuracy_score(y_train, y_pred_train_ginifinal)))\n",
    "\n",
    "y_pred_ginifinal = modelgini.predict(X_test)\n",
    "print('Test-set accuracy score with gini index criterion: {0:0.4f}'. format(accuracy_score(y_test, y_pred_ginifinal)))\n",
    "\n",
    "# dt_graphviz = tree.export_graphviz(modelgini, out_file = None, feature_names = X.columns, class_names = y_train, filled=True, rounded=True, special_characters=True)\n",
    "# pydot_graph = pydotplus.graph_from_dot_data(dt_graphviz)\n",
    "\n",
    "# Image(pydot_graph.create_png())"
   ]
  },
  {
   "cell_type": "code",
   "execution_count": 125,
   "id": "6356b404",
   "metadata": {},
   "outputs": [
    {
     "data": {
      "text/plain": [
       "Text(0.5, 1.0, 'Training and test accuracy with entropy \\n criterion vs depth of decision tree')"
      ]
     },
     "execution_count": 125,
     "metadata": {},
     "output_type": "execute_result"
    },
    {
     "data": {
      "image/png": "[encoded data removed]",
      "text/plain": [
       "<Figure size 432x288 with 1 Axes>"
      ]
     },
     "metadata": {
      "needs_background": "light"
     },
     "output_type": "display_data"
    }
   ],
   "source": [
    "# instantiate the Decision Tree Classifier model with criterion  for different depths\n",
    "y_pred_train_entropy = []\n",
    "y_pred_entropy = []\n",
    "train_acc_entropy, test_acc_entropy = [], []\n",
    "\n",
    "# Fit the model to data. Make predictions using the model and check accuracy\n",
    "\n",
    "model = []\n",
    "for i in range(1, 31):\n",
    "    model.append(DecisionTreeClassifier(criterion = 'entropy', max_features = 5, max_depth = i, random_state = 30))\n",
    "    model[i-1].fit(X_train, y_train)\n",
    "    y_pred_train_entropy.append(model[i-1].predict(X_train))\n",
    "    y_pred_entropy.append(model[i-1].predict(X_test))\n",
    "    train_acc_entropy.append(accuracy_score(y_train, y_pred_train_entropy[i-1]) * 100)\n",
    "    test_acc_entropy.append(accuracy_score(y_test, y_pred_entropy[i-1]) * 100)\n",
    "\n",
    "plt.plot(train_acc_entropy)\n",
    "plt.plot(test_acc_entropy)\n",
    "plt.legend(['training accuracy', 'test accuracy'])\n",
    "plt.xlabel('depth of decision tree')\n",
    "plt.ylabel('Accuracy in %')\n",
    "plt.title('Training and test accuracy with entropy \\n criterion vs depth of decision tree')"
   ]
  },
  {
   "cell_type": "code",
   "execution_count": 126,
   "id": "2d7ddc3c",
   "metadata": {},
   "outputs": [
    {
     "name": "stdout",
     "output_type": "stream",
     "text": [
      "Training-set accuracy score with entropy criterion: 0.9846\n",
      "Test-set accuracy score with entropy criterion: 0.9884\n"
     ]
    }
   ],
   "source": [
    "modelentropy = DecisionTreeClassifier(criterion = 'entropy', max_features = 5, max_depth = 10, random_state = 30)\n",
    "modelentropy.fit(X_train, y_train)\n",
    "\n",
    "y_pred_train_entropyfinal = modelentropy.predict(X_train)\n",
    "print('Training-set accuracy score with entropy criterion: {0:0.4f}'. format(accuracy_score(y_train, y_pred_train_entropyfinal)))\n",
    "\n",
    "y_pred_entropyfinal = modelgini.predict(X_test)\n",
    "print('Test-set accuracy score with entropy criterion: {0:0.4f}'. format(accuracy_score(y_test, y_pred_entropyfinal)))"
   ]
  },
  {
   "cell_type": "code",
   "execution_count": 127,
   "id": "c866187f",
   "metadata": {},
   "outputs": [
    {
     "data": {
      "text/plain": [
       "<AxesSubplot:>"
      ]
     },
     "execution_count": 127,
     "metadata": {},
     "output_type": "execute_result"
    },
    {
     "data": {
      "image/png": "[encoded data removed]",
      "text/plain": [
       "<Figure size 432x288 with 2 Axes>"
      ]
     },
     "metadata": {
      "needs_background": "light"
     },
     "output_type": "display_data"
    }
   ],
   "source": [
    "from sklearn.metrics import confusion_matrix\n",
    "\n",
    "cm1 = confusion_matrix(y_test, y_pred_ginifinal)\n",
    "\n",
    "cm_matrix = pd.DataFrame(data = cm1, columns = ['acc', 'good', 'unacc', 'vgood'], index = ['acc', 'good', 'unacc', 'vgood'])\n",
    "sns.heatmap(cm_matrix, annot = True, fmt = 'd', cmap = 'rainbow')"
   ]
  },
  {
   "cell_type": "code",
   "execution_count": 128,
   "id": "41880f78",
   "metadata": {},
   "outputs": [
    {
     "data": {
      "text/plain": [
       "<AxesSubplot:>"
      ]
     },
     "execution_count": 128,
     "metadata": {},
     "output_type": "execute_result"
    },
    {
     "data": {
      "image/png": "[encoded data removed]",
      "text/plain": [
       "<Figure size 432x288 with 2 Axes>"
      ]
     },
     "metadata": {
      "needs_background": "light"
     },
     "output_type": "display_data"
    }
   ],
   "source": [
    "cm2 = confusion_matrix(y_test, y_pred_entropyfinal)\n",
    "\n",
    "cm_matrix = pd.DataFrame(data = cm2, columns = ['acc', 'good', 'unacc', 'vgood'], index = ['acc', 'good', 'unacc', 'vgood'])\n",
    "sns.heatmap(cm_matrix, annot = True, fmt = 'd', cmap = 'rainbow')"
   ]
  },
  {
   "cell_type": "code",
   "execution_count": 129,
   "id": "96eecc4a",
   "metadata": {},
   "outputs": [
    {
     "name": "stdout",
     "output_type": "stream",
     "text": [
      "              precision    recall  f1-score   support\n",
      "\n",
      "         acc       0.98      0.98      0.98        46\n",
      "        good       1.00      1.00      1.00         6\n",
      "       unacc       0.99      0.99      0.99       116\n",
      "       vgood       1.00      1.00      1.00         5\n",
      "\n",
      "    accuracy                           0.99       173\n",
      "   macro avg       0.99      0.99      0.99       173\n",
      "weighted avg       0.99      0.99      0.99       173\n",
      "\n"
     ]
    }
   ],
   "source": [
    "from sklearn.metrics import classification_report\n",
    "print(classification_report(y_test, y_pred_ginifinal))"
   ]
  },
  {
   "cell_type": "code",
   "execution_count": 130,
   "id": "bfd27f91",
   "metadata": {},
   "outputs": [
    {
     "name": "stdout",
     "output_type": "stream",
     "text": [
      "              precision    recall  f1-score   support\n",
      "\n",
      "         acc       0.98      0.98      0.98        46\n",
      "        good       1.00      1.00      1.00         6\n",
      "       unacc       0.99      0.99      0.99       116\n",
      "       vgood       1.00      1.00      1.00         5\n",
      "\n",
      "    accuracy                           0.99       173\n",
      "   macro avg       0.99      0.99      0.99       173\n",
      "weighted avg       0.99      0.99      0.99       173\n",
      "\n"
     ]
    }
   ],
   "source": [
    "print(classification_report(y_test, y_pred_entropyfinal))"
   ]
  },
  {
   "cell_type": "code",
   "execution_count": null,
   "id": "b8c4c72f",
   "metadata": {},
   "outputs": [],
   "source": []
  }
 ],
 "metadata": {
  "kernelspec": {
   "display_name": "Python 3 (ipykernel)",
   "language": "python",
   "name": "python3"
  },
  "language_info": {
   "codemirror_mode": {
    "name": "ipython",
    "version": 3
   },
   "file_extension": ".py",
   "mimetype": "text/x-python",
   "name": "python",
   "nbconvert_exporter": "python",
   "pygments_lexer": "ipython3",
   "version": "3.8.12"
  }
 },
 "nbformat": 4,
 "nbformat_minor": 5
}
