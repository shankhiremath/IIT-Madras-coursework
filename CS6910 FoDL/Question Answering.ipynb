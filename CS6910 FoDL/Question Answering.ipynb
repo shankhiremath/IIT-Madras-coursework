{
  "cells": [
    {
      "cell_type": "markdown",
      "metadata": {
        "id": "jQDX-sWZzo3S"
      },
      "source": [
        "# Fine Tuning BERT for Question Answering"
      ]
    },
    {
      "cell_type": "code",
      "execution_count": null,
      "metadata": {
        "colab": {
          "base_uri": "https://localhost:8080/"
        },
        "id": "Crh8sJ-8oe4i",
        "outputId": "f5a637e9-a040-42aa-a604-7dbf2edd4bbc"
      },
      "outputs": [
        {
          "output_type": "stream",
          "name": "stdout",
          "text": [
            "Looking in indexes: https://pypi.org/simple, https://us-python.pkg.dev/colab-wheels/public/simple/\n",
            "Collecting transformers\n",
            "  Downloading transformers-4.19.2-py3-none-any.whl (4.2 MB)\n",
            "\u001b[K     |████████████████████████████████| 4.2 MB 5.1 MB/s \n",
            "\u001b[?25hRequirement already satisfied: regex!=2019.12.17 in /usr/local/lib/python3.7/dist-packages (from transformers) (2019.12.20)\n",
            "Collecting tokenizers!=0.11.3,<0.13,>=0.11.1\n",
            "  Downloading tokenizers-0.12.1-cp37-cp37m-manylinux_2_12_x86_64.manylinux2010_x86_64.whl (6.6 MB)\n",
            "\u001b[K     |████████████████████████████████| 6.6 MB 73.5 MB/s \n",
            "\u001b[?25hRequirement already satisfied: numpy>=1.17 in /usr/local/lib/python3.7/dist-packages (from transformers) (1.21.6)\n",
            "Collecting huggingface-hub<1.0,>=0.1.0\n",
            "  Downloading huggingface_hub-0.7.0-py3-none-any.whl (86 kB)\n",
            "\u001b[K     |████████████████████████████████| 86 kB 6.4 MB/s \n",
            "\u001b[?25hCollecting pyyaml>=5.1\n",
            "  Downloading PyYAML-6.0-cp37-cp37m-manylinux_2_5_x86_64.manylinux1_x86_64.manylinux_2_12_x86_64.manylinux2010_x86_64.whl (596 kB)\n",
            "\u001b[K     |████████████████████████████████| 596 kB 67.5 MB/s \n",
            "\u001b[?25hRequirement already satisfied: importlib-metadata in /usr/local/lib/python3.7/dist-packages (from transformers) (4.11.3)\n",
            "Requirement already satisfied: tqdm>=4.27 in /usr/local/lib/python3.7/dist-packages (from transformers) (4.64.0)\n",
            "Requirement already satisfied: requests in /usr/local/lib/python3.7/dist-packages (from transformers) (2.23.0)\n",
            "Requirement already satisfied: filelock in /usr/local/lib/python3.7/dist-packages (from transformers) (3.7.0)\n",
            "Requirement already satisfied: packaging>=20.0 in /usr/local/lib/python3.7/dist-packages (from transformers) (21.3)\n",
            "Requirement already satisfied: typing-extensions>=3.7.4.3 in /usr/local/lib/python3.7/dist-packages (from huggingface-hub<1.0,>=0.1.0->transformers) (4.2.0)\n",
            "Requirement already satisfied: pyparsing!=3.0.5,>=2.0.2 in /usr/local/lib/python3.7/dist-packages (from packaging>=20.0->transformers) (3.0.9)\n",
            "Requirement already satisfied: zipp>=0.5 in /usr/local/lib/python3.7/dist-packages (from importlib-metadata->transformers) (3.8.0)\n",
            "Requirement already satisfied: idna<3,>=2.5 in /usr/local/lib/python3.7/dist-packages (from requests->transformers) (2.10)\n",
            "Requirement already satisfied: chardet<4,>=3.0.2 in /usr/local/lib/python3.7/dist-packages (from requests->transformers) (3.0.4)\n",
            "Requirement already satisfied: certifi>=2017.4.17 in /usr/local/lib/python3.7/dist-packages (from requests->transformers) (2022.5.18.1)\n",
            "Requirement already satisfied: urllib3!=1.25.0,!=1.25.1,<1.26,>=1.21.1 in /usr/local/lib/python3.7/dist-packages (from requests->transformers) (1.24.3)\n",
            "Installing collected packages: pyyaml, tokenizers, huggingface-hub, transformers\n",
            "  Attempting uninstall: pyyaml\n",
            "    Found existing installation: PyYAML 3.13\n",
            "    Uninstalling PyYAML-3.13:\n",
            "      Successfully uninstalled PyYAML-3.13\n",
            "Successfully installed huggingface-hub-0.7.0 pyyaml-6.0 tokenizers-0.12.1 transformers-4.19.2\n"
          ]
        }
      ],
      "source": [
        "!pip install transformers"
      ]
    },
    {
      "cell_type": "code",
      "execution_count": null,
      "metadata": {
        "colab": {
          "base_uri": "https://localhost:8080/"
        },
        "id": "ouXj5pw_bxo7",
        "outputId": "30bbeeca-8531-4b25-8b8d-65f7a6cf6505"
      },
      "outputs": [
        {
          "output_type": "stream",
          "name": "stdout",
          "text": [
            "Mounted at /content/drive\n"
          ]
        }
      ],
      "source": [
        "from google.colab import drive\n",
        "drive.mount('/content/drive')"
      ]
    },
    {
      "cell_type": "code",
      "execution_count": null,
      "metadata": {
        "id": "amp6dlBV0VMf"
      },
      "outputs": [],
      "source": [
        "import tensorflow as tf\n",
        "import pandas as pd\n",
        "import os\n",
        "import pickle\n",
        "import numpy as np\n",
        "from transformers import TFBertForQuestionAnswering\n",
        "from transformers import BertTokenizer, TFBertModel\n",
        "import json\n",
        "import pandas as pd\n",
        "os.chdir('/content/drive/MyDrive/CS6910 Folder Team 29/Assignment 4/QA dataset')"
      ]
    },
    {
      "cell_type": "code",
      "execution_count": null,
      "metadata": {
        "id": "tHWFD9y-ErhN"
      },
      "outputs": [],
      "source": [
        "X = pd.read_csv('Question-answering.csv', sep = ',', encoding='utf-8', index_col=None)\n",
        "X_train = X.loc[1001:2000].reset_index()\n",
        "del X_train['index']\n",
        "np.random.seed(42)\n",
        "X_train = X_train.sample(frac = 1).reset_index()\n",
        "\n",
        "X_val = X.loc[9400:9599].reset_index()\n",
        "del X_val['index']\n",
        "np.random.seed(22)\n",
        "X_val = X_val.sample(frac = 1).reset_index()\n",
        "\n",
        "X_test = X.loc[9600:9749].reset_index()\n",
        "del X_test['index']\n",
        "np.random.seed(96)\n",
        "X_test = X_test.sample(frac = 1).reset_index()"
      ]
    },
    {
      "cell_type": "code",
      "execution_count": null,
      "metadata": {
        "colab": {
          "base_uri": "https://localhost:8080/",
          "height": 256,
          "referenced_widgets": [
            "a7eca42cb8b94fd59c89afe00cb3101b",
            "1da2250b2bb24b2f944560c0a56126b2",
            "a58e1931aea549548e238028f55208c9",
            "1e65ac4dd4c44a76a028307d4b036016",
            "88ffd65b35404747b350e7b273c1bebf",
            "e92a90df0d084cf28b41b0b22b39a811",
            "8b4e666fda5e47419e157b9b2f58aea5",
            "fcd321bc6a4a4414bbd1a3d6b018ba5b",
            "cd32ee2a6367465296eda27d47468298",
            "88b2681cc4584d6a836160acd512f192",
            "d404971df2aa439d8d144ebab5f04b2a",
            "9317012b81b44339b305292debcf7e5a",
            "b6d55da4fa1e4f11a8b859828fc6eb0f",
            "6da0aedb60d9419b942eac923e7de85a",
            "fa226c94af814111bf29bdabba40fe35",
            "a88ca22bc8594cb9823de184bdefc72d",
            "801f27e914b647878d7a2abbb7315eb4",
            "f27b465c06354e46aabb667239e8de1a",
            "e31adb471751425988581a230ff8d7e1",
            "261c18b401684fa9b21be554498dfb76",
            "6ada29f9480a47f981968a7ce8a07672",
            "5fe4a9c2bba3431f88a199b1a262559a",
            "019fe23fce1c48e7b57f4f95e7715bd2",
            "a4cd2d8ce7184a71b2b22e2f38b4d305",
            "dcd845368196419da1480554aa4f7520",
            "9ac4e7a22daf4d729adeb0e70d895eb6",
            "a4e6400ef7004e80a15b479d5ac56e31",
            "8a8f53a11d5b493e973406d64bb67900",
            "20c10e538e014322aed434a1ef3bf471",
            "96a7d941f71e46dc961af3f0ac6adb71",
            "a56b91debd2543e0b64c0c8f55d6c687",
            "9b19d2696e33449892563b1eceeda260",
            "31aa8cfb19da445c96e1422ab713bae3",
            "77eddca978aa4530955707c96d80decd",
            "7017c57437d94b608a6bfe20f5f45e43",
            "73efe245318746569ba4e8d2b863764c",
            "4efefa8791bc426f87a2347da383828e",
            "e4856f5a9fbd43e492c3c0bb06c6ff6a",
            "4b6440c6197743169e0acec1fc61883a",
            "0e683f0aee21416ab324ad3ee2719507",
            "5708d8c29ee84b0ea8ec668fd71dae70",
            "a6f2cd25c0ec4ecd921103c16dc5b0e6",
            "2c29df0e75f74c9e923a56f5b9e8f711",
            "c7d6d5b4e25a4e14ae82a285efb47508"
          ]
        },
        "id": "TKHAPlQR0Wks",
        "outputId": "0fd1aa4a-beeb-45c9-98e3-edbb5ef0a370"
      },
      "outputs": [
        {
          "output_type": "display_data",
          "data": {
            "text/plain": [
              "Downloading:   0%|          | 0.00/226k [00:00<?, ?B/s]"
            ],
            "application/vnd.jupyter.widget-view+json": {
              "version_major": 2,
              "version_minor": 0,
              "model_id": "a7eca42cb8b94fd59c89afe00cb3101b"
            }
          },
          "metadata": {}
        },
        {
          "output_type": "display_data",
          "data": {
            "text/plain": [
              "Downloading:   0%|          | 0.00/28.0 [00:00<?, ?B/s]"
            ],
            "application/vnd.jupyter.widget-view+json": {
              "version_major": 2,
              "version_minor": 0,
              "model_id": "9317012b81b44339b305292debcf7e5a"
            }
          },
          "metadata": {}
        },
        {
          "output_type": "display_data",
          "data": {
            "text/plain": [
              "Downloading:   0%|          | 0.00/570 [00:00<?, ?B/s]"
            ],
            "application/vnd.jupyter.widget-view+json": {
              "version_major": 2,
              "version_minor": 0,
              "model_id": "019fe23fce1c48e7b57f4f95e7715bd2"
            }
          },
          "metadata": {}
        },
        {
          "output_type": "display_data",
          "data": {
            "text/plain": [
              "Downloading:   0%|          | 0.00/511M [00:00<?, ?B/s]"
            ],
            "application/vnd.jupyter.widget-view+json": {
              "version_major": 2,
              "version_minor": 0,
              "model_id": "77eddca978aa4530955707c96d80decd"
            }
          },
          "metadata": {}
        },
        {
          "output_type": "stream",
          "name": "stderr",
          "text": [
            "Some layers from the model checkpoint at bert-base-uncased were not used when initializing TFBertModel: ['mlm___cls', 'nsp___cls']\n",
            "- This IS expected if you are initializing TFBertModel from the checkpoint of a model trained on another task or with another architecture (e.g. initializing a BertForSequenceClassification model from a BertForPreTraining model).\n",
            "- This IS NOT expected if you are initializing TFBertModel from the checkpoint of a model that you expect to be exactly identical (initializing a BertForSequenceClassification model from a BertForSequenceClassification model).\n",
            "All the layers of TFBertModel were initialized from the model checkpoint at bert-base-uncased.\n",
            "If your task is similar to the task the model of the checkpoint was trained on, you can already use TFBertModel for predictions without further training.\n"
          ]
        }
      ],
      "source": [
        "from transformers import BertTokenizer, TFBertModel\n",
        "tokenizer = BertTokenizer.from_pretrained(\"bert-base-uncased\")\n",
        "bert_model = TFBertModel.from_pretrained(\"bert-base-uncased\")"
      ]
    },
    {
      "cell_type": "code",
      "execution_count": null,
      "metadata": {
        "colab": {
          "base_uri": "https://localhost:8080/"
        },
        "id": "YEOakTsp_Usa",
        "outputId": "e10724ac-363f-409d-c518-4850b023435d"
      },
      "outputs": [
        {
          "output_type": "stream",
          "name": "stdout",
          "text": [
            "Tue May 31 06:10:42 2022       \n",
            "+-----------------------------------------------------------------------------+\n",
            "| NVIDIA-SMI 460.32.03    Driver Version: 460.32.03    CUDA Version: 11.2     |\n",
            "|-------------------------------+----------------------+----------------------+\n",
            "| GPU  Name        Persistence-M| Bus-Id        Disp.A | Volatile Uncorr. ECC |\n",
            "| Fan  Temp  Perf  Pwr:Usage/Cap|         Memory-Usage | GPU-Util  Compute M. |\n",
            "|                               |                      |               MIG M. |\n",
            "|===============================+======================+======================|\n",
            "|   0  Tesla P100-PCIE...  Off  | 00000000:00:04.0 Off |                    0 |\n",
            "| N/A   37C    P0    34W / 250W |   1475MiB / 16280MiB |      0%      Default |\n",
            "|                               |                      |                  N/A |\n",
            "+-------------------------------+----------------------+----------------------+\n",
            "                                                                               \n",
            "+-----------------------------------------------------------------------------+\n",
            "| Processes:                                                                  |\n",
            "|  GPU   GI   CI        PID   Type   Process name                  GPU Memory |\n",
            "|        ID   ID                                                   Usage      |\n",
            "|=============================================================================|\n",
            "+-----------------------------------------------------------------------------+\n",
            "Your runtime has 27.3 gigabytes of available RAM\n",
            "\n",
            "You are using a high-RAM runtime!\n"
          ]
        }
      ],
      "source": [
        "gpu_info = !nvidia-smi\n",
        "gpu_info = '\\n'.join(gpu_info)\n",
        "if gpu_info.find('failed') >= 0:\n",
        "  print('Not connected to a GPU')\n",
        "else:\n",
        "  print(gpu_info)\n",
        "\n",
        "from psutil import virtual_memory\n",
        "ram_gb = virtual_memory().total / 1e9\n",
        "print('Your runtime has {:.1f} gigabytes of available RAM\\n'.format(ram_gb))\n",
        "\n",
        "if ram_gb < 20:\n",
        "  print('Not using a high-RAM runtime')\n",
        "else:\n",
        "  print('You are using a high-RAM runtime!')"
      ]
    },
    {
      "cell_type": "code",
      "execution_count": null,
      "metadata": {
        "id": "wap7o5x02NXy"
      },
      "outputs": [],
      "source": [
        "from tqdm import tqdm\n",
        "import string\n",
        "def preprocess_data(X, tokenizer, path = 'processed_data/pickle/'):\n",
        "    N = X.shape[0]\n",
        "    for i in tqdm(range(N)):\n",
        "        context = X.loc[i]['Context']#.translate(str.maketrans('', '', string.punctuation))\n",
        "        context += ' nr'\n",
        "        QAS = X.loc[i]['QuestionAnswerSets']\n",
        "        tmp = QAS.split('<|\"Question\" ->')[1:]\n",
        "        # q = []\n",
        "        for j in range(len(tmp)):\n",
        "            d = {}\n",
        "            tmp1 = tmp[j].split(', \"Answers\" -> ')\n",
        "            q = tmp1[0].strip()[1:-1]#.translate(str.maketrans('', '', string.punctuation))\n",
        "            # if q == '\\\\':\n",
        "            #     q = tmp[j].split('\"')[2]\n",
        "            # ques.append(q)\n",
        "            t = tokenizer(q, context, return_tensors=\"tf\")\n",
        "            d['input_ids'] = t['input_ids']\n",
        "            d['token_type_ids'] = t['token_type_ids']\n",
        "            d['attention_mask'] = t['attention_mask']\n",
        "\n",
        "            a1 = tmp1[1][:tmp1[1].index('}')][2:-1]#.translate(str.maketrans('', '', string.punctuation))\n",
        "            start = int(tmp[j].split('\"AnswerPositions\" ->')[1].split('}')[0][2:]) - 1\n",
        "            end = start + len(a1)\n",
        "            a2 = context[start:end]\n",
        "\n",
        "            d['y'] = z = tokenizer(a2, return_tensors=\"tf\")['input_ids']\n",
        "            a = t['input_ids'][0]\n",
        "            y = z[0][1:-1]\n",
        "            flag = 0\n",
        "            for x in range(1, len(a)-len(y)):\n",
        "                if sum(tf.cast(a[x:x+len(y)] == y, dtype = tf.int64)) == len(y):\n",
        "                    s = x\n",
        "                    flag = 1\n",
        "                    start_positions = tf.constant([s])\n",
        "            if flag == 0:\n",
        "                s = 1\n",
        "                start_positions = end_positions = tf.constant([len(a) - 2])\n",
        "            else:\n",
        "                end_positions = tf.constant([s+len(y) - 1])\n",
        "            d['start_positions'] = start_positions\n",
        "            d['end_positions'] = end_positions\n",
        "            # break\n",
        "        # break\n",
        "            pickle.dump(d, open(path + 'qa_' + str(i) + str(j) + '.pkl', 'wb'))\n",
        "\n",
        "\n",
        "def _int_feature(value):\n",
        "    # print(value)\n",
        "    return tf.train.Feature(int64_list=tf.train.Int64List(value=value))\n",
        "\n",
        "def _serialize_example(input_ids, token_type_ids, attention_mask, y, start_positions, end_positions):\n",
        "\n",
        "    d_feature = {}\n",
        "    d_feature['input_ids'] = _int_feature(tf.reshape(input_ids, -1))\n",
        "    d_feature['token_type_ids'] = _int_feature(tf.reshape(token_type_ids, -1))\n",
        "    d_feature['attention_mask'] = _int_feature(tf.reshape(attention_mask, -1))\n",
        "    d_feature['y'] = _int_feature(tf.reshape(y, -1))\n",
        "    d_feature['start_positions'] = _int_feature(tf.reshape(start_positions, -1))\n",
        "    d_feature['end_positions'] = _int_feature(tf.reshape(end_positions, -1))\n",
        "\n",
        "\n",
        "    example = tf.train.Example(features=tf.train.Features(feature=d_feature))\n",
        "    return example.SerializeToString()\n",
        "\n",
        "def create_tf_record(filepath = 'processed_data/pickle/', tf_path = 'processed_data/train.tfrecords'):\n",
        "    names = os.listdir(filepath)\n",
        "    writer = tf.io.TFRecordWriter(tf_path)\n",
        "    for name in tqdm(names):\n",
        "        d = pickle.load(open(filepath + name, 'rb'))\n",
        "        input_ids = d['input_ids']    \n",
        "        token_type_ids = d['token_type_ids']    \n",
        "        attention_mask = d['attention_mask']    \n",
        "        y = d['y']  \n",
        "        start_positions = d['start_positions']  \n",
        "        end_positions = d['end_positions']\n",
        "        example = _serialize_example(input_ids, token_type_ids, attention_mask, y, start_positions, end_positions)\n",
        "        writer.write(example)\n",
        "\n",
        "    "
      ]
    },
    {
      "cell_type": "code",
      "execution_count": null,
      "metadata": {
        "id": "H0gTG_LIkPmZ"
      },
      "outputs": [],
      "source": [
        "# preprocess_data(X_train, tokenizer)\n",
        "# create_tf_record()\n",
        "\n",
        "# preprocess_data(X_val, tokenizer, path = 'processed_data/pickle_val/')\n",
        "# create_tf_record(filepath = 'processed_data/pickle_val/', tf_path = 'processed_data/val.tfrecords')\n",
        "\n",
        "# preprocess_data(X_test, tokenizer, path = 'processed_data/pickle_test/')\n",
        "# create_tf_record(filepath = 'processed_data/pickle_test/', tf_path = 'processed_data/test.tfrecords')"
      ]
    },
    {
      "cell_type": "code",
      "execution_count": null,
      "metadata": {
        "id": "pcs2F3UkcP4Q"
      },
      "outputs": [],
      "source": [
        "def _parse_function(serialized):\n",
        "    features = {\n",
        "        \"input_ids\": tf.io.VarLenFeature(dtype=tf.int64),\n",
        "        \"token_type_ids\": tf.io.VarLenFeature(dtype=tf.int64),\n",
        "        \"attention_mask\": tf.io.VarLenFeature(dtype=tf.int64),\n",
        "        \"y\": tf.io.VarLenFeature(dtype=tf.int64),\n",
        "        \"start_positions\": tf.io.VarLenFeature(dtype=tf.int64),\n",
        "        \"end_positions\": tf.io.VarLenFeature(dtype=tf.int64)\n",
        "    }\n",
        "\n",
        "    parsed_example = tf.io.parse_single_example(serialized=serialized, features=features)\n",
        "    input_ids = tf.cast(parsed_example['input_ids'], tf.int64)\n",
        "    input_ids = tf.sparse.to_dense(input_ids)\n",
        "    token_type_ids = tf.cast(parsed_example['token_type_ids'], tf.int64)\n",
        "    token_type_ids = tf.sparse.to_dense(token_type_ids)\n",
        "    attention_mask = tf.cast(parsed_example['attention_mask'], tf.int64)\n",
        "    attention_mask = tf.sparse.to_dense(attention_mask)\n",
        "    y = tf.cast(parsed_example['y'], tf.int64)\n",
        "    y = tf.sparse.to_dense(y)\n",
        "    start_positions = tf.cast(parsed_example['start_positions'], tf.int64)\n",
        "    start_positions = tf.sparse.to_dense(start_positions)\n",
        "    end_positions = tf.cast(parsed_example['end_positions'], tf.int64)\n",
        "    end_positions = tf.sparse.to_dense(end_positions)\n",
        "    # print(tf.expand_dims(start_positions, axis = 1).shape)\n",
        "    positions = tf.concat((tf.expand_dims(start_positions, axis = 1), tf.expand_dims(end_positions, axis = 1)), axis = 0)\n",
        "\n",
        "    d = {'input_ids':input_ids, 'token_type_ids': token_type_ids, 'attention_mask': attention_mask}\n",
        "    # y = {'start_positions': start_positions, 'end_positions':end_positions}\n",
        "    # y = {'positions':positions}\n",
        "\n",
        "    \n",
        "    return d, positions\n",
        "\n",
        "def get_batched_dataset(filenames ='processed_data/train.tfrecords', batch_size=4):\n",
        "    # settings to read from all the shards in parallel\n",
        "    AUTO = tf.data.experimental.AUTOTUNE\n",
        "    ignore_order = tf.data.Options()\n",
        "    ignore_order.experimental_deterministic = False\n",
        "\n",
        "    # list all files\n",
        "    filenames = tf.io.gfile.glob(filenames)\n",
        "    dataset = tf.data.TFRecordDataset(filenames, num_parallel_reads=AUTO)\n",
        "    dataset = dataset.with_options(ignore_order)\n",
        "\n",
        "    # Parse the serialized data in the TFRecords files.\n",
        "    dataset = dataset.map(lambda x: _parse_function(x))\n",
        "    dataset = dataset.padded_batch(batch_size)\n",
        "    dataset = dataset.shuffle(500, reshuffle_each_iteration=True)\n",
        "\n",
        "    return dataset"
      ]
    },
    {
      "cell_type": "markdown",
      "metadata": {
        "id": "QPk6O_EgQhjk"
      },
      "source": [
        "# Q/A model using BERT"
      ]
    },
    {
      "cell_type": "markdown",
      "metadata": {
        "id": "K0B8wZE-aw_b"
      },
      "source": [
        "## Model Class"
      ]
    },
    {
      "cell_type": "code",
      "execution_count": null,
      "metadata": {
        "id": "8AS74OhZMiZ8"
      },
      "outputs": [],
      "source": [
        "from tensorflow.keras.losses import Loss\n",
        "class QA_loss(Loss):\n",
        "\n",
        "  def call(self, y_true, y_pred):\n",
        "    y_true = tf.squeeze(y_true, axis = 2)\n",
        "    loss = tf.keras.losses.SparseCategoricalCrossentropy(from_logits = True, reduction=tf.keras.losses.Reduction.NONE)(y_true, tf.transpose(y_pred, perm = (0, 2, 1)))\n",
        "    loss = tf.reduce_sum(loss, axis = 1)\n",
        "    loss = tf.reduce_mean(loss)\n",
        "    return loss"
      ]
    },
    {
      "cell_type": "code",
      "execution_count": null,
      "metadata": {
        "id": "OFtw0tSdpniw"
      },
      "outputs": [],
      "source": [
        "class BERT_QA(object):\n",
        "    def __init__(self, bert_model, lr = 1e-3):\n",
        "        self.build_model(bert_model, lr)\n",
        "    def build_model(self, bert_model, lr):\n",
        "        input_ids = tf.keras.layers.Input(shape = (None,), name = 'input_ids', dtype = tf.int64)\n",
        "        token_type_ids = tf.keras.layers.Input(shape = (None,), name = 'token_type_ids', dtype = tf.int64)\n",
        "        attention_mask = tf.keras.layers.Input(shape = (None,), name = 'attention_mask', dtype = tf.int64)\n",
        "        \n",
        "        d = {'input_ids':input_ids, 'token_type_ids':token_type_ids, 'attention_mask':attention_mask}\n",
        "        bert_outputs = bert_model(d)\n",
        "        bert_outputs['pooler_output'] = tf.stop_gradient(bert_outputs['pooler_output'])\n",
        "        bert_output = bert_outputs['last_hidden_state']\n",
        "\n",
        "        fc = tf.keras.layers.Dense(2, activation = 'linear', name = 'positions', use_bias=True)\n",
        "        predictions = fc(bert_output)\n",
        "\n",
        "        # fc1 = tf.keras.layers.Dense(1, activation = 'linear', name = 'start_positions', use_bias=False)\n",
        "        # fc2 = tf.keras.layers.Dense(1, activation = 'linear', name = 'end_positions', use_bias=False)\n",
        "\n",
        "        # start_pred = fc1(bert_output)\n",
        "        # end_pred = fc2(bert_output)\n",
        "\n",
        "        # loss_fn1 = tf.keras.losses.SparseCategoricalCrossentropy(from_logits = True)\n",
        "        # loss_fn2 = tf.keras.losses.SparseCategoricalCrossentropy(from_logits = True)\n",
        "\n",
        "        self.model = tf.keras.Model(inputs=[input_ids, token_type_ids, attention_mask], outputs=predictions)\n",
        "        optimizer = tf.keras.optimizers.Adam(learning_rate=lr)\n",
        "        # optimizer = tfa.optimizers.AdamW(learning_rate=lr, weight_decay=1e-4)\n",
        "        # self.model.compile(optimizer=optimizer, loss=[loss_fn1, loss_fn2], loss_weights = [1,1])\n",
        "        # self.model.compile(optimizer=optimizer, loss=[loss_fn1, loss_fn2], loss_weights = [1,1])\n",
        "        self.model.compile(optimizer=optimizer, loss = QA_loss())\n",
        "\n",
        "        print(self.model.summary())\n",
        "    def train(self, train_batch, val_batch, epochs, callbacks):\n",
        "        history = self.model.fit(train_batch, epochs = epochs, callbacks = callbacks, validation_data = val_batch)\n",
        "        return history"
      ]
    },
    {
      "cell_type": "markdown",
      "metadata": {
        "id": "M103YNRva0ba"
      },
      "source": [
        "## Fine-Tuning"
      ]
    },
    {
      "cell_type": "code",
      "execution_count": null,
      "metadata": {
        "id": "0POg35BP9AFo"
      },
      "outputs": [],
      "source": [
        "def scheduler(epoch, lr):\n",
        "  if epoch < 5:\n",
        "    return lr\n",
        "  else:\n",
        "    return lr * tf.math.exp(-0.1)"
      ]
    },
    {
      "cell_type": "code",
      "execution_count": null,
      "metadata": {
        "colab": {
          "background_save": true,
          "base_uri": "https://localhost:8080/"
        },
        "id": "FGWd0X-lp0ru",
        "outputId": "d211321c-3827-4bbe-be88-af2f8caaa962"
      },
      "outputs": [
        {
          "name": "stdout",
          "output_type": "stream",
          "text": [
            "Model: \"model\"\n",
            "__________________________________________________________________________________________________\n",
            " Layer (type)                   Output Shape         Param #     Connected to                     \n",
            "==================================================================================================\n",
            " attention_mask (InputLayer)    [(None, None)]       0           []                               \n",
            "                                                                                                  \n",
            " input_ids (InputLayer)         [(None, None)]       0           []                               \n",
            "                                                                                                  \n",
            " token_type_ids (InputLayer)    [(None, None)]       0           []                               \n",
            "                                                                                                  \n",
            " tf_bert_model_2 (TFBertModel)  TFBaseModelOutputWi  109482240   ['attention_mask[0][0]',         \n",
            "                                thPoolingAndCrossAt               'input_ids[0][0]',              \n",
            "                                tentions(last_hidde               'token_type_ids[0][0]']         \n",
            "                                n_state=(None, None                                               \n",
            "                                , 768),                                                           \n",
            "                                 pooler_output=(Non                                               \n",
            "                                e, 768),                                                          \n",
            "                                 past_key_values=No                                               \n",
            "                                ne, hidden_states=N                                               \n",
            "                                one, attentions=Non                                               \n",
            "                                e, cross_attentions                                               \n",
            "                                =None)                                                            \n",
            "                                                                                                  \n",
            " positions (Dense)              (None, None, 2)      1538        ['tf_bert_model_2[11][0]']       \n",
            "                                                                                                  \n",
            "==================================================================================================\n",
            "Total params: 109,483,778\n",
            "Trainable params: 109,483,778\n",
            "Non-trainable params: 0\n",
            "__________________________________________________________________________________________________\n",
            "None\n",
            "Epoch 1/15\n",
            "WARNING:tensorflow:Gradients do not exist for variables ['tf_bert_model_2/bert/pooler/dense/kernel:0', 'tf_bert_model_2/bert/pooler/dense/bias:0'] when minimizing the loss. If you're using `model.compile()`, did you forget to provide a `loss`argument?\n",
            "WARNING:tensorflow:Gradients do not exist for variables ['tf_bert_model_2/bert/pooler/dense/kernel:0', 'tf_bert_model_2/bert/pooler/dense/bias:0'] when minimizing the loss. If you're using `model.compile()`, did you forget to provide a `loss`argument?\n",
            "1158/1158 [==============================] - 274s 224ms/step - loss: 10.3608 - val_loss: 10.5859 - lr: 0.0010\n",
            "Epoch 2/15\n",
            "1158/1158 [==============================] - 256s 220ms/step - loss: 10.3380 - val_loss: 10.5859 - lr: 0.0010\n",
            "Epoch 3/15\n",
            "1158/1158 [==============================] - 255s 220ms/step - loss: 10.3306 - val_loss: 10.5859 - lr: 0.0010\n",
            "Epoch 4/15\n",
            "1158/1158 [==============================] - 254s 220ms/step - loss: 10.3279 - val_loss: 10.5859 - lr: 0.0010\n",
            "Epoch 5/15\n",
            "1158/1158 [==============================] - 255s 220ms/step - loss: 10.3242 - val_loss: 10.5860 - lr: 0.0010\n",
            "Epoch 6/15\n",
            "1158/1158 [==============================] - 256s 221ms/step - loss: 10.3254 - val_loss: 10.5859 - lr: 9.0484e-04\n",
            "Epoch 7/15\n",
            "1158/1158 [==============================] - 254s 219ms/step - loss: 10.3234 - val_loss: 10.5859 - lr: 8.1873e-04\n",
            "Epoch 8/15\n",
            "1158/1158 [==============================] - 254s 219ms/step - loss: 10.3208 - val_loss: 10.5859 - lr: 7.4082e-04\n",
            "Epoch 9/15\n",
            "1158/1158 [==============================] - 253s 219ms/step - loss: 10.3213 - val_loss: 10.5859 - lr: 6.7032e-04\n",
            "Epoch 10/15\n",
            "1158/1158 [==============================] - 252s 217ms/step - loss: 10.3178 - val_loss: 10.5859 - lr: 6.0653e-04\n",
            "Epoch 11/15\n",
            "1158/1158 [==============================] - 254s 219ms/step - loss: 10.3205 - val_loss: 10.5859 - lr: 5.4881e-04\n",
            "Epoch 12/15\n",
            "1158/1158 [==============================] - 253s 218ms/step - loss: 10.3149 - val_loss: 10.5859 - lr: 4.9659e-04\n"
          ]
        }
      ],
      "source": [
        "tf.compat.v1.reset_default_graph()\n",
        "model = BERT_QA(bert_model)\n",
        "train_batch = get_batched_dataset()\n",
        "val_batch = get_batched_dataset('processed_data/val.tfrecords')\n",
        "test_batch = get_batched_dataset('processed_data/test.tfrecords')\n",
        "callbacks = [tf.keras.callbacks.EarlyStopping(monitor='val_loss', patience=10, restore_best_weights = True, min_delta = 1e-7), \n",
        "            tf.keras.callbacks.ModelCheckpoint(filepath='models_2/model_new_29.{epoch:02d}-{val_loss:.2f}', save_format=\"tf\", save_weights_only = True),\n",
        "            tf.keras.callbacks.LearningRateScheduler(scheduler)]#, print_weights]\n",
        "\n",
        "history = model.train(train_batch, val_batch, epochs = 15, callbacks=callbacks)\n"
      ]
    },
    {
      "cell_type": "code",
      "execution_count": null,
      "metadata": {
        "colab": {
          "base_uri": "https://localhost:8080/"
        },
        "id": "a_vstP9dSDev",
        "outputId": "5db822f9-7c68-4279-a020-e96a5adb7783"
      },
      "outputs": [
        {
          "name": "stdout",
          "output_type": "stream",
          "text": [
            "tf.Tensor(\n",
            "[[[20]\n",
            "  [25]]\n",
            "\n",
            " [[80]\n",
            "  [84]]\n",
            "\n",
            " [[66]\n",
            "  [66]]\n",
            "\n",
            " [[79]\n",
            "  [83]]], shape=(4, 2, 1), dtype=int64)\n"
          ]
        }
      ],
      "source": [
        "for a, y in train_batch:\n",
        "    print(y)\n",
        "    break"
      ]
    },
    {
      "cell_type": "code",
      "execution_count": null,
      "metadata": {
        "colab": {
          "base_uri": "https://localhost:8080/",
          "height": 323
        },
        "id": "e4SeZVi1UGTM",
        "outputId": "0f371429-f030-48b6-c2bd-bc5df2cb71e4"
      },
      "outputs": [
        {
          "ename": "TypeError",
          "evalue": "ignored",
          "output_type": "error",
          "traceback": [
            "\u001b[0;31m---------------------------------------------------------------------------\u001b[0m",
            "\u001b[0;31mTypeError\u001b[0m                                 Traceback (most recent call last)",
            "\u001b[0;32m<ipython-input-216-72320fe5b919>\u001b[0m in \u001b[0;36m<module>\u001b[0;34m()\u001b[0m\n\u001b[0;32m----> 1\u001b[0;31m \u001b[0mQA_loss\u001b[0m\u001b[0;34m(\u001b[0m\u001b[0my\u001b[0m\u001b[0;34m,\u001b[0m \u001b[0mtf\u001b[0m\u001b[0;34m.\u001b[0m\u001b[0mrandom\u001b[0m\u001b[0;34m.\u001b[0m\u001b[0muniform\u001b[0m\u001b[0;34m(\u001b[0m\u001b[0;34m(\u001b[0m\u001b[0;36m4\u001b[0m\u001b[0;34m,\u001b[0m \u001b[0;36m90\u001b[0m\u001b[0;34m,\u001b[0m \u001b[0;36m2\u001b[0m\u001b[0;34m)\u001b[0m\u001b[0;34m)\u001b[0m\u001b[0;34m)\u001b[0m\u001b[0;34m\u001b[0m\u001b[0;34m\u001b[0m\u001b[0m\n\u001b[0m",
            "\u001b[0;32m/usr/local/lib/python3.7/dist-packages/keras/losses.py\u001b[0m in \u001b[0;36m__init__\u001b[0;34m(self, reduction, name)\u001b[0m\n\u001b[1;32m     86\u001b[0m       \u001b[0mname\u001b[0m\u001b[0;34m:\u001b[0m \u001b[0mOptional\u001b[0m \u001b[0mname\u001b[0m \u001b[0;32mfor\u001b[0m \u001b[0mthe\u001b[0m \u001b[0minstance\u001b[0m\u001b[0;34m.\u001b[0m\u001b[0;34m\u001b[0m\u001b[0;34m\u001b[0m\u001b[0m\n\u001b[1;32m     87\u001b[0m     \"\"\"\n\u001b[0;32m---> 88\u001b[0;31m     \u001b[0mlosses_utils\u001b[0m\u001b[0;34m.\u001b[0m\u001b[0mReductionV2\u001b[0m\u001b[0;34m.\u001b[0m\u001b[0mvalidate\u001b[0m\u001b[0;34m(\u001b[0m\u001b[0mreduction\u001b[0m\u001b[0;34m)\u001b[0m\u001b[0;34m\u001b[0m\u001b[0;34m\u001b[0m\u001b[0m\n\u001b[0m\u001b[1;32m     89\u001b[0m     \u001b[0mself\u001b[0m\u001b[0;34m.\u001b[0m\u001b[0mreduction\u001b[0m \u001b[0;34m=\u001b[0m \u001b[0mreduction\u001b[0m\u001b[0;34m\u001b[0m\u001b[0;34m\u001b[0m\u001b[0m\n\u001b[1;32m     90\u001b[0m     \u001b[0mself\u001b[0m\u001b[0;34m.\u001b[0m\u001b[0mname\u001b[0m \u001b[0;34m=\u001b[0m \u001b[0mname\u001b[0m\u001b[0;34m\u001b[0m\u001b[0;34m\u001b[0m\u001b[0m\n",
            "\u001b[0;32m/usr/local/lib/python3.7/dist-packages/keras/utils/losses_utils.py\u001b[0m in \u001b[0;36mvalidate\u001b[0;34m(cls, key)\u001b[0m\n\u001b[1;32m     80\u001b[0m   \u001b[0;34m@\u001b[0m\u001b[0mclassmethod\u001b[0m\u001b[0;34m\u001b[0m\u001b[0;34m\u001b[0m\u001b[0m\n\u001b[1;32m     81\u001b[0m   \u001b[0;32mdef\u001b[0m \u001b[0mvalidate\u001b[0m\u001b[0;34m(\u001b[0m\u001b[0mcls\u001b[0m\u001b[0;34m,\u001b[0m \u001b[0mkey\u001b[0m\u001b[0;34m)\u001b[0m\u001b[0;34m:\u001b[0m\u001b[0;34m\u001b[0m\u001b[0;34m\u001b[0m\u001b[0m\n\u001b[0;32m---> 82\u001b[0;31m     \u001b[0;32mif\u001b[0m \u001b[0mkey\u001b[0m \u001b[0;32mnot\u001b[0m \u001b[0;32min\u001b[0m \u001b[0mcls\u001b[0m\u001b[0;34m.\u001b[0m\u001b[0mall\u001b[0m\u001b[0;34m(\u001b[0m\u001b[0;34m)\u001b[0m\u001b[0;34m:\u001b[0m\u001b[0;34m\u001b[0m\u001b[0;34m\u001b[0m\u001b[0m\n\u001b[0m\u001b[1;32m     83\u001b[0m       raise ValueError(\n\u001b[1;32m     84\u001b[0m           f'Invalid Reduction Key: {key}. Expected keys are \"{cls.all()}\"')\n",
            "\u001b[0;32m/usr/local/lib/python3.7/dist-packages/tensorflow/python/util/traceback_utils.py\u001b[0m in \u001b[0;36merror_handler\u001b[0;34m(*args, **kwargs)\u001b[0m\n\u001b[1;32m    151\u001b[0m     \u001b[0;32mexcept\u001b[0m \u001b[0mException\u001b[0m \u001b[0;32mas\u001b[0m \u001b[0me\u001b[0m\u001b[0;34m:\u001b[0m\u001b[0;34m\u001b[0m\u001b[0;34m\u001b[0m\u001b[0m\n\u001b[1;32m    152\u001b[0m       \u001b[0mfiltered_tb\u001b[0m \u001b[0;34m=\u001b[0m \u001b[0m_process_traceback_frames\u001b[0m\u001b[0;34m(\u001b[0m\u001b[0me\u001b[0m\u001b[0;34m.\u001b[0m\u001b[0m__traceback__\u001b[0m\u001b[0;34m)\u001b[0m\u001b[0;34m\u001b[0m\u001b[0;34m\u001b[0m\u001b[0m\n\u001b[0;32m--> 153\u001b[0;31m       \u001b[0;32mraise\u001b[0m \u001b[0me\u001b[0m\u001b[0;34m.\u001b[0m\u001b[0mwith_traceback\u001b[0m\u001b[0;34m(\u001b[0m\u001b[0mfiltered_tb\u001b[0m\u001b[0;34m)\u001b[0m \u001b[0;32mfrom\u001b[0m \u001b[0;32mNone\u001b[0m\u001b[0;34m\u001b[0m\u001b[0;34m\u001b[0m\u001b[0m\n\u001b[0m\u001b[1;32m    154\u001b[0m     \u001b[0;32mfinally\u001b[0m\u001b[0;34m:\u001b[0m\u001b[0;34m\u001b[0m\u001b[0;34m\u001b[0m\u001b[0m\n\u001b[1;32m    155\u001b[0m       \u001b[0;32mdel\u001b[0m \u001b[0mfiltered_tb\u001b[0m\u001b[0;34m\u001b[0m\u001b[0;34m\u001b[0m\u001b[0m\n",
            "\u001b[0;32m/usr/local/lib/python3.7/dist-packages/tensorflow/python/framework/constant_op.py\u001b[0m in \u001b[0;36mconvert_to_eager_tensor\u001b[0;34m(value, ctx, dtype)\u001b[0m\n\u001b[1;32m    100\u001b[0m       \u001b[0mdtype\u001b[0m \u001b[0;34m=\u001b[0m \u001b[0mdtypes\u001b[0m\u001b[0;34m.\u001b[0m\u001b[0mas_dtype\u001b[0m\u001b[0;34m(\u001b[0m\u001b[0mdtype\u001b[0m\u001b[0;34m)\u001b[0m\u001b[0;34m.\u001b[0m\u001b[0mas_datatype_enum\u001b[0m\u001b[0;34m\u001b[0m\u001b[0;34m\u001b[0m\u001b[0m\n\u001b[1;32m    101\u001b[0m   \u001b[0mctx\u001b[0m\u001b[0;34m.\u001b[0m\u001b[0mensure_initialized\u001b[0m\u001b[0;34m(\u001b[0m\u001b[0;34m)\u001b[0m\u001b[0;34m\u001b[0m\u001b[0;34m\u001b[0m\u001b[0m\n\u001b[0;32m--> 102\u001b[0;31m   \u001b[0;32mreturn\u001b[0m \u001b[0mops\u001b[0m\u001b[0;34m.\u001b[0m\u001b[0mEagerTensor\u001b[0m\u001b[0;34m(\u001b[0m\u001b[0mvalue\u001b[0m\u001b[0;34m,\u001b[0m \u001b[0mctx\u001b[0m\u001b[0;34m.\u001b[0m\u001b[0mdevice_name\u001b[0m\u001b[0;34m,\u001b[0m \u001b[0mdtype\u001b[0m\u001b[0;34m)\u001b[0m\u001b[0;34m\u001b[0m\u001b[0;34m\u001b[0m\u001b[0m\n\u001b[0m\u001b[1;32m    103\u001b[0m \u001b[0;34m\u001b[0m\u001b[0m\n\u001b[1;32m    104\u001b[0m \u001b[0;34m\u001b[0m\u001b[0m\n",
            "\u001b[0;31mTypeError\u001b[0m: Cannot convert 'auto' to EagerTensor of dtype int64"
          ]
        }
      ],
      "source": [
        "QA_loss(y, tf.random.uniform((4, 90, 2)))"
      ]
    },
    {
      "cell_type": "markdown",
      "metadata": {
        "id": "KIEc6KRPa4mD"
      },
      "source": [
        "## Evaluation"
      ]
    },
    {
      "cell_type": "markdown",
      "metadata": {
        "id": "Nddjuelgcvjy"
      },
      "source": [
        "### Validation"
      ]
    },
    {
      "cell_type": "code",
      "execution_count": null,
      "metadata": {
        "id": "4kTdjvZDlTZG"
      },
      "outputs": [],
      "source": [
        "def predict(question, context, tokenizer, model):  \n",
        "    inputs = tokenizer(question, context, return_tensors = 'tf')\n",
        "    ps, pe = model.predict([inputs['input_ids'], inputs['token_type_ids'], inputs['attention_mask']])\n",
        "    start_ind = tf.math.argmax(ps[0])\n",
        "    end_ind = tf.math.argmax(pe[0])\n",
        "    # print(inputs['input_ids'])\n",
        "    # print(start_ind.numpy())\n",
        "    # print(end_ind.numpy())\n",
        "    pred_tokens = inputs['input_ids'][0][start_ind.numpy()[0]:end_ind.numpy()[0] + 1]\n",
        "    pred_answer = tokenizer.decode()\n",
        "    return pred_tokens, pred_answer"
      ]
    },
    {
      "cell_type": "code",
      "execution_count": null,
      "metadata": {
        "colab": {
          "base_uri": "https://localhost:8080/"
        },
        "id": "3tpVI4Y6mJHd",
        "outputId": "252e5be6-beae-4017-91d5-b84a1b105020"
      },
      "outputs": [
        {
          "name": "stderr",
          "output_type": "stream",
          "text": [
            "365it [00:58,  6.29it/s]"
          ]
        },
        {
          "name": "stdout",
          "output_type": "stream",
          "text": [
            "Average Validation EM:  0.0006863417982155113\n",
            "Average Validation F1:  0.04461892979369322\n"
          ]
        },
        {
          "name": "stderr",
          "output_type": "stream",
          "text": [
            "\n"
          ]
        }
      ],
      "source": [
        "import collections\n",
        "em_list = []\n",
        "f1_list = []\n",
        "examples_val = []\n",
        "for inputs, outputs in tqdm(val_batch):\n",
        "    batch_size = inputs['input_ids'].shape[0]\n",
        "    ps, pe = model.model.predict([inputs['input_ids'], inputs['token_type_ids'], inputs['attention_mask']])    \n",
        "    for i in range(batch_size):\n",
        "        start_ind = tf.math.argmax(ps[i])\n",
        "        end_ind = tf.math.argmax(pe[i])\n",
        "\n",
        "        true_start = outputs['start_positions'][i].numpy()[0]\n",
        "        true_end = outputs['end_positions'][i].numpy()[0]\n",
        "\n",
        "        if end_ind < start_ind:\n",
        "            pred_tokens = tf.cast(tokenizer('nr', return_tensors='tf')['input_ids'][0], dtype = tf.int32)\n",
        "        else:\n",
        "            pred_tokens = tf.cast(inputs['input_ids'][i][start_ind.numpy()[0]:end_ind.numpy()[0] + 1], dtype = tf.int32)\n",
        "        true_tokens = tf.cast(inputs['input_ids'][i][true_start:true_end+1], dtype = tf.int32)\n",
        "        # print(true_tokens, pred_tokens)\n",
        "        if len(true_tokens) != len(pred_tokens):\n",
        "            em_list.append(0)\n",
        "        elif tf.reduce_sum(tf.cast(true_tokens != pred_tokens, dtype = tf.int64)) > 0:\n",
        "            em_list.append(0)\n",
        "        else:\n",
        "            em_list.append(1)\n",
        "        tmp = sum((collections.Counter(list(true_tokens.numpy())) & collections.Counter(list(pred_tokens.numpy()))).values())\n",
        "        if len(pred_tokens) == 0 or len(true_tokens) == 0 or tmp == 0:\n",
        "            f1 = 0\n",
        "        else:\n",
        "            prec = tmp/len(pred_tokens)\n",
        "            rec = tmp/len(true_tokens)\n",
        "            f1 = 2 * prec * rec / (prec + rec)\n",
        "        f1_list.append(f1)\n",
        "        examples_val.append((tokenizer.decode(inputs['input_ids'][i]), tokenizer.decode(true_tokens), tokenizer.decode(pred_tokens)))\n",
        "    # break\n",
        "\n",
        "print('Average Validation EM: ', np.mean(em_list))\n",
        "print('Average Validation F1: ', np.mean(f1_list))\n"
      ]
    },
    {
      "cell_type": "markdown",
      "metadata": {
        "id": "-ZKrRsjjcx1J"
      },
      "source": [
        "### Test"
      ]
    },
    {
      "cell_type": "code",
      "execution_count": null,
      "metadata": {
        "colab": {
          "base_uri": "https://localhost:8080/"
        },
        "id": "Ow4kM-wdwoRc",
        "outputId": "730648af-07d6-4c64-d457-4e8744c78e6d"
      },
      "outputs": [
        {
          "name": "stderr",
          "output_type": "stream",
          "text": [
            "202it [00:29,  6.83it/s]"
          ]
        },
        {
          "name": "stdout",
          "output_type": "stream",
          "text": [
            "Average Test EM:  0.0012376237623762376\n",
            "Average Test F1:  0.07250895383264372\n",
            "Average Test Loss:  10.628829\n"
          ]
        },
        {
          "name": "stderr",
          "output_type": "stream",
          "text": [
            "\n"
          ]
        }
      ],
      "source": [
        "import collections\n",
        "em_list = []\n",
        "f1_list = []\n",
        "examples_test = []\n",
        "test_loss = []\n",
        "L = tf.keras.losses.SparseCategoricalCrossentropy(from_logits = True)\n",
        "for inputs, outputs in tqdm(test_batch):\n",
        "    batch_size = inputs['input_ids'].shape[0]\n",
        "    ps, pe = model.model.predict([inputs['input_ids'], inputs['token_type_ids'], inputs['attention_mask']])\n",
        "    test_loss.append(L(outputs['start_positions'], tf.squeeze(ps)) + L(outputs['end_positions'], tf.squeeze(pe)))    \n",
        "    for i in range(batch_size):\n",
        "        start_ind = tf.math.argmax(ps[i])\n",
        "        end_ind = tf.math.argmax(pe[i])\n",
        "\n",
        "        true_start = outputs['start_positions'][i].numpy()[0]\n",
        "        true_end = outputs['end_positions'][i].numpy()[0]\n",
        "\n",
        "        if end_ind < start_ind:\n",
        "            pred_tokens = tf.cast(tokenizer('nr', return_tensors='tf')['input_ids'][0], dtype = tf.int32)\n",
        "        else:\n",
        "            pred_tokens = tf.cast(inputs['input_ids'][i][start_ind.numpy()[0]:end_ind.numpy()[0] + 1], dtype = tf.int32)\n",
        "        true_tokens = tf.cast(inputs['input_ids'][i][true_start:true_end+1], dtype = tf.int32)\n",
        "        # print(true_tokens, pred_tokens)\n",
        "        if len(true_tokens) != len(pred_tokens):\n",
        "            em_list.append(0)\n",
        "        elif tf.reduce_sum(tf.cast(true_tokens != pred_tokens, dtype = tf.int64)) > 0:\n",
        "            em_list.append(0)\n",
        "        else:\n",
        "            em_list.append(1)\n",
        "        tmp = sum((collections.Counter(list(true_tokens.numpy())) & collections.Counter(list(pred_tokens.numpy()))).values())\n",
        "        if len(pred_tokens) == 0 or len(true_tokens) == 0 or tmp == 0:\n",
        "            f1 = 0\n",
        "        else:\n",
        "            prec = tmp/len(pred_tokens)\n",
        "            rec = tmp/len(true_tokens)\n",
        "            f1 = 2 * prec * rec / (prec + rec)\n",
        "        f1_list.append(f1)\n",
        "        examples_test.append((tokenizer.decode(inputs['input_ids'][i]), tokenizer.decode(true_tokens), tokenizer.decode(pred_tokens)))\n",
        "\n",
        "    # break\n",
        "\n",
        "print('Average Test EM: ', np.mean(em_list))\n",
        "print('Average Test F1: ', np.mean(f1_list))\n",
        "print('Average Test Loss: ', np.mean(test_loss))\n"
      ]
    },
    {
      "cell_type": "markdown",
      "metadata": {
        "id": "k7NED6ydc0BG"
      },
      "source": [
        "### Training"
      ]
    },
    {
      "cell_type": "code",
      "execution_count": null,
      "metadata": {
        "colab": {
          "base_uri": "https://localhost:8080/"
        },
        "id": "x-WnkVHV8Thf",
        "outputId": "6a4d6473-1e57-4b33-b24b-50bd09882301"
      },
      "outputs": [
        {
          "name": "stderr",
          "output_type": "stream",
          "text": [
            "1158it [02:26,  7.89it/s]"
          ]
        },
        {
          "name": "stdout",
          "output_type": "stream",
          "text": [
            "Average Train EM:  0.0\n",
            "Average Train F1:  0.0285546113973101\n"
          ]
        },
        {
          "name": "stderr",
          "output_type": "stream",
          "text": [
            "\n"
          ]
        }
      ],
      "source": [
        "import collections\n",
        "em_list = []\n",
        "f1_list = []\n",
        "examples_train = []\n",
        "for inputs, outputs in tqdm(train_batch):\n",
        "    batch_size = inputs['input_ids'].shape[0]\n",
        "    ps, pe = model.model.predict([inputs['input_ids'], inputs['token_type_ids'], inputs['attention_mask']])    \n",
        "    for i in range(batch_size):\n",
        "        start_ind = tf.math.argmax(ps[i])\n",
        "        end_ind = tf.math.argmax(pe[i])\n",
        "\n",
        "        true_start = outputs['start_positions'][i].numpy()[0]\n",
        "        true_end = outputs['end_positions'][i].numpy()[0]\n",
        "\n",
        "        if end_ind < start_ind:\n",
        "            pred_tokens = tf.cast(tokenizer('nr', return_tensors='tf')['input_ids'][0], dtype = tf.int32)\n",
        "        else:\n",
        "            pred_tokens = tf.cast(inputs['input_ids'][i][start_ind.numpy()[0]:end_ind.numpy()[0] + 1], dtype = tf.int32)\n",
        "        true_tokens = tf.cast(inputs['input_ids'][i][true_start:true_end+1], dtype = tf.int32)\n",
        "        # print(true_tokens, pred_tokens)\n",
        "        if len(true_tokens) != len(pred_tokens):\n",
        "            em_list.append(0)\n",
        "        elif tf.reduce_sum(tf.cast(true_tokens != pred_tokens, dtype = tf.int64)) > 0:\n",
        "            em_list.append(0)\n",
        "        else:\n",
        "            em_list.append(1)\n",
        "        tmp = sum((collections.Counter(list(true_tokens.numpy())) & collections.Counter(list(pred_tokens.numpy()))).values())\n",
        "        if len(pred_tokens) == 0 or len(true_tokens) == 0 or tmp == 0:\n",
        "            f1 = 0\n",
        "        else:\n",
        "            prec = tmp/len(pred_tokens)\n",
        "            rec = tmp/len(true_tokens)\n",
        "            f1 = 2 * prec * rec / (prec + rec)\n",
        "        f1_list.append(f1)\n",
        "        examples_train.append((tokenizer.decode(inputs['input_ids'][i]), tokenizer.decode(true_tokens), tokenizer.decode(pred_tokens)))\n",
        "\n",
        "    # break\n",
        "\n",
        "print('Average Train EM: ', np.mean(em_list))\n",
        "print('Average Train F1: ', np.mean(f1_list))\n"
      ]
    },
    {
      "cell_type": "markdown",
      "metadata": {
        "id": "1zKm6fCf1oUk"
      },
      "source": [
        "### Examples"
      ]
    },
    {
      "cell_type": "code",
      "execution_count": null,
      "metadata": {
        "id": "kinfaTog0G9C"
      },
      "outputs": [],
      "source": [
        "import pickle\n",
        "pickle.dump([examples_train, examples_val, examples_test], open('examples.pkl', 'wb'))"
      ]
    },
    {
      "cell_type": "code",
      "execution_count": null,
      "metadata": {
        "colab": {
          "base_uri": "https://localhost:8080/"
        },
        "id": "brCeiaT60dWg",
        "outputId": "55a87724-6cd3-46c5-f5a4-7469cd6085c8"
      },
      "outputs": [
        {
          "data": {
            "text/plain": [
              "(('[CLS] what is the lowest nighttime temperature recorded at st. barts? [SEP] the island covers an area of 25 square kilometres ( 2, 500 ha ). the eastern side is wetter than the western. although the climate is essentially arid, the rainfall does average 1000 mm annually, but with considerable variation over the terrain. summer is from may to november, which is also the rainy season. winter from december to april is the dry season. sunshine is very prominent for nearly the entire year and even during the rainy season. humidity, however, is not very high due to the winds. the average temperature is around 25 °c with day temperatures rising to 32 °c. the average high and low temperatures in january are 28 °c and 22 °c, respectively, while in july they are 30 °c and 24 °c. the lowest night temperature recorded is 13 °c. the caribbean sea waters in the vicinity generally maintain a temperature of about 27 °c. nr [SEP]',\n",
              "  '13 °c',\n",
              "  'nighttime temperature recorded at st.'),\n",
              " ('[CLS] when did season nine premiere? [SEP] season nine premiered on january 12, 2010. the upheaval at the judging panel continued. ellen degeneres joined as a judge to replace paula abdul at the start of hollywood week. nr [SEP] [PAD] [PAD] [PAD] [PAD] [PAD] [PAD] [PAD] [PAD] [PAD] [PAD] [PAD] [PAD]',\n",
              "  'january 12, 2010',\n",
              "  '. the upheaval'))"
            ]
          },
          "execution_count": 34,
          "metadata": {},
          "output_type": "execute_result"
        }
      ],
      "source": [
        "examples_train[456], examples_train[450]"
      ]
    },
    {
      "cell_type": "code",
      "execution_count": null,
      "metadata": {
        "colab": {
          "base_uri": "https://localhost:8080/"
        },
        "id": "_qjWEuE41sau",
        "outputId": "6d739863-a31e-497c-99df-0bdaeb0ce016"
      },
      "outputs": [
        {
          "data": {
            "text/plain": [
              "(('[CLS] what was the original name of the college street music hall? [SEP] the city hosts numerous theatres and production houses, including the yale repertory theatre, the long wharf theatre, and the shubert theatre. there is also theatre activity from the yale school of drama, which works through the yale university theatre and the student - run yale cabaret. southern connecticut state university hosts the lyman center for the performing arts. the shuttered palace theatre ( opposite the shubert theatre ) is being renovated and will reopen as the college street music hall in may, 2015. smaller theatres include the little theater on lincoln street. cooperative arts and humanities high school also boasts a state - of - the - art theatre on college street. the theatre is used for student productions as well as the home to weekly services to a local non - denominational church, the city church new haven. nr [SEP] [PAD] [PAD] [PAD] [PAD] [PAD] [PAD] [PAD] [PAD] [PAD]',\n",
              "  'palace theatre',\n",
              "  'yale repertory theatre, the long wharf theatre, and the shubert theatre. there is also theatre activity from the yale school of drama, which works through the yale university theatre and the student - run yale cabaret. southern connecticut state university hosts'),\n",
              " (\"[CLS] what did new haven colony not permit that principally distinguished it from connecticut colony? [SEP] by 1640, the town's theocratic government and nine - square grid plan were in place, and the town was renamed newhaven from quinnipiac. however, the area north of new haven remained quinnipiac until 1678, when it was renamed hamden. the settlement became the headquarters of the new haven colony. at the time, the new haven colony was separate from the connecticut colony, which had been established to the north centering on hartford. one of the principal differences between the two colonies was that the new haven colony was an intolerant theocracy that did not permit other churches to be established, while the connecticut colony permitted the establishment of other churches. nr [SEP] [PAD]\",\n",
              "  'other churches to be established',\n",
              "  \"new haven colony not permit that principally distinguished it from connecticut colony? [SEP] by 1640, the town's theocratic government and nine - square grid plan were in place, and the town was renamed newhaven from quinnipiac. however, the area north of new haven remained quinnipiac until 1678, when it was renamed hamden. the settlement became the headquarters of the new haven colony. at\"))"
            ]
          },
          "execution_count": 35,
          "metadata": {},
          "output_type": "execute_result"
        }
      ],
      "source": [
        "examples_val[50], examples_val[100]"
      ]
    },
    {
      "cell_type": "code",
      "execution_count": null,
      "metadata": {
        "colab": {
          "base_uri": "https://localhost:8080/"
        },
        "id": "bdfNt36p1sUc",
        "outputId": "8737a366-a8de-456d-82e4-6b551049964d"
      },
      "outputs": [
        {
          "data": {
            "text/plain": [
              "(('[CLS] what cities influenced how department stores in germany operated? [SEP] the design and function of department stores in germany followed the lead of london, paris and new york. germany used to have a number of department stores ; nowadays only a few of them remain. next to some smaller, independent department stores these are karstadt ( in 2010 taken over by nicolas berggruen, also operating the kadewe in berlin, the alsterhaus in hamburg and the oberpollinger in munich ), galeria kaufhof ( part of the metro ag ). others like hertie, wertheim and horten ag were taken over by others and either fully integrated or later closed. nr [SEP] [PAD] [PAD] [PAD] [PAD] [PAD] [PAD] [PAD] [PAD] [PAD] [PAD] [PAD] [PAD] [PAD] [PAD] [PAD] [PAD] [PAD] [PAD] [PAD] [PAD] [PAD] [PAD] [PAD] [PAD] [PAD] [PAD] [PAD] [PAD] [PAD] [PAD] [PAD] [PAD] [PAD] [PAD] [PAD] [PAD] [PAD] [PAD] [PAD] [PAD] [PAD] [PAD] [PAD] [PAD] [PAD] [PAD] [PAD] [PAD] [PAD] [PAD] [PAD] [PAD] [PAD] [PAD] [PAD] [PAD] [PAD] [PAD] [PAD] [PAD] [PAD]',\n",
              "  'london, paris and new york.',\n",
              "  'london, paris and new york. germany used to have a number of department stores ; nowadays only a few of them remain. next'),\n",
              " (\"[CLS] what store led the indonesian markets until 2010 when it closed? [SEP] the middle up segment is mainly occupied by metro department store originated from singapore and sogo from japan. 2007 saw the re - opening of jakarta's seibu, poised to be the largest and second most upscale department store in indonesia after harvey nichols, which the latter closed in 2010 and yet plans to return. other international department stores include debenhams and marks & spencer. galeries lafayette also joins the indonesian market in 2013 inside pacific place mall. this department store is targeting middle up market with price range from affordable to luxury, poised to be the largest upscale department store. galeries lafayette, debenhams, harvey nichols, marks & spencer, seibu and sogo are all operated by pt. mitra adiperkasa. nr [SEP]\",\n",
              "  'harvey nichols',\n",
              "  '[CLS] nr [SEP]'))"
            ]
          },
          "execution_count": 59,
          "metadata": {},
          "output_type": "execute_result"
        }
      ],
      "source": [
        "examples_test[6], examples_test[122]\n"
      ]
    },
    {
      "cell_type": "markdown",
      "metadata": {
        "id": "Ql9_IEQvSTDi"
      },
      "source": [
        "## Plots"
      ]
    },
    {
      "cell_type": "code",
      "execution_count": null,
      "metadata": {
        "colab": {
          "base_uri": "https://localhost:8080/",
          "height": 404
        },
        "id": "A35Nk0PKSUi8",
        "outputId": "e985b7e9-52a2-4c46-ccb0-4a4e3be2cfba"
      },
      "outputs": [
        {
          "data": {
            "image/png": "[encoded data removed]",
            "text/plain": [
              "<Figure size 576x432 with 1 Axes>"
            ]
          },
          "metadata": {},
          "output_type": "display_data"
        }
      ],
      "source": [
        "import matplotlib.pyplot as plt\n",
        "train_loss = history.history['loss']\n",
        "val_loss = history.history['val_loss']\n",
        "E = len(train_loss)\n",
        "plt.figure(figsize = (8, 6))\n",
        "plt.plot(range(1, E + 1), train_loss, label = 'Train Loss')\n",
        "plt.plot(range(1, E + 1), val_loss, label = 'Validation Loss')\n",
        "plt.xlabel('Epoch')\n",
        "plt.ylabel('Loss')\n",
        "plt.title('Training Curve')\n",
        "plt.legend(loc = 'best')\n",
        "plt.savefig('Plots/training_curve.png', dpi = 400)"
      ]
    },
    {
      "cell_type": "code",
      "execution_count": null,
      "metadata": {
        "colab": {
          "base_uri": "https://localhost:8080/"
        },
        "id": "iKuXAiTcWIK9",
        "outputId": "59acc15a-a21f-470d-b588-3c4c4dc99e14"
      },
      "outputs": [
        {
          "data": {
            "text/plain": [
              "<tf.Tensor: shape=(10, 1), dtype=float32, numpy=\n",
              "array([[0.2761432 ],\n",
              "       [0.03962076],\n",
              "       [0.43651974],\n",
              "       [0.7206049 ],\n",
              "       [0.39017642],\n",
              "       [0.42706418],\n",
              "       [0.94595146],\n",
              "       [0.24844968],\n",
              "       [0.53961563],\n",
              "       [0.3763728 ]], dtype=float32)>"
            ]
          },
          "execution_count": 9,
          "metadata": {},
          "output_type": "execute_result"
        }
      ],
      "source": [
        "a = tf.random.uniform((10, 1))\n",
        "a"
      ]
    },
    {
      "cell_type": "code",
      "execution_count": null,
      "metadata": {
        "id": "8Ur2mIg-WT_P"
      },
      "outputs": [],
      "source": [
        "train_batch = get_batched_dataset()\n",
        "val_batch = get_batched_dataset('processed_data/val.tfrecords')\n",
        "test_batch = get_batched_dataset('processed_data/test.tfrecords')\n",
        "\n",
        "\n"
      ]
    },
    {
      "cell_type": "code",
      "execution_count": null,
      "metadata": {
        "colab": {
          "base_uri": "https://localhost:8080/"
        },
        "id": "lrr2_JKBZxaL",
        "outputId": "6aaa40e4-17f4-4d76-943f-09c960a0b1c6"
      },
      "outputs": [
        {
          "name": "stdout",
          "output_type": "stream",
          "text": [
            "[CLS] what queen song is featured on glee's the graduation album? [SEP] in the autumn of 2009, glee featured the fictional high school's show choir singing \" somebody to love \" as their second act performance in the episode \" the rhodes not taken \". the performance was included on the show's volume 1 soundtrack cd. in june 2010, the choir performed \" another one bites the dust \" in the episode \" funk \". the following week's episode, \" journey to regionals \", features a rival choir performing \" bohemian rhapsody \" in its entirety. the song was featured on the episode's ep. in may 2012, the choir performed \" we are the champions \" in the episode \" nationals \", and the song features in the graduation album. nr [SEP] [PAD] [PAD] [PAD] [PAD] [PAD] [PAD] [PAD] [PAD] [PAD] [PAD] [PAD]\n",
            "we are the champions\n",
            "[CLS] which queen song inspired audience clapping? [SEP] queen composed music that drew inspiration from many different genres of music, often with a tongue - in - cheek attitude. the genres they have been associated with include progressive rock, symphonic rock, art rock, glam rock, hard rock, heavy metal, pop rock, and psychedelic rock. queen also wrote songs that were inspired by diverse musical styles which are not typically associated with rock groups, such as opera, music hall, folk music, gospel, ragtime, and dance / disco. several queen songs were written with audience participation in mind, such as \" we will rock you \" and \" we are the champions \". similarly, \" radio ga ga \" became a live favourite because it would have \" crowds clapping like they were at a nuremberg rally \". nr [SEP] [PAD] [PAD] [PAD] [PAD] [PAD]\n",
            "radio ga ga\n",
            "[CLS] what queen song was performed on a may 2012 episode of glee? [SEP] in the autumn of 2009, glee featured the fictional high school's show choir singing \" somebody to love \" as their second act performance in the episode \" the rhodes not taken \". the performance was included on the show's volume 1 soundtrack cd. in june 2010, the choir performed \" another one bites the dust \" in the episode \" funk \". the following week's episode, \" journey to regionals \", features a rival choir performing \" bohemian rhapsody \" in its entirety. the song was featured on the episode's ep. in may 2012, the choir performed \" we are the champions \" in the episode \" nationals \", and the song features in the graduation album. nr [SEP] [PAD] [PAD] [PAD] [PAD] [PAD] [PAD] [PAD] [PAD] [PAD] [PAD] [PAD]\n",
            "we are the champions\n",
            "[CLS] which two queen songs were written with audience participation in mind? [SEP] queen composed music that drew inspiration from many different genres of music, often with a tongue - in - cheek attitude. the genres they have been associated with include progressive rock, symphonic rock, art rock, glam rock, hard rock, heavy metal, pop rock, and psychedelic rock. queen also wrote songs that were inspired by diverse musical styles which are not typically associated with rock groups, such as opera, music hall, folk music, gospel, ragtime, and dance / disco. several queen songs were written with audience participation in mind, such as \" we will rock you \" and \" we are the champions \". similarly, \" radio ga ga \" became a live favourite because it would have \" crowds clapping like they were at a nuremberg rally \". nr [SEP]\n",
            "\" we will rock you \" and \" we are the champions \"\n"
          ]
        }
      ],
      "source": [
        "for a, y in test_batch:\n",
        "    for i in range(a['input_ids'].shape[0]):\n",
        "        print(tokenizer.decode(a['input_ids'][i]))\n",
        "        print(tokenizer.decode(a['input_ids'][i][y['start_positions'][i].numpy()[0]:y['end_positions'][i].numpy()[0]+1]))\n",
        "    break"
      ]
    },
    {
      "cell_type": "code",
      "execution_count": null,
      "metadata": {
        "colab": {
          "base_uri": "https://localhost:8080/"
        },
        "id": "kfnbIIenbMmm",
        "outputId": "8c4d431c-9bed-4504-b1a1-ab11dff45abd"
      },
      "outputs": [
        {
          "data": {
            "text/plain": [
              "<tf.Tensor: shape=(4, 1), dtype=int64, numpy=\n",
              "array([[2],\n",
              "       [1],\n",
              "       [2],\n",
              "       [4]])>"
            ]
          },
          "execution_count": 72,
          "metadata": {},
          "output_type": "execute_result"
        }
      ],
      "source": []
    },
    {
      "cell_type": "code",
      "execution_count": null,
      "metadata": {
        "colab": {
          "base_uri": "https://localhost:8080/"
        },
        "id": "Z6LZ17tovsaN",
        "outputId": "5dc1ee44-348c-4d55-cde2-f8e8d29664f6"
      },
      "outputs": [
        {
          "name": "stdout",
          "output_type": "stream",
          "text": [
            "[CLS] why did whitehead view the existence of god as a necessity for his metaphysical system? [SEP] george dayton had founded his dayton's dry goods store in minneapolis in 1902 and the amc cooperative in 1912. his descendants built southdale center in 1956, opened the target discount store chain in 1962 and the b. dalton bookseller chain in 1966. dayton's grew to 19 stores under the dayton's name plus five other regional names acquired by dayton - hudson. the dayton - hudson corporation closed the flagship j. l. hudson department store in downtown detroit in 1983, but expanded its other retail operations. it acquired mervyn's in 1978, marshall field's in 1990, and renamed itself the target corporation in 2000. in 2002, dayton's and hudson's were consolidated into the marshall field's name. in 2005, may department stores acquired all of the marshall field's stores and shortly thereafter, macy's acquired may. [SEP]\n",
            "[CLS] why did whitehead view the existence of god as a necessity for\n",
            "[CLS] how many wildcard contestants were chosen? [SEP] the band have released a total of eighteen number one albums, eighteen number one singles, and ten number one dvds worldwide, making them one of the world's best - selling music artists. queen have sold over 150 million records, with some estimates in excess of 300 million records worldwide, including 34. 5 million albums in the us as of 2004. inducted into the rock and roll hall of fame in 2001, the band is the only group in which every member has composed more than one chart - topping single, and all four members were inducted into the songwriters hall of fame in 2003. in 2009, \" we will rock you \" and \" we are the champions \" were inducted into the grammy hall of fame, and the latter was voted the world's favourite song in a global music poll. [SEP] [PAD] [PAD] [PAD] [PAD] [PAD] [PAD] [PAD] [PAD] [PAD] [PAD] [PAD] [PAD] [PAD] [PAD] [PAD] [PAD] [PAD] [PAD] [PAD] [PAD] [PAD]\n",
            "four members\n",
            "[CLS] how many contestants moved forward from each round? [SEP] the band have released a total of eighteen number one albums, eighteen number one singles, and ten number one dvds worldwide, making them one of the world's best - selling music artists. queen have sold over 150 million records, with some estimates in excess of 300 million records worldwide, including 34. 5 million albums in the us as of 2004. inducted into the rock and roll hall of fame in 2001, the band is the only group in which every member has composed more than one chart - topping single, and all four members were inducted into the songwriters hall of fame in 2003. in 2009, \" we will rock you \" and \" we are the champions \" were inducted into the grammy hall of fame, and the latter was voted the world's favourite song in a global music poll. [SEP] [PAD] [PAD] [PAD] [PAD] [PAD] [PAD] [PAD] [PAD] [PAD] [PAD] [PAD] [PAD] [PAD] [PAD] [PAD] [PAD] [PAD] [PAD] [PAD] [PAD]\n",
            "[CLS] how\n",
            "[CLS] how many contestants were finalists for season 12? [SEP] the band have released a total of eighteen number one albums, eighteen number one singles, and ten number one dvds worldwide, making them one of the world's best - selling music artists. queen have sold over 150 million records, with some estimates in excess of 300 million records worldwide, including 34. 5 million albums in the us as of 2004. inducted into the rock and roll hall of fame in 2001, the band is the only group in which every member has composed more than one chart - topping single, and all four members were inducted into the songwriters hall of fame in 2003. in 2009, \" we will rock you \" and \" we are the champions \" were inducted into the grammy hall of fame, and the latter was voted the world's favourite song in a global music poll. [SEP] [PAD] [PAD] [PAD] [PAD] [PAD] [PAD] [PAD] [PAD] [PAD] [PAD] [PAD] [PAD] [PAD] [PAD] [PAD] [PAD] [PAD] [PAD] [PAD] [PAD]\n",
            "[CLS] how\n"
          ]
        }
      ],
      "source": [
        "for a, y in test_batch:\n",
        "    for i in range(a['input_ids'].shape[0]):\n",
        "        print(tokenizer.decode(a['input_ids'][i]))\n",
        "        print(tokenizer.decode(a['input_ids'][i][y['start_positions'][i].numpy()[0]:y['end_positions'][i].numpy()[0]+1]))\n",
        "    break"
      ]
    },
    {
      "cell_type": "code",
      "execution_count": null,
      "metadata": {
        "colab": {
          "base_uri": "https://localhost:8080/"
        },
        "id": "Yth7lWvDvxqO",
        "outputId": "1cedf109-8a9c-4fab-cce7-d2c332636c4e"
      },
      "outputs": [
        {
          "data": {
            "text/plain": [
              "<tf.Tensor: shape=(1,), dtype=int64, numpy=array([0])>"
            ]
          },
          "execution_count": 79,
          "metadata": {},
          "output_type": "execute_result"
        }
      ],
      "source": []
    },
    {
      "cell_type": "code",
      "execution_count": null,
      "metadata": {
        "colab": {
          "base_uri": "https://localhost:8080/",
          "height": 268,
          "referenced_widgets": [
            "ee02118e3a524c5c8ea109cfc1a9aec3",
            "008f43d911dc482d9c39c34902555eff",
            "06081a8e927d401c949fa39622a93135",
            "9195ae726c674878a89abbcb73e7bb2c",
            "0a186fca86e24128ad3c9c050b8f36a5",
            "ef930d8bd96f48c683b8fea072a7d21d",
            "ddabcf0a9d8846c2a1fb861499cd69d3",
            "9d322ba3f22d45cb9134fe5e73e2778c",
            "1d466589024343cf904ddc588615ccab",
            "03c3206e988a44a885b2580b4a215313",
            "41422e26043d4864946b11d7fcadc929",
            "8ac3f503cd4542049d14caf58d7d0ead",
            "d7d92759041043f6b2991dd389f8a1f5",
            "45f3c2ad1ed84855832c9743309f9780",
            "67b2b50cb13445f897f7119b08435a07",
            "fa3c78b8997e4188874f1c8b8fbf6eea",
            "e68490c563fc43649c431b9b0de48785",
            "49240f244f7743459a1789aebed364dc",
            "52afb142580e43a2a4874715224dcd29",
            "7f623a0e993e479c9a2cf999d598567d",
            "626e1925c9584dbb95cd74c896bafc4f",
            "580c92452700486ea40a677cc22d60d7",
            "6c50ba452dda485987adc19c1918fab5",
            "c57eef7aaf5b4bae9e38b4fd292bd566",
            "5f5ecf56e5474af79329cf059039726d",
            "59639b9a5202411ab9a04caf7c039fd4",
            "4d44c575f17a4851849aac61e79f5225",
            "a8485a90178441328c12fabb3bd8393c",
            "45f248feb20242e1b6b293410aa8b53e",
            "3f593404e51b4f3cb5097b231d2bea8a",
            "707495e9a6004a4eaedc7079e4f04192",
            "f0118fc6e79542d6963a2996006e3a62",
            "e12f2edf0285443a96e2bf1ff9104706",
            "f0088ceb321742f4a5def959bc696ed5",
            "4b070de725c64e5182a0e1f2b84d482c",
            "15fa064802a0484982b6d43e7179dc2e",
            "7721faf096624675999aee07a1a1c4a0",
            "3e830a34a0be45149b24e971b7a588d3",
            "3e9f19243e2242c4b732cab9818cbfba",
            "121565e6d42e4179b522fc2cf0f9fef3",
            "b6651952c58c402d969365aabc5a80c7",
            "e5ac6d84adb84718879eac94dd63d4e8",
            "bb545702b0c545c58fd4bec4cdd11bda",
            "507443a510b4413c9f50c8aef98df6d7",
            "6c4afd62a0d24f3282daf7f6813c4eda",
            "b1ccaa6c172f4b1f8377d0c546f309e3",
            "8f02a4b86fe84bf3b895d72d4f74e62e",
            "24974501ecd0464bb654afb21940184c",
            "20c06d6fae694aaf87784a7b80bb0560",
            "88fd62ade53041b9b009e0df968b7d20",
            "b5d1f754f34a453f9d7979a0b10ddf19",
            "1367a9d1cb2b4cb788b34e5888aae8ed",
            "fac9011bba7f46c9b529c8544fe5ba6f",
            "f02a8319b69a4d17a807e774149f0114",
            "bd43d61992ed4ca09bccd1a3efa222c0"
          ]
        },
        "id": "rNFeZ236cKiR",
        "outputId": "74befd60-76b0-4638-db05-f2e2bcd51d56"
      },
      "outputs": [
        {
          "data": {
            "application/vnd.jupyter.widget-view+json": {
              "model_id": "ee02118e3a524c5c8ea109cfc1a9aec3",
              "version_major": 2,
              "version_minor": 0
            },
            "text/plain": [
              "Downloading:   0%|          | 0.00/208k [00:00<?, ?B/s]"
            ]
          },
          "metadata": {},
          "output_type": "display_data"
        },
        {
          "data": {
            "application/vnd.jupyter.widget-view+json": {
              "model_id": "8ac3f503cd4542049d14caf58d7d0ead",
              "version_major": 2,
              "version_minor": 0
            },
            "text/plain": [
              "Downloading:   0%|          | 0.00/112 [00:00<?, ?B/s]"
            ]
          },
          "metadata": {},
          "output_type": "display_data"
        },
        {
          "data": {
            "application/vnd.jupyter.widget-view+json": {
              "model_id": "6c50ba452dda485987adc19c1918fab5",
              "version_major": 2,
              "version_minor": 0
            },
            "text/plain": [
              "Downloading:   0%|          | 0.00/152 [00:00<?, ?B/s]"
            ]
          },
          "metadata": {},
          "output_type": "display_data"
        },
        {
          "data": {
            "application/vnd.jupyter.widget-view+json": {
              "model_id": "f0088ceb321742f4a5def959bc696ed5",
              "version_major": 2,
              "version_minor": 0
            },
            "text/plain": [
              "Downloading:   0%|          | 0.00/694 [00:00<?, ?B/s]"
            ]
          },
          "metadata": {},
          "output_type": "display_data"
        },
        {
          "data": {
            "application/vnd.jupyter.widget-view+json": {
              "model_id": "6c4afd62a0d24f3282daf7f6813c4eda",
              "version_major": 2,
              "version_minor": 0
            },
            "text/plain": [
              "Downloading:   0%|          | 0.00/411M [00:00<?, ?B/s]"
            ]
          },
          "metadata": {},
          "output_type": "display_data"
        },
        {
          "name": "stderr",
          "output_type": "stream",
          "text": [
            "All model checkpoint layers were used when initializing TFBertForQuestionAnswering.\n",
            "\n",
            "All the layers of TFBertForQuestionAnswering were initialized from the model checkpoint at ydshieh/bert-base-cased-squad2.\n",
            "If your task is similar to the task the model of the checkpoint was trained on, you can already use TFBertForQuestionAnswering for predictions without further training.\n"
          ]
        },
        {
          "data": {
            "application/vnd.google.colaboratory.intrinsic+json": {
              "type": "string"
            },
            "text/plain": [
              "'a nice puppet'"
            ]
          },
          "execution_count": 99,
          "metadata": {},
          "output_type": "execute_result"
        }
      ],
      "source": [
        "from transformers import BertTokenizer, TFBertForQuestionAnswering\n",
        "import tensorflow as tf\n",
        "\n",
        "tokenizer = BertTokenizer.from_pretrained(\"ydshieh/bert-base-cased-squad2\")\n",
        "model = TFBertForQuestionAnswering.from_pretrained(\"ydshieh/bert-base-cased-squad2\")\n",
        "\n"
      ]
    },
    {
      "cell_type": "code",
      "execution_count": null,
      "metadata": {
        "colab": {
          "base_uri": "https://localhost:8080/",
          "height": 35
        },
        "id": "FNvDAkb4HpSG",
        "outputId": "8a81a3ab-5359-408f-dd37-ff1f25704993"
      },
      "outputs": [
        {
          "data": {
            "application/vnd.google.colaboratory.intrinsic+json": {
              "type": "string"
            },
            "text/plain": [
              "'copyright infringement'"
            ]
          },
          "execution_count": 111,
          "metadata": {},
          "output_type": "execute_result"
        }
      ],
      "source": [
        "question, text = \"What does the recording industry call piracy?\", \"The growth of the Internet, and particularly distributed search engines like Kazaa and Gnutella, have represented a challenge for copyright policy. The Recording Industry Association of America, in particular, has been on the front lines of the fight against copyright infringement, which the industry calls \"\"piracy\"\". The industry has had victories against some services, including a highly publicized case against the file-sharing company Napster, and some people have been prosecuted for sharing files in violation of copyright. The electronic age has seen an increase in the attempt to use software-based digital rights management tools to restrict the copying and use of digitally based works. Laws such as the Digital Millennium Copyright Act have been enacted, that use criminal law to prevent any circumvention of software used to enforce digital rights management systems. Equivalent provisions, to prevent circumvention of copyright protection have existed in EU for some time, and are being expanded in, for example, Article 6 and 7 the Copyright Directive. Other examples are Article 7 of the Software Directive of 1991 (91/250/EEC), and the Conditional Access Directive of 1998 (98/84/EEC). This can hinder legal uses, affecting public domain works, limitations and exceptions to copyright, or uses allowed by the copyright holder. Some copyleft licenses, like GNU GPL 3, are designed to counter that. Laws may permit circumvention under specific conditions like when it is necessary to achieve interoperability with the circumventor's program, or for accessibility reasons; however, distribution of circumvention tools or instructions may be illegal.\"\n",
        "\n",
        "inputs = tokenizer(question, text, return_tensors=\"tf\")\n",
        "outputs = model(**inputs)\n",
        "\n",
        "answer_start_index = int(tf.math.argmax(outputs.start_logits, axis=-1)[0])\n",
        "answer_end_index = int(tf.math.argmax(outputs.end_logits, axis=-1)[0])\n",
        "\n",
        "predict_answer_tokens = inputs.input_ids[0, answer_start_index : answer_end_index + 1]\n",
        "tokenizer.decode(predict_answer_tokens)"
      ]
    },
    {
      "cell_type": "code",
      "execution_count": null,
      "metadata": {
        "colab": {
          "base_uri": "https://localhost:8080/"
        },
        "id": "JwG4ur5Fdlbp",
        "outputId": "0487ba91-5031-46f7-ad39-64e454e5bf57"
      },
      "outputs": [
        {
          "data": {
            "text/plain": [
              "9.39"
            ]
          },
          "execution_count": 117,
          "metadata": {},
          "output_type": "execute_result"
        }
      ],
      "source": [
        "target_start_index = tf.constant([58])\n",
        "target_end_index = tf.constant([59])\n",
        "\n",
        "outputs = model(**inputs, start_positions=target_start_index, end_positions=target_end_index)\n",
        "loss = tf.math.reduce_mean(outputs.loss)\n",
        "round(float(loss), 2)"
      ]
    },
    {
      "cell_type": "code",
      "source": [
        "train_batch = get_batched_dataset()\n",
        "val_batch = get_batched_dataset('processed_data/val.tfrecords')\n",
        "test_batch = get_batched_dataset('processed_data/test.tfrecords')\n",
        "for a, y in train_batch:\n",
        "    ip = a['input_ids']\n",
        "    for j in range(ip.shape[0]):\n",
        "        print(tokenizer.decode(ip[j]))\n",
        "        print(tokenizer.decode(ip[j][y[j][0][0]:y[j][1][0]+1]))"
      ],
      "metadata": {
        "colab": {
          "base_uri": "https://localhost:8080/"
        },
        "id": "Uyc-82ZovhrB",
        "outputId": "8d4e8f03-0bc2-419e-ebf5-769e3a6182d6"
      },
      "execution_count": null,
      "outputs": []
    },
    {
      "cell_type": "code",
      "source": [
        "y[0][0]"
      ],
      "metadata": {
        "colab": {
          "base_uri": "https://localhost:8080/"
        },
        "id": "tRnIaf6zwIY7",
        "outputId": "28e0470d-53ee-47a4-b76f-3430ca711f36"
      },
      "execution_count": null,
      "outputs": [
        {
          "output_type": "execute_result",
          "data": {
            "text/plain": [
              "<tf.Tensor: shape=(1,), dtype=int64, numpy=array([118])>"
            ]
          },
          "metadata": {},
          "execution_count": 30
        }
      ]
    },
    {
      "cell_type": "code",
      "source": [
        "j"
      ],
      "metadata": {
        "colab": {
          "base_uri": "https://localhost:8080/"
        },
        "id": "pmK9xpT1wQQi",
        "outputId": "2fd9848e-3b37-451e-e946-954742389630"
      },
      "execution_count": null,
      "outputs": [
        {
          "output_type": "execute_result",
          "data": {
            "text/plain": [
              "0"
            ]
          },
          "metadata": {},
          "execution_count": 25
        }
      ]
    },
    {
      "cell_type": "code",
      "source": [],
      "metadata": {
        "id": "6xvPbI5AwTWC"
      },
      "execution_count": null,
      "outputs": []
    }
  ],
  "metadata": {
    "accelerator": "GPU",
    "colab": {
      "collapsed_sections": [],
      "machine_shape": "hm",
      "provenance": []
    },
    "kernelspec": {
      "display_name": "Python 3",
      "name": "python3"
    },
    "language_info": {
      "name": "python"
    },
    "widgets": {
      "application/vnd.jupyter.widget-state+json": {
        "008f43d911dc482d9c39c34902555eff": {
          "model_module": "@jupyter-widgets/controls",
          "model_module_version": "1.5.0",
          "model_name": "HTMLModel",
          "state": {
            "_dom_classes": [],
            "_model_module": "@jupyter-widgets/controls",
            "_model_module_version": "1.5.0",
            "_model_name": "HTMLModel",
            "_view_count": null,
            "_view_module": "@jupyter-widgets/controls",
            "_view_module_version": "1.5.0",
            "_view_name": "HTMLView",
            "description": "",
            "description_tooltip": null,
            "layout": "IPY_MODEL_ef930d8bd96f48c683b8fea072a7d21d",
            "placeholder": "​",
            "style": "IPY_MODEL_ddabcf0a9d8846c2a1fb861499cd69d3",
            "value": "Downloading: 100%"
          }
        },
        "03c3206e988a44a885b2580b4a215313": {
          "model_module": "@jupyter-widgets/base",
          "model_module_version": "1.2.0",
          "model_name": "LayoutModel",
          "state": {
            "_model_module": "@jupyter-widgets/base",
            "_model_module_version": "1.2.0",
            "_model_name": "LayoutModel",
            "_view_count": null,
            "_view_module": "@jupyter-widgets/base",
            "_view_module_version": "1.2.0",
            "_view_name": "LayoutView",
            "align_content": null,
            "align_items": null,
            "align_self": null,
            "border": null,
            "bottom": null,
            "display": null,
            "flex": null,
            "flex_flow": null,
            "grid_area": null,
            "grid_auto_columns": null,
            "grid_auto_flow": null,
            "grid_auto_rows": null,
            "grid_column": null,
            "grid_gap": null,
            "grid_row": null,
            "grid_template_areas": null,
            "grid_template_columns": null,
            "grid_template_rows": null,
            "height": null,
            "justify_content": null,
            "justify_items": null,
            "left": null,
            "margin": null,
            "max_height": null,
            "max_width": null,
            "min_height": null,
            "min_width": null,
            "object_fit": null,
            "object_position": null,
            "order": null,
            "overflow": null,
            "overflow_x": null,
            "overflow_y": null,
            "padding": null,
            "right": null,
            "top": null,
            "visibility": null,
            "width": null
          }
        },
        "06081a8e927d401c949fa39622a93135": {
          "model_module": "@jupyter-widgets/controls",
          "model_module_version": "1.5.0",
          "model_name": "FloatProgressModel",
          "state": {
            "_dom_classes": [],
            "_model_module": "@jupyter-widgets/controls",
            "_model_module_version": "1.5.0",
            "_model_name": "FloatProgressModel",
            "_view_count": null,
            "_view_module": "@jupyter-widgets/controls",
            "_view_module_version": "1.5.0",
            "_view_name": "ProgressView",
            "bar_style": "success",
            "description": "",
            "description_tooltip": null,
            "layout": "IPY_MODEL_9d322ba3f22d45cb9134fe5e73e2778c",
            "max": 213450,
            "min": 0,
            "orientation": "horizontal",
            "style": "IPY_MODEL_1d466589024343cf904ddc588615ccab",
            "value": 213450
          }
        },
        "0a186fca86e24128ad3c9c050b8f36a5": {
          "model_module": "@jupyter-widgets/base",
          "model_module_version": "1.2.0",
          "model_name": "LayoutModel",
          "state": {
            "_model_module": "@jupyter-widgets/base",
            "_model_module_version": "1.2.0",
            "_model_name": "LayoutModel",
            "_view_count": null,
            "_view_module": "@jupyter-widgets/base",
            "_view_module_version": "1.2.0",
            "_view_name": "LayoutView",
            "align_content": null,
            "align_items": null,
            "align_self": null,
            "border": null,
            "bottom": null,
            "display": null,
            "flex": null,
            "flex_flow": null,
            "grid_area": null,
            "grid_auto_columns": null,
            "grid_auto_flow": null,
            "grid_auto_rows": null,
            "grid_column": null,
            "grid_gap": null,
            "grid_row": null,
            "grid_template_areas": null,
            "grid_template_columns": null,
            "grid_template_rows": null,
            "height": null,
            "justify_content": null,
            "justify_items": null,
            "left": null,
            "margin": null,
            "max_height": null,
            "max_width": null,
            "min_height": null,
            "min_width": null,
            "object_fit": null,
            "object_position": null,
            "order": null,
            "overflow": null,
            "overflow_x": null,
            "overflow_y": null,
            "padding": null,
            "right": null,
            "top": null,
            "visibility": null,
            "width": null
          }
        },
        "121565e6d42e4179b522fc2cf0f9fef3": {
          "model_module": "@jupyter-widgets/controls",
          "model_module_version": "1.5.0",
          "model_name": "DescriptionStyleModel",
          "state": {
            "_model_module": "@jupyter-widgets/controls",
            "_model_module_version": "1.5.0",
            "_model_name": "DescriptionStyleModel",
            "_view_count": null,
            "_view_module": "@jupyter-widgets/base",
            "_view_module_version": "1.2.0",
            "_view_name": "StyleView",
            "description_width": ""
          }
        },
        "1367a9d1cb2b4cb788b34e5888aae8ed": {
          "model_module": "@jupyter-widgets/base",
          "model_module_version": "1.2.0",
          "model_name": "LayoutModel",
          "state": {
            "_model_module": "@jupyter-widgets/base",
            "_model_module_version": "1.2.0",
            "_model_name": "LayoutModel",
            "_view_count": null,
            "_view_module": "@jupyter-widgets/base",
            "_view_module_version": "1.2.0",
            "_view_name": "LayoutView",
            "align_content": null,
            "align_items": null,
            "align_self": null,
            "border": null,
            "bottom": null,
            "display": null,
            "flex": null,
            "flex_flow": null,
            "grid_area": null,
            "grid_auto_columns": null,
            "grid_auto_flow": null,
            "grid_auto_rows": null,
            "grid_column": null,
            "grid_gap": null,
            "grid_row": null,
            "grid_template_areas": null,
            "grid_template_columns": null,
            "grid_template_rows": null,
            "height": null,
            "justify_content": null,
            "justify_items": null,
            "left": null,
            "margin": null,
            "max_height": null,
            "max_width": null,
            "min_height": null,
            "min_width": null,
            "object_fit": null,
            "object_position": null,
            "order": null,
            "overflow": null,
            "overflow_x": null,
            "overflow_y": null,
            "padding": null,
            "right": null,
            "top": null,
            "visibility": null,
            "width": null
          }
        },
        "15fa064802a0484982b6d43e7179dc2e": {
          "model_module": "@jupyter-widgets/controls",
          "model_module_version": "1.5.0",
          "model_name": "FloatProgressModel",
          "state": {
            "_dom_classes": [],
            "_model_module": "@jupyter-widgets/controls",
            "_model_module_version": "1.5.0",
            "_model_name": "FloatProgressModel",
            "_view_count": null,
            "_view_module": "@jupyter-widgets/controls",
            "_view_module_version": "1.5.0",
            "_view_name": "ProgressView",
            "bar_style": "success",
            "description": "",
            "description_tooltip": null,
            "layout": "IPY_MODEL_b6651952c58c402d969365aabc5a80c7",
            "max": 694,
            "min": 0,
            "orientation": "horizontal",
            "style": "IPY_MODEL_e5ac6d84adb84718879eac94dd63d4e8",
            "value": 694
          }
        },
        "1d466589024343cf904ddc588615ccab": {
          "model_module": "@jupyter-widgets/controls",
          "model_module_version": "1.5.0",
          "model_name": "ProgressStyleModel",
          "state": {
            "_model_module": "@jupyter-widgets/controls",
            "_model_module_version": "1.5.0",
            "_model_name": "ProgressStyleModel",
            "_view_count": null,
            "_view_module": "@jupyter-widgets/base",
            "_view_module_version": "1.2.0",
            "_view_name": "StyleView",
            "bar_color": null,
            "description_width": ""
          }
        },
        "20c06d6fae694aaf87784a7b80bb0560": {
          "model_module": "@jupyter-widgets/base",
          "model_module_version": "1.2.0",
          "model_name": "LayoutModel",
          "state": {
            "_model_module": "@jupyter-widgets/base",
            "_model_module_version": "1.2.0",
            "_model_name": "LayoutModel",
            "_view_count": null,
            "_view_module": "@jupyter-widgets/base",
            "_view_module_version": "1.2.0",
            "_view_name": "LayoutView",
            "align_content": null,
            "align_items": null,
            "align_self": null,
            "border": null,
            "bottom": null,
            "display": null,
            "flex": null,
            "flex_flow": null,
            "grid_area": null,
            "grid_auto_columns": null,
            "grid_auto_flow": null,
            "grid_auto_rows": null,
            "grid_column": null,
            "grid_gap": null,
            "grid_row": null,
            "grid_template_areas": null,
            "grid_template_columns": null,
            "grid_template_rows": null,
            "height": null,
            "justify_content": null,
            "justify_items": null,
            "left": null,
            "margin": null,
            "max_height": null,
            "max_width": null,
            "min_height": null,
            "min_width": null,
            "object_fit": null,
            "object_position": null,
            "order": null,
            "overflow": null,
            "overflow_x": null,
            "overflow_y": null,
            "padding": null,
            "right": null,
            "top": null,
            "visibility": null,
            "width": null
          }
        },
        "24974501ecd0464bb654afb21940184c": {
          "model_module": "@jupyter-widgets/controls",
          "model_module_version": "1.5.0",
          "model_name": "HTMLModel",
          "state": {
            "_dom_classes": [],
            "_model_module": "@jupyter-widgets/controls",
            "_model_module_version": "1.5.0",
            "_model_name": "HTMLModel",
            "_view_count": null,
            "_view_module": "@jupyter-widgets/controls",
            "_view_module_version": "1.5.0",
            "_view_name": "HTMLView",
            "description": "",
            "description_tooltip": null,
            "layout": "IPY_MODEL_f02a8319b69a4d17a807e774149f0114",
            "placeholder": "​",
            "style": "IPY_MODEL_bd43d61992ed4ca09bccd1a3efa222c0",
            "value": " 411M/411M [00:24&lt;00:00, 23.1MB/s]"
          }
        },
        "3e830a34a0be45149b24e971b7a588d3": {
          "model_module": "@jupyter-widgets/base",
          "model_module_version": "1.2.0",
          "model_name": "LayoutModel",
          "state": {
            "_model_module": "@jupyter-widgets/base",
            "_model_module_version": "1.2.0",
            "_model_name": "LayoutModel",
            "_view_count": null,
            "_view_module": "@jupyter-widgets/base",
            "_view_module_version": "1.2.0",
            "_view_name": "LayoutView",
            "align_content": null,
            "align_items": null,
            "align_self": null,
            "border": null,
            "bottom": null,
            "display": null,
            "flex": null,
            "flex_flow": null,
            "grid_area": null,
            "grid_auto_columns": null,
            "grid_auto_flow": null,
            "grid_auto_rows": null,
            "grid_column": null,
            "grid_gap": null,
            "grid_row": null,
            "grid_template_areas": null,
            "grid_template_columns": null,
            "grid_template_rows": null,
            "height": null,
            "justify_content": null,
            "justify_items": null,
            "left": null,
            "margin": null,
            "max_height": null,
            "max_width": null,
            "min_height": null,
            "min_width": null,
            "object_fit": null,
            "object_position": null,
            "order": null,
            "overflow": null,
            "overflow_x": null,
            "overflow_y": null,
            "padding": null,
            "right": null,
            "top": null,
            "visibility": null,
            "width": null
          }
        },
        "3e9f19243e2242c4b732cab9818cbfba": {
          "model_module": "@jupyter-widgets/base",
          "model_module_version": "1.2.0",
          "model_name": "LayoutModel",
          "state": {
            "_model_module": "@jupyter-widgets/base",
            "_model_module_version": "1.2.0",
            "_model_name": "LayoutModel",
            "_view_count": null,
            "_view_module": "@jupyter-widgets/base",
            "_view_module_version": "1.2.0",
            "_view_name": "LayoutView",
            "align_content": null,
            "align_items": null,
            "align_self": null,
            "border": null,
            "bottom": null,
            "display": null,
            "flex": null,
            "flex_flow": null,
            "grid_area": null,
            "grid_auto_columns": null,
            "grid_auto_flow": null,
            "grid_auto_rows": null,
            "grid_column": null,
            "grid_gap": null,
            "grid_row": null,
            "grid_template_areas": null,
            "grid_template_columns": null,
            "grid_template_rows": null,
            "height": null,
            "justify_content": null,
            "justify_items": null,
            "left": null,
            "margin": null,
            "max_height": null,
            "max_width": null,
            "min_height": null,
            "min_width": null,
            "object_fit": null,
            "object_position": null,
            "order": null,
            "overflow": null,
            "overflow_x": null,
            "overflow_y": null,
            "padding": null,
            "right": null,
            "top": null,
            "visibility": null,
            "width": null
          }
        },
        "3f593404e51b4f3cb5097b231d2bea8a": {
          "model_module": "@jupyter-widgets/base",
          "model_module_version": "1.2.0",
          "model_name": "LayoutModel",
          "state": {
            "_model_module": "@jupyter-widgets/base",
            "_model_module_version": "1.2.0",
            "_model_name": "LayoutModel",
            "_view_count": null,
            "_view_module": "@jupyter-widgets/base",
            "_view_module_version": "1.2.0",
            "_view_name": "LayoutView",
            "align_content": null,
            "align_items": null,
            "align_self": null,
            "border": null,
            "bottom": null,
            "display": null,
            "flex": null,
            "flex_flow": null,
            "grid_area": null,
            "grid_auto_columns": null,
            "grid_auto_flow": null,
            "grid_auto_rows": null,
            "grid_column": null,
            "grid_gap": null,
            "grid_row": null,
            "grid_template_areas": null,
            "grid_template_columns": null,
            "grid_template_rows": null,
            "height": null,
            "justify_content": null,
            "justify_items": null,
            "left": null,
            "margin": null,
            "max_height": null,
            "max_width": null,
            "min_height": null,
            "min_width": null,
            "object_fit": null,
            "object_position": null,
            "order": null,
            "overflow": null,
            "overflow_x": null,
            "overflow_y": null,
            "padding": null,
            "right": null,
            "top": null,
            "visibility": null,
            "width": null
          }
        },
        "41422e26043d4864946b11d7fcadc929": {
          "model_module": "@jupyter-widgets/controls",
          "model_module_version": "1.5.0",
          "model_name": "DescriptionStyleModel",
          "state": {
            "_model_module": "@jupyter-widgets/controls",
            "_model_module_version": "1.5.0",
            "_model_name": "DescriptionStyleModel",
            "_view_count": null,
            "_view_module": "@jupyter-widgets/base",
            "_view_module_version": "1.2.0",
            "_view_name": "StyleView",
            "description_width": ""
          }
        },
        "45f248feb20242e1b6b293410aa8b53e": {
          "model_module": "@jupyter-widgets/controls",
          "model_module_version": "1.5.0",
          "model_name": "DescriptionStyleModel",
          "state": {
            "_model_module": "@jupyter-widgets/controls",
            "_model_module_version": "1.5.0",
            "_model_name": "DescriptionStyleModel",
            "_view_count": null,
            "_view_module": "@jupyter-widgets/base",
            "_view_module_version": "1.2.0",
            "_view_name": "StyleView",
            "description_width": ""
          }
        },
        "45f3c2ad1ed84855832c9743309f9780": {
          "model_module": "@jupyter-widgets/controls",
          "model_module_version": "1.5.0",
          "model_name": "FloatProgressModel",
          "state": {
            "_dom_classes": [],
            "_model_module": "@jupyter-widgets/controls",
            "_model_module_version": "1.5.0",
            "_model_name": "FloatProgressModel",
            "_view_count": null,
            "_view_module": "@jupyter-widgets/controls",
            "_view_module_version": "1.5.0",
            "_view_name": "ProgressView",
            "bar_style": "success",
            "description": "",
            "description_tooltip": null,
            "layout": "IPY_MODEL_52afb142580e43a2a4874715224dcd29",
            "max": 112,
            "min": 0,
            "orientation": "horizontal",
            "style": "IPY_MODEL_7f623a0e993e479c9a2cf999d598567d",
            "value": 112
          }
        },
        "49240f244f7743459a1789aebed364dc": {
          "model_module": "@jupyter-widgets/controls",
          "model_module_version": "1.5.0",
          "model_name": "DescriptionStyleModel",
          "state": {
            "_model_module": "@jupyter-widgets/controls",
            "_model_module_version": "1.5.0",
            "_model_name": "DescriptionStyleModel",
            "_view_count": null,
            "_view_module": "@jupyter-widgets/base",
            "_view_module_version": "1.2.0",
            "_view_name": "StyleView",
            "description_width": ""
          }
        },
        "4b070de725c64e5182a0e1f2b84d482c": {
          "model_module": "@jupyter-widgets/controls",
          "model_module_version": "1.5.0",
          "model_name": "HTMLModel",
          "state": {
            "_dom_classes": [],
            "_model_module": "@jupyter-widgets/controls",
            "_model_module_version": "1.5.0",
            "_model_name": "HTMLModel",
            "_view_count": null,
            "_view_module": "@jupyter-widgets/controls",
            "_view_module_version": "1.5.0",
            "_view_name": "HTMLView",
            "description": "",
            "description_tooltip": null,
            "layout": "IPY_MODEL_3e9f19243e2242c4b732cab9818cbfba",
            "placeholder": "​",
            "style": "IPY_MODEL_121565e6d42e4179b522fc2cf0f9fef3",
            "value": "Downloading: 100%"
          }
        },
        "4d44c575f17a4851849aac61e79f5225": {
          "model_module": "@jupyter-widgets/base",
          "model_module_version": "1.2.0",
          "model_name": "LayoutModel",
          "state": {
            "_model_module": "@jupyter-widgets/base",
            "_model_module_version": "1.2.0",
            "_model_name": "LayoutModel",
            "_view_count": null,
            "_view_module": "@jupyter-widgets/base",
            "_view_module_version": "1.2.0",
            "_view_name": "LayoutView",
            "align_content": null,
            "align_items": null,
            "align_self": null,
            "border": null,
            "bottom": null,
            "display": null,
            "flex": null,
            "flex_flow": null,
            "grid_area": null,
            "grid_auto_columns": null,
            "grid_auto_flow": null,
            "grid_auto_rows": null,
            "grid_column": null,
            "grid_gap": null,
            "grid_row": null,
            "grid_template_areas": null,
            "grid_template_columns": null,
            "grid_template_rows": null,
            "height": null,
            "justify_content": null,
            "justify_items": null,
            "left": null,
            "margin": null,
            "max_height": null,
            "max_width": null,
            "min_height": null,
            "min_width": null,
            "object_fit": null,
            "object_position": null,
            "order": null,
            "overflow": null,
            "overflow_x": null,
            "overflow_y": null,
            "padding": null,
            "right": null,
            "top": null,
            "visibility": null,
            "width": null
          }
        },
        "507443a510b4413c9f50c8aef98df6d7": {
          "model_module": "@jupyter-widgets/controls",
          "model_module_version": "1.5.0",
          "model_name": "DescriptionStyleModel",
          "state": {
            "_model_module": "@jupyter-widgets/controls",
            "_model_module_version": "1.5.0",
            "_model_name": "DescriptionStyleModel",
            "_view_count": null,
            "_view_module": "@jupyter-widgets/base",
            "_view_module_version": "1.2.0",
            "_view_name": "StyleView",
            "description_width": ""
          }
        },
        "52afb142580e43a2a4874715224dcd29": {
          "model_module": "@jupyter-widgets/base",
          "model_module_version": "1.2.0",
          "model_name": "LayoutModel",
          "state": {
            "_model_module": "@jupyter-widgets/base",
            "_model_module_version": "1.2.0",
            "_model_name": "LayoutModel",
            "_view_count": null,
            "_view_module": "@jupyter-widgets/base",
            "_view_module_version": "1.2.0",
            "_view_name": "LayoutView",
            "align_content": null,
            "align_items": null,
            "align_self": null,
            "border": null,
            "bottom": null,
            "display": null,
            "flex": null,
            "flex_flow": null,
            "grid_area": null,
            "grid_auto_columns": null,
            "grid_auto_flow": null,
            "grid_auto_rows": null,
            "grid_column": null,
            "grid_gap": null,
            "grid_row": null,
            "grid_template_areas": null,
            "grid_template_columns": null,
            "grid_template_rows": null,
            "height": null,
            "justify_content": null,
            "justify_items": null,
            "left": null,
            "margin": null,
            "max_height": null,
            "max_width": null,
            "min_height": null,
            "min_width": null,
            "object_fit": null,
            "object_position": null,
            "order": null,
            "overflow": null,
            "overflow_x": null,
            "overflow_y": null,
            "padding": null,
            "right": null,
            "top": null,
            "visibility": null,
            "width": null
          }
        },
        "580c92452700486ea40a677cc22d60d7": {
          "model_module": "@jupyter-widgets/controls",
          "model_module_version": "1.5.0",
          "model_name": "DescriptionStyleModel",
          "state": {
            "_model_module": "@jupyter-widgets/controls",
            "_model_module_version": "1.5.0",
            "_model_name": "DescriptionStyleModel",
            "_view_count": null,
            "_view_module": "@jupyter-widgets/base",
            "_view_module_version": "1.2.0",
            "_view_name": "StyleView",
            "description_width": ""
          }
        },
        "59639b9a5202411ab9a04caf7c039fd4": {
          "model_module": "@jupyter-widgets/controls",
          "model_module_version": "1.5.0",
          "model_name": "HTMLModel",
          "state": {
            "_dom_classes": [],
            "_model_module": "@jupyter-widgets/controls",
            "_model_module_version": "1.5.0",
            "_model_name": "HTMLModel",
            "_view_count": null,
            "_view_module": "@jupyter-widgets/controls",
            "_view_module_version": "1.5.0",
            "_view_name": "HTMLView",
            "description": "",
            "description_tooltip": null,
            "layout": "IPY_MODEL_f0118fc6e79542d6963a2996006e3a62",
            "placeholder": "​",
            "style": "IPY_MODEL_e12f2edf0285443a96e2bf1ff9104706",
            "value": " 152/152 [00:00&lt;00:00, 4.90kB/s]"
          }
        },
        "5f5ecf56e5474af79329cf059039726d": {
          "model_module": "@jupyter-widgets/controls",
          "model_module_version": "1.5.0",
          "model_name": "FloatProgressModel",
          "state": {
            "_dom_classes": [],
            "_model_module": "@jupyter-widgets/controls",
            "_model_module_version": "1.5.0",
            "_model_name": "FloatProgressModel",
            "_view_count": null,
            "_view_module": "@jupyter-widgets/controls",
            "_view_module_version": "1.5.0",
            "_view_name": "ProgressView",
            "bar_style": "success",
            "description": "",
            "description_tooltip": null,
            "layout": "IPY_MODEL_3f593404e51b4f3cb5097b231d2bea8a",
            "max": 152,
            "min": 0,
            "orientation": "horizontal",
            "style": "IPY_MODEL_707495e9a6004a4eaedc7079e4f04192",
            "value": 152
          }
        },
        "626e1925c9584dbb95cd74c896bafc4f": {
          "model_module": "@jupyter-widgets/base",
          "model_module_version": "1.2.0",
          "model_name": "LayoutModel",
          "state": {
            "_model_module": "@jupyter-widgets/base",
            "_model_module_version": "1.2.0",
            "_model_name": "LayoutModel",
            "_view_count": null,
            "_view_module": "@jupyter-widgets/base",
            "_view_module_version": "1.2.0",
            "_view_name": "LayoutView",
            "align_content": null,
            "align_items": null,
            "align_self": null,
            "border": null,
            "bottom": null,
            "display": null,
            "flex": null,
            "flex_flow": null,
            "grid_area": null,
            "grid_auto_columns": null,
            "grid_auto_flow": null,
            "grid_auto_rows": null,
            "grid_column": null,
            "grid_gap": null,
            "grid_row": null,
            "grid_template_areas": null,
            "grid_template_columns": null,
            "grid_template_rows": null,
            "height": null,
            "justify_content": null,
            "justify_items": null,
            "left": null,
            "margin": null,
            "max_height": null,
            "max_width": null,
            "min_height": null,
            "min_width": null,
            "object_fit": null,
            "object_position": null,
            "order": null,
            "overflow": null,
            "overflow_x": null,
            "overflow_y": null,
            "padding": null,
            "right": null,
            "top": null,
            "visibility": null,
            "width": null
          }
        },
        "67b2b50cb13445f897f7119b08435a07": {
          "model_module": "@jupyter-widgets/controls",
          "model_module_version": "1.5.0",
          "model_name": "HTMLModel",
          "state": {
            "_dom_classes": [],
            "_model_module": "@jupyter-widgets/controls",
            "_model_module_version": "1.5.0",
            "_model_name": "HTMLModel",
            "_view_count": null,
            "_view_module": "@jupyter-widgets/controls",
            "_view_module_version": "1.5.0",
            "_view_name": "HTMLView",
            "description": "",
            "description_tooltip": null,
            "layout": "IPY_MODEL_626e1925c9584dbb95cd74c896bafc4f",
            "placeholder": "​",
            "style": "IPY_MODEL_580c92452700486ea40a677cc22d60d7",
            "value": " 112/112 [00:00&lt;00:00, 3.03kB/s]"
          }
        },
        "6c4afd62a0d24f3282daf7f6813c4eda": {
          "model_module": "@jupyter-widgets/controls",
          "model_module_version": "1.5.0",
          "model_name": "HBoxModel",
          "state": {
            "_dom_classes": [],
            "_model_module": "@jupyter-widgets/controls",
            "_model_module_version": "1.5.0",
            "_model_name": "HBoxModel",
            "_view_count": null,
            "_view_module": "@jupyter-widgets/controls",
            "_view_module_version": "1.5.0",
            "_view_name": "HBoxView",
            "box_style": "",
            "children": [
              "IPY_MODEL_b1ccaa6c172f4b1f8377d0c546f309e3",
              "IPY_MODEL_8f02a4b86fe84bf3b895d72d4f74e62e",
              "IPY_MODEL_24974501ecd0464bb654afb21940184c"
            ],
            "layout": "IPY_MODEL_20c06d6fae694aaf87784a7b80bb0560"
          }
        },
        "6c50ba452dda485987adc19c1918fab5": {
          "model_module": "@jupyter-widgets/controls",
          "model_module_version": "1.5.0",
          "model_name": "HBoxModel",
          "state": {
            "_dom_classes": [],
            "_model_module": "@jupyter-widgets/controls",
            "_model_module_version": "1.5.0",
            "_model_name": "HBoxModel",
            "_view_count": null,
            "_view_module": "@jupyter-widgets/controls",
            "_view_module_version": "1.5.0",
            "_view_name": "HBoxView",
            "box_style": "",
            "children": [
              "IPY_MODEL_c57eef7aaf5b4bae9e38b4fd292bd566",
              "IPY_MODEL_5f5ecf56e5474af79329cf059039726d",
              "IPY_MODEL_59639b9a5202411ab9a04caf7c039fd4"
            ],
            "layout": "IPY_MODEL_4d44c575f17a4851849aac61e79f5225"
          }
        },
        "707495e9a6004a4eaedc7079e4f04192": {
          "model_module": "@jupyter-widgets/controls",
          "model_module_version": "1.5.0",
          "model_name": "ProgressStyleModel",
          "state": {
            "_model_module": "@jupyter-widgets/controls",
            "_model_module_version": "1.5.0",
            "_model_name": "ProgressStyleModel",
            "_view_count": null,
            "_view_module": "@jupyter-widgets/base",
            "_view_module_version": "1.2.0",
            "_view_name": "StyleView",
            "bar_color": null,
            "description_width": ""
          }
        },
        "7721faf096624675999aee07a1a1c4a0": {
          "model_module": "@jupyter-widgets/controls",
          "model_module_version": "1.5.0",
          "model_name": "HTMLModel",
          "state": {
            "_dom_classes": [],
            "_model_module": "@jupyter-widgets/controls",
            "_model_module_version": "1.5.0",
            "_model_name": "HTMLModel",
            "_view_count": null,
            "_view_module": "@jupyter-widgets/controls",
            "_view_module_version": "1.5.0",
            "_view_name": "HTMLView",
            "description": "",
            "description_tooltip": null,
            "layout": "IPY_MODEL_bb545702b0c545c58fd4bec4cdd11bda",
            "placeholder": "​",
            "style": "IPY_MODEL_507443a510b4413c9f50c8aef98df6d7",
            "value": " 694/694 [00:00&lt;00:00, 23.1kB/s]"
          }
        },
        "7f623a0e993e479c9a2cf999d598567d": {
          "model_module": "@jupyter-widgets/controls",
          "model_module_version": "1.5.0",
          "model_name": "ProgressStyleModel",
          "state": {
            "_model_module": "@jupyter-widgets/controls",
            "_model_module_version": "1.5.0",
            "_model_name": "ProgressStyleModel",
            "_view_count": null,
            "_view_module": "@jupyter-widgets/base",
            "_view_module_version": "1.2.0",
            "_view_name": "StyleView",
            "bar_color": null,
            "description_width": ""
          }
        },
        "88fd62ade53041b9b009e0df968b7d20": {
          "model_module": "@jupyter-widgets/base",
          "model_module_version": "1.2.0",
          "model_name": "LayoutModel",
          "state": {
            "_model_module": "@jupyter-widgets/base",
            "_model_module_version": "1.2.0",
            "_model_name": "LayoutModel",
            "_view_count": null,
            "_view_module": "@jupyter-widgets/base",
            "_view_module_version": "1.2.0",
            "_view_name": "LayoutView",
            "align_content": null,
            "align_items": null,
            "align_self": null,
            "border": null,
            "bottom": null,
            "display": null,
            "flex": null,
            "flex_flow": null,
            "grid_area": null,
            "grid_auto_columns": null,
            "grid_auto_flow": null,
            "grid_auto_rows": null,
            "grid_column": null,
            "grid_gap": null,
            "grid_row": null,
            "grid_template_areas": null,
            "grid_template_columns": null,
            "grid_template_rows": null,
            "height": null,
            "justify_content": null,
            "justify_items": null,
            "left": null,
            "margin": null,
            "max_height": null,
            "max_width": null,
            "min_height": null,
            "min_width": null,
            "object_fit": null,
            "object_position": null,
            "order": null,
            "overflow": null,
            "overflow_x": null,
            "overflow_y": null,
            "padding": null,
            "right": null,
            "top": null,
            "visibility": null,
            "width": null
          }
        },
        "8ac3f503cd4542049d14caf58d7d0ead": {
          "model_module": "@jupyter-widgets/controls",
          "model_module_version": "1.5.0",
          "model_name": "HBoxModel",
          "state": {
            "_dom_classes": [],
            "_model_module": "@jupyter-widgets/controls",
            "_model_module_version": "1.5.0",
            "_model_name": "HBoxModel",
            "_view_count": null,
            "_view_module": "@jupyter-widgets/controls",
            "_view_module_version": "1.5.0",
            "_view_name": "HBoxView",
            "box_style": "",
            "children": [
              "IPY_MODEL_d7d92759041043f6b2991dd389f8a1f5",
              "IPY_MODEL_45f3c2ad1ed84855832c9743309f9780",
              "IPY_MODEL_67b2b50cb13445f897f7119b08435a07"
            ],
            "layout": "IPY_MODEL_fa3c78b8997e4188874f1c8b8fbf6eea"
          }
        },
        "8f02a4b86fe84bf3b895d72d4f74e62e": {
          "model_module": "@jupyter-widgets/controls",
          "model_module_version": "1.5.0",
          "model_name": "FloatProgressModel",
          "state": {
            "_dom_classes": [],
            "_model_module": "@jupyter-widgets/controls",
            "_model_module_version": "1.5.0",
            "_model_name": "FloatProgressModel",
            "_view_count": null,
            "_view_module": "@jupyter-widgets/controls",
            "_view_module_version": "1.5.0",
            "_view_name": "ProgressView",
            "bar_style": "success",
            "description": "",
            "description_tooltip": null,
            "layout": "IPY_MODEL_1367a9d1cb2b4cb788b34e5888aae8ed",
            "max": 431154192,
            "min": 0,
            "orientation": "horizontal",
            "style": "IPY_MODEL_fac9011bba7f46c9b529c8544fe5ba6f",
            "value": 431154192
          }
        },
        "9195ae726c674878a89abbcb73e7bb2c": {
          "model_module": "@jupyter-widgets/controls",
          "model_module_version": "1.5.0",
          "model_name": "HTMLModel",
          "state": {
            "_dom_classes": [],
            "_model_module": "@jupyter-widgets/controls",
            "_model_module_version": "1.5.0",
            "_model_name": "HTMLModel",
            "_view_count": null,
            "_view_module": "@jupyter-widgets/controls",
            "_view_module_version": "1.5.0",
            "_view_name": "HTMLView",
            "description": "",
            "description_tooltip": null,
            "layout": "IPY_MODEL_03c3206e988a44a885b2580b4a215313",
            "placeholder": "​",
            "style": "IPY_MODEL_41422e26043d4864946b11d7fcadc929",
            "value": " 208k/208k [00:00&lt;00:00, 367kB/s]"
          }
        },
        "9d322ba3f22d45cb9134fe5e73e2778c": {
          "model_module": "@jupyter-widgets/base",
          "model_module_version": "1.2.0",
          "model_name": "LayoutModel",
          "state": {
            "_model_module": "@jupyter-widgets/base",
            "_model_module_version": "1.2.0",
            "_model_name": "LayoutModel",
            "_view_count": null,
            "_view_module": "@jupyter-widgets/base",
            "_view_module_version": "1.2.0",
            "_view_name": "LayoutView",
            "align_content": null,
            "align_items": null,
            "align_self": null,
            "border": null,
            "bottom": null,
            "display": null,
            "flex": null,
            "flex_flow": null,
            "grid_area": null,
            "grid_auto_columns": null,
            "grid_auto_flow": null,
            "grid_auto_rows": null,
            "grid_column": null,
            "grid_gap": null,
            "grid_row": null,
            "grid_template_areas": null,
            "grid_template_columns": null,
            "grid_template_rows": null,
            "height": null,
            "justify_content": null,
            "justify_items": null,
            "left": null,
            "margin": null,
            "max_height": null,
            "max_width": null,
            "min_height": null,
            "min_width": null,
            "object_fit": null,
            "object_position": null,
            "order": null,
            "overflow": null,
            "overflow_x": null,
            "overflow_y": null,
            "padding": null,
            "right": null,
            "top": null,
            "visibility": null,
            "width": null
          }
        },
        "a8485a90178441328c12fabb3bd8393c": {
          "model_module": "@jupyter-widgets/base",
          "model_module_version": "1.2.0",
          "model_name": "LayoutModel",
          "state": {
            "_model_module": "@jupyter-widgets/base",
            "_model_module_version": "1.2.0",
            "_model_name": "LayoutModel",
            "_view_count": null,
            "_view_module": "@jupyter-widgets/base",
            "_view_module_version": "1.2.0",
            "_view_name": "LayoutView",
            "align_content": null,
            "align_items": null,
            "align_self": null,
            "border": null,
            "bottom": null,
            "display": null,
            "flex": null,
            "flex_flow": null,
            "grid_area": null,
            "grid_auto_columns": null,
            "grid_auto_flow": null,
            "grid_auto_rows": null,
            "grid_column": null,
            "grid_gap": null,
            "grid_row": null,
            "grid_template_areas": null,
            "grid_template_columns": null,
            "grid_template_rows": null,
            "height": null,
            "justify_content": null,
            "justify_items": null,
            "left": null,
            "margin": null,
            "max_height": null,
            "max_width": null,
            "min_height": null,
            "min_width": null,
            "object_fit": null,
            "object_position": null,
            "order": null,
            "overflow": null,
            "overflow_x": null,
            "overflow_y": null,
            "padding": null,
            "right": null,
            "top": null,
            "visibility": null,
            "width": null
          }
        },
        "b1ccaa6c172f4b1f8377d0c546f309e3": {
          "model_module": "@jupyter-widgets/controls",
          "model_module_version": "1.5.0",
          "model_name": "HTMLModel",
          "state": {
            "_dom_classes": [],
            "_model_module": "@jupyter-widgets/controls",
            "_model_module_version": "1.5.0",
            "_model_name": "HTMLModel",
            "_view_count": null,
            "_view_module": "@jupyter-widgets/controls",
            "_view_module_version": "1.5.0",
            "_view_name": "HTMLView",
            "description": "",
            "description_tooltip": null,
            "layout": "IPY_MODEL_88fd62ade53041b9b009e0df968b7d20",
            "placeholder": "​",
            "style": "IPY_MODEL_b5d1f754f34a453f9d7979a0b10ddf19",
            "value": "Downloading: 100%"
          }
        },
        "b5d1f754f34a453f9d7979a0b10ddf19": {
          "model_module": "@jupyter-widgets/controls",
          "model_module_version": "1.5.0",
          "model_name": "DescriptionStyleModel",
          "state": {
            "_model_module": "@jupyter-widgets/controls",
            "_model_module_version": "1.5.0",
            "_model_name": "DescriptionStyleModel",
            "_view_count": null,
            "_view_module": "@jupyter-widgets/base",
            "_view_module_version": "1.2.0",
            "_view_name": "StyleView",
            "description_width": ""
          }
        },
        "b6651952c58c402d969365aabc5a80c7": {
          "model_module": "@jupyter-widgets/base",
          "model_module_version": "1.2.0",
          "model_name": "LayoutModel",
          "state": {
            "_model_module": "@jupyter-widgets/base",
            "_model_module_version": "1.2.0",
            "_model_name": "LayoutModel",
            "_view_count": null,
            "_view_module": "@jupyter-widgets/base",
            "_view_module_version": "1.2.0",
            "_view_name": "LayoutView",
            "align_content": null,
            "align_items": null,
            "align_self": null,
            "border": null,
            "bottom": null,
            "display": null,
            "flex": null,
            "flex_flow": null,
            "grid_area": null,
            "grid_auto_columns": null,
            "grid_auto_flow": null,
            "grid_auto_rows": null,
            "grid_column": null,
            "grid_gap": null,
            "grid_row": null,
            "grid_template_areas": null,
            "grid_template_columns": null,
            "grid_template_rows": null,
            "height": null,
            "justify_content": null,
            "justify_items": null,
            "left": null,
            "margin": null,
            "max_height": null,
            "max_width": null,
            "min_height": null,
            "min_width": null,
            "object_fit": null,
            "object_position": null,
            "order": null,
            "overflow": null,
            "overflow_x": null,
            "overflow_y": null,
            "padding": null,
            "right": null,
            "top": null,
            "visibility": null,
            "width": null
          }
        },
        "bb545702b0c545c58fd4bec4cdd11bda": {
          "model_module": "@jupyter-widgets/base",
          "model_module_version": "1.2.0",
          "model_name": "LayoutModel",
          "state": {
            "_model_module": "@jupyter-widgets/base",
            "_model_module_version": "1.2.0",
            "_model_name": "LayoutModel",
            "_view_count": null,
            "_view_module": "@jupyter-widgets/base",
            "_view_module_version": "1.2.0",
            "_view_name": "LayoutView",
            "align_content": null,
            "align_items": null,
            "align_self": null,
            "border": null,
            "bottom": null,
            "display": null,
            "flex": null,
            "flex_flow": null,
            "grid_area": null,
            "grid_auto_columns": null,
            "grid_auto_flow": null,
            "grid_auto_rows": null,
            "grid_column": null,
            "grid_gap": null,
            "grid_row": null,
            "grid_template_areas": null,
            "grid_template_columns": null,
            "grid_template_rows": null,
            "height": null,
            "justify_content": null,
            "justify_items": null,
            "left": null,
            "margin": null,
            "max_height": null,
            "max_width": null,
            "min_height": null,
            "min_width": null,
            "object_fit": null,
            "object_position": null,
            "order": null,
            "overflow": null,
            "overflow_x": null,
            "overflow_y": null,
            "padding": null,
            "right": null,
            "top": null,
            "visibility": null,
            "width": null
          }
        },
        "bd43d61992ed4ca09bccd1a3efa222c0": {
          "model_module": "@jupyter-widgets/controls",
          "model_module_version": "1.5.0",
          "model_name": "DescriptionStyleModel",
          "state": {
            "_model_module": "@jupyter-widgets/controls",
            "_model_module_version": "1.5.0",
            "_model_name": "DescriptionStyleModel",
            "_view_count": null,
            "_view_module": "@jupyter-widgets/base",
            "_view_module_version": "1.2.0",
            "_view_name": "StyleView",
            "description_width": ""
          }
        },
        "c57eef7aaf5b4bae9e38b4fd292bd566": {
          "model_module": "@jupyter-widgets/controls",
          "model_module_version": "1.5.0",
          "model_name": "HTMLModel",
          "state": {
            "_dom_classes": [],
            "_model_module": "@jupyter-widgets/controls",
            "_model_module_version": "1.5.0",
            "_model_name": "HTMLModel",
            "_view_count": null,
            "_view_module": "@jupyter-widgets/controls",
            "_view_module_version": "1.5.0",
            "_view_name": "HTMLView",
            "description": "",
            "description_tooltip": null,
            "layout": "IPY_MODEL_a8485a90178441328c12fabb3bd8393c",
            "placeholder": "​",
            "style": "IPY_MODEL_45f248feb20242e1b6b293410aa8b53e",
            "value": "Downloading: 100%"
          }
        },
        "d7d92759041043f6b2991dd389f8a1f5": {
          "model_module": "@jupyter-widgets/controls",
          "model_module_version": "1.5.0",
          "model_name": "HTMLModel",
          "state": {
            "_dom_classes": [],
            "_model_module": "@jupyter-widgets/controls",
            "_model_module_version": "1.5.0",
            "_model_name": "HTMLModel",
            "_view_count": null,
            "_view_module": "@jupyter-widgets/controls",
            "_view_module_version": "1.5.0",
            "_view_name": "HTMLView",
            "description": "",
            "description_tooltip": null,
            "layout": "IPY_MODEL_e68490c563fc43649c431b9b0de48785",
            "placeholder": "​",
            "style": "IPY_MODEL_49240f244f7743459a1789aebed364dc",
            "value": "Downloading: 100%"
          }
        },
        "ddabcf0a9d8846c2a1fb861499cd69d3": {
          "model_module": "@jupyter-widgets/controls",
          "model_module_version": "1.5.0",
          "model_name": "DescriptionStyleModel",
          "state": {
            "_model_module": "@jupyter-widgets/controls",
            "_model_module_version": "1.5.0",
            "_model_name": "DescriptionStyleModel",
            "_view_count": null,
            "_view_module": "@jupyter-widgets/base",
            "_view_module_version": "1.2.0",
            "_view_name": "StyleView",
            "description_width": ""
          }
        },
        "e12f2edf0285443a96e2bf1ff9104706": {
          "model_module": "@jupyter-widgets/controls",
          "model_module_version": "1.5.0",
          "model_name": "DescriptionStyleModel",
          "state": {
            "_model_module": "@jupyter-widgets/controls",
            "_model_module_version": "1.5.0",
            "_model_name": "DescriptionStyleModel",
            "_view_count": null,
            "_view_module": "@jupyter-widgets/base",
            "_view_module_version": "1.2.0",
            "_view_name": "StyleView",
            "description_width": ""
          }
        },
        "e5ac6d84adb84718879eac94dd63d4e8": {
          "model_module": "@jupyter-widgets/controls",
          "model_module_version": "1.5.0",
          "model_name": "ProgressStyleModel",
          "state": {
            "_model_module": "@jupyter-widgets/controls",
            "_model_module_version": "1.5.0",
            "_model_name": "ProgressStyleModel",
            "_view_count": null,
            "_view_module": "@jupyter-widgets/base",
            "_view_module_version": "1.2.0",
            "_view_name": "StyleView",
            "bar_color": null,
            "description_width": ""
          }
        },
        "e68490c563fc43649c431b9b0de48785": {
          "model_module": "@jupyter-widgets/base",
          "model_module_version": "1.2.0",
          "model_name": "LayoutModel",
          "state": {
            "_model_module": "@jupyter-widgets/base",
            "_model_module_version": "1.2.0",
            "_model_name": "LayoutModel",
            "_view_count": null,
            "_view_module": "@jupyter-widgets/base",
            "_view_module_version": "1.2.0",
            "_view_name": "LayoutView",
            "align_content": null,
            "align_items": null,
            "align_self": null,
            "border": null,
            "bottom": null,
            "display": null,
            "flex": null,
            "flex_flow": null,
            "grid_area": null,
            "grid_auto_columns": null,
            "grid_auto_flow": null,
            "grid_auto_rows": null,
            "grid_column": null,
            "grid_gap": null,
            "grid_row": null,
            "grid_template_areas": null,
            "grid_template_columns": null,
            "grid_template_rows": null,
            "height": null,
            "justify_content": null,
            "justify_items": null,
            "left": null,
            "margin": null,
            "max_height": null,
            "max_width": null,
            "min_height": null,
            "min_width": null,
            "object_fit": null,
            "object_position": null,
            "order": null,
            "overflow": null,
            "overflow_x": null,
            "overflow_y": null,
            "padding": null,
            "right": null,
            "top": null,
            "visibility": null,
            "width": null
          }
        },
        "ee02118e3a524c5c8ea109cfc1a9aec3": {
          "model_module": "@jupyter-widgets/controls",
          "model_module_version": "1.5.0",
          "model_name": "HBoxModel",
          "state": {
            "_dom_classes": [],
            "_model_module": "@jupyter-widgets/controls",
            "_model_module_version": "1.5.0",
            "_model_name": "HBoxModel",
            "_view_count": null,
            "_view_module": "@jupyter-widgets/controls",
            "_view_module_version": "1.5.0",
            "_view_name": "HBoxView",
            "box_style": "",
            "children": [
              "IPY_MODEL_008f43d911dc482d9c39c34902555eff",
              "IPY_MODEL_06081a8e927d401c949fa39622a93135",
              "IPY_MODEL_9195ae726c674878a89abbcb73e7bb2c"
            ],
            "layout": "IPY_MODEL_0a186fca86e24128ad3c9c050b8f36a5"
          }
        },
        "ef930d8bd96f48c683b8fea072a7d21d": {
          "model_module": "@jupyter-widgets/base",
          "model_module_version": "1.2.0",
          "model_name": "LayoutModel",
          "state": {
            "_model_module": "@jupyter-widgets/base",
            "_model_module_version": "1.2.0",
            "_model_name": "LayoutModel",
            "_view_count": null,
            "_view_module": "@jupyter-widgets/base",
            "_view_module_version": "1.2.0",
            "_view_name": "LayoutView",
            "align_content": null,
            "align_items": null,
            "align_self": null,
            "border": null,
            "bottom": null,
            "display": null,
            "flex": null,
            "flex_flow": null,
            "grid_area": null,
            "grid_auto_columns": null,
            "grid_auto_flow": null,
            "grid_auto_rows": null,
            "grid_column": null,
            "grid_gap": null,
            "grid_row": null,
            "grid_template_areas": null,
            "grid_template_columns": null,
            "grid_template_rows": null,
            "height": null,
            "justify_content": null,
            "justify_items": null,
            "left": null,
            "margin": null,
            "max_height": null,
            "max_width": null,
            "min_height": null,
            "min_width": null,
            "object_fit": null,
            "object_position": null,
            "order": null,
            "overflow": null,
            "overflow_x": null,
            "overflow_y": null,
            "padding": null,
            "right": null,
            "top": null,
            "visibility": null,
            "width": null
          }
        },
        "f0088ceb321742f4a5def959bc696ed5": {
          "model_module": "@jupyter-widgets/controls",
          "model_module_version": "1.5.0",
          "model_name": "HBoxModel",
          "state": {
            "_dom_classes": [],
            "_model_module": "@jupyter-widgets/controls",
            "_model_module_version": "1.5.0",
            "_model_name": "HBoxModel",
            "_view_count": null,
            "_view_module": "@jupyter-widgets/controls",
            "_view_module_version": "1.5.0",
            "_view_name": "HBoxView",
            "box_style": "",
            "children": [
              "IPY_MODEL_4b070de725c64e5182a0e1f2b84d482c",
              "IPY_MODEL_15fa064802a0484982b6d43e7179dc2e",
              "IPY_MODEL_7721faf096624675999aee07a1a1c4a0"
            ],
            "layout": "IPY_MODEL_3e830a34a0be45149b24e971b7a588d3"
          }
        },
        "f0118fc6e79542d6963a2996006e3a62": {
          "model_module": "@jupyter-widgets/base",
          "model_module_version": "1.2.0",
          "model_name": "LayoutModel",
          "state": {
            "_model_module": "@jupyter-widgets/base",
            "_model_module_version": "1.2.0",
            "_model_name": "LayoutModel",
            "_view_count": null,
            "_view_module": "@jupyter-widgets/base",
            "_view_module_version": "1.2.0",
            "_view_name": "LayoutView",
            "align_content": null,
            "align_items": null,
            "align_self": null,
            "border": null,
            "bottom": null,
            "display": null,
            "flex": null,
            "flex_flow": null,
            "grid_area": null,
            "grid_auto_columns": null,
            "grid_auto_flow": null,
            "grid_auto_rows": null,
            "grid_column": null,
            "grid_gap": null,
            "grid_row": null,
            "grid_template_areas": null,
            "grid_template_columns": null,
            "grid_template_rows": null,
            "height": null,
            "justify_content": null,
            "justify_items": null,
            "left": null,
            "margin": null,
            "max_height": null,
            "max_width": null,
            "min_height": null,
            "min_width": null,
            "object_fit": null,
            "object_position": null,
            "order": null,
            "overflow": null,
            "overflow_x": null,
            "overflow_y": null,
            "padding": null,
            "right": null,
            "top": null,
            "visibility": null,
            "width": null
          }
        },
        "f02a8319b69a4d17a807e774149f0114": {
          "model_module": "@jupyter-widgets/base",
          "model_module_version": "1.2.0",
          "model_name": "LayoutModel",
          "state": {
            "_model_module": "@jupyter-widgets/base",
            "_model_module_version": "1.2.0",
            "_model_name": "LayoutModel",
            "_view_count": null,
            "_view_module": "@jupyter-widgets/base",
            "_view_module_version": "1.2.0",
            "_view_name": "LayoutView",
            "align_content": null,
            "align_items": null,
            "align_self": null,
            "border": null,
            "bottom": null,
            "display": null,
            "flex": null,
            "flex_flow": null,
            "grid_area": null,
            "grid_auto_columns": null,
            "grid_auto_flow": null,
            "grid_auto_rows": null,
            "grid_column": null,
            "grid_gap": null,
            "grid_row": null,
            "grid_template_areas": null,
            "grid_template_columns": null,
            "grid_template_rows": null,
            "height": null,
            "justify_content": null,
            "justify_items": null,
            "left": null,
            "margin": null,
            "max_height": null,
            "max_width": null,
            "min_height": null,
            "min_width": null,
            "object_fit": null,
            "object_position": null,
            "order": null,
            "overflow": null,
            "overflow_x": null,
            "overflow_y": null,
            "padding": null,
            "right": null,
            "top": null,
            "visibility": null,
            "width": null
          }
        },
        "fa3c78b8997e4188874f1c8b8fbf6eea": {
          "model_module": "@jupyter-widgets/base",
          "model_module_version": "1.2.0",
          "model_name": "LayoutModel",
          "state": {
            "_model_module": "@jupyter-widgets/base",
            "_model_module_version": "1.2.0",
            "_model_name": "LayoutModel",
            "_view_count": null,
            "_view_module": "@jupyter-widgets/base",
            "_view_module_version": "1.2.0",
            "_view_name": "LayoutView",
            "align_content": null,
            "align_items": null,
            "align_self": null,
            "border": null,
            "bottom": null,
            "display": null,
            "flex": null,
            "flex_flow": null,
            "grid_area": null,
            "grid_auto_columns": null,
            "grid_auto_flow": null,
            "grid_auto_rows": null,
            "grid_column": null,
            "grid_gap": null,
            "grid_row": null,
            "grid_template_areas": null,
            "grid_template_columns": null,
            "grid_template_rows": null,
            "height": null,
            "justify_content": null,
            "justify_items": null,
            "left": null,
            "margin": null,
            "max_height": null,
            "max_width": null,
            "min_height": null,
            "min_width": null,
            "object_fit": null,
            "object_position": null,
            "order": null,
            "overflow": null,
            "overflow_x": null,
            "overflow_y": null,
            "padding": null,
            "right": null,
            "top": null,
            "visibility": null,
            "width": null
          }
        },
        "fac9011bba7f46c9b529c8544fe5ba6f": {
          "model_module": "@jupyter-widgets/controls",
          "model_module_version": "1.5.0",
          "model_name": "ProgressStyleModel",
          "state": {
            "_model_module": "@jupyter-widgets/controls",
            "_model_module_version": "1.5.0",
            "_model_name": "ProgressStyleModel",
            "_view_count": null,
            "_view_module": "@jupyter-widgets/base",
            "_view_module_version": "1.2.0",
            "_view_name": "StyleView",
            "bar_color": null,
            "description_width": ""
          }
        },
        "a7eca42cb8b94fd59c89afe00cb3101b": {
          "model_module": "@jupyter-widgets/controls",
          "model_name": "HBoxModel",
          "model_module_version": "1.5.0",
          "state": {
            "_dom_classes": [],
            "_model_module": "@jupyter-widgets/controls",
            "_model_module_version": "1.5.0",
            "_model_name": "HBoxModel",
            "_view_count": null,
            "_view_module": "@jupyter-widgets/controls",
            "_view_module_version": "1.5.0",
            "_view_name": "HBoxView",
            "box_style": "",
            "children": [
              "IPY_MODEL_1da2250b2bb24b2f944560c0a56126b2",
              "IPY_MODEL_a58e1931aea549548e238028f55208c9",
              "IPY_MODEL_1e65ac4dd4c44a76a028307d4b036016"
            ],
            "layout": "IPY_MODEL_88ffd65b35404747b350e7b273c1bebf"
          }
        },
        "1da2250b2bb24b2f944560c0a56126b2": {
          "model_module": "@jupyter-widgets/controls",
          "model_name": "HTMLModel",
          "model_module_version": "1.5.0",
          "state": {
            "_dom_classes": [],
            "_model_module": "@jupyter-widgets/controls",
            "_model_module_version": "1.5.0",
            "_model_name": "HTMLModel",
            "_view_count": null,
            "_view_module": "@jupyter-widgets/controls",
            "_view_module_version": "1.5.0",
            "_view_name": "HTMLView",
            "description": "",
            "description_tooltip": null,
            "layout": "IPY_MODEL_e92a90df0d084cf28b41b0b22b39a811",
            "placeholder": "​",
            "style": "IPY_MODEL_8b4e666fda5e47419e157b9b2f58aea5",
            "value": "Downloading: 100%"
          }
        },
        "a58e1931aea549548e238028f55208c9": {
          "model_module": "@jupyter-widgets/controls",
          "model_name": "FloatProgressModel",
          "model_module_version": "1.5.0",
          "state": {
            "_dom_classes": [],
            "_model_module": "@jupyter-widgets/controls",
            "_model_module_version": "1.5.0",
            "_model_name": "FloatProgressModel",
            "_view_count": null,
            "_view_module": "@jupyter-widgets/controls",
            "_view_module_version": "1.5.0",
            "_view_name": "ProgressView",
            "bar_style": "success",
            "description": "",
            "description_tooltip": null,
            "layout": "IPY_MODEL_fcd321bc6a4a4414bbd1a3d6b018ba5b",
            "max": 231508,
            "min": 0,
            "orientation": "horizontal",
            "style": "IPY_MODEL_cd32ee2a6367465296eda27d47468298",
            "value": 231508
          }
        },
        "1e65ac4dd4c44a76a028307d4b036016": {
          "model_module": "@jupyter-widgets/controls",
          "model_name": "HTMLModel",
          "model_module_version": "1.5.0",
          "state": {
            "_dom_classes": [],
            "_model_module": "@jupyter-widgets/controls",
            "_model_module_version": "1.5.0",
            "_model_name": "HTMLModel",
            "_view_count": null,
            "_view_module": "@jupyter-widgets/controls",
            "_view_module_version": "1.5.0",
            "_view_name": "HTMLView",
            "description": "",
            "description_tooltip": null,
            "layout": "IPY_MODEL_88b2681cc4584d6a836160acd512f192",
            "placeholder": "​",
            "style": "IPY_MODEL_d404971df2aa439d8d144ebab5f04b2a",
            "value": " 226k/226k [00:00&lt;00:00, 3.01MB/s]"
          }
        },
        "88ffd65b35404747b350e7b273c1bebf": {
          "model_module": "@jupyter-widgets/base",
          "model_name": "LayoutModel",
          "model_module_version": "1.2.0",
          "state": {
            "_model_module": "@jupyter-widgets/base",
            "_model_module_version": "1.2.0",
            "_model_name": "LayoutModel",
            "_view_count": null,
            "_view_module": "@jupyter-widgets/base",
            "_view_module_version": "1.2.0",
            "_view_name": "LayoutView",
            "align_content": null,
            "align_items": null,
            "align_self": null,
            "border": null,
            "bottom": null,
            "display": null,
            "flex": null,
            "flex_flow": null,
            "grid_area": null,
            "grid_auto_columns": null,
            "grid_auto_flow": null,
            "grid_auto_rows": null,
            "grid_column": null,
            "grid_gap": null,
            "grid_row": null,
            "grid_template_areas": null,
            "grid_template_columns": null,
            "grid_template_rows": null,
            "height": null,
            "justify_content": null,
            "justify_items": null,
            "left": null,
            "margin": null,
            "max_height": null,
            "max_width": null,
            "min_height": null,
            "min_width": null,
            "object_fit": null,
            "object_position": null,
            "order": null,
            "overflow": null,
            "overflow_x": null,
            "overflow_y": null,
            "padding": null,
            "right": null,
            "top": null,
            "visibility": null,
            "width": null
          }
        },
        "e92a90df0d084cf28b41b0b22b39a811": {
          "model_module": "@jupyter-widgets/base",
          "model_name": "LayoutModel",
          "model_module_version": "1.2.0",
          "state": {
            "_model_module": "@jupyter-widgets/base",
            "_model_module_version": "1.2.0",
            "_model_name": "LayoutModel",
            "_view_count": null,
            "_view_module": "@jupyter-widgets/base",
            "_view_module_version": "1.2.0",
            "_view_name": "LayoutView",
            "align_content": null,
            "align_items": null,
            "align_self": null,
            "border": null,
            "bottom": null,
            "display": null,
            "flex": null,
            "flex_flow": null,
            "grid_area": null,
            "grid_auto_columns": null,
            "grid_auto_flow": null,
            "grid_auto_rows": null,
            "grid_column": null,
            "grid_gap": null,
            "grid_row": null,
            "grid_template_areas": null,
            "grid_template_columns": null,
            "grid_template_rows": null,
            "height": null,
            "justify_content": null,
            "justify_items": null,
            "left": null,
            "margin": null,
            "max_height": null,
            "max_width": null,
            "min_height": null,
            "min_width": null,
            "object_fit": null,
            "object_position": null,
            "order": null,
            "overflow": null,
            "overflow_x": null,
            "overflow_y": null,
            "padding": null,
            "right": null,
            "top": null,
            "visibility": null,
            "width": null
          }
        },
        "8b4e666fda5e47419e157b9b2f58aea5": {
          "model_module": "@jupyter-widgets/controls",
          "model_name": "DescriptionStyleModel",
          "model_module_version": "1.5.0",
          "state": {
            "_model_module": "@jupyter-widgets/controls",
            "_model_module_version": "1.5.0",
            "_model_name": "DescriptionStyleModel",
            "_view_count": null,
            "_view_module": "@jupyter-widgets/base",
            "_view_module_version": "1.2.0",
            "_view_name": "StyleView",
            "description_width": ""
          }
        },
        "fcd321bc6a4a4414bbd1a3d6b018ba5b": {
          "model_module": "@jupyter-widgets/base",
          "model_name": "LayoutModel",
          "model_module_version": "1.2.0",
          "state": {
            "_model_module": "@jupyter-widgets/base",
            "_model_module_version": "1.2.0",
            "_model_name": "LayoutModel",
            "_view_count": null,
            "_view_module": "@jupyter-widgets/base",
            "_view_module_version": "1.2.0",
            "_view_name": "LayoutView",
            "align_content": null,
            "align_items": null,
            "align_self": null,
            "border": null,
            "bottom": null,
            "display": null,
            "flex": null,
            "flex_flow": null,
            "grid_area": null,
            "grid_auto_columns": null,
            "grid_auto_flow": null,
            "grid_auto_rows": null,
            "grid_column": null,
            "grid_gap": null,
            "grid_row": null,
            "grid_template_areas": null,
            "grid_template_columns": null,
            "grid_template_rows": null,
            "height": null,
            "justify_content": null,
            "justify_items": null,
            "left": null,
            "margin": null,
            "max_height": null,
            "max_width": null,
            "min_height": null,
            "min_width": null,
            "object_fit": null,
            "object_position": null,
            "order": null,
            "overflow": null,
            "overflow_x": null,
            "overflow_y": null,
            "padding": null,
            "right": null,
            "top": null,
            "visibility": null,
            "width": null
          }
        },
        "cd32ee2a6367465296eda27d47468298": {
          "model_module": "@jupyter-widgets/controls",
          "model_name": "ProgressStyleModel",
          "model_module_version": "1.5.0",
          "state": {
            "_model_module": "@jupyter-widgets/controls",
            "_model_module_version": "1.5.0",
            "_model_name": "ProgressStyleModel",
            "_view_count": null,
            "_view_module": "@jupyter-widgets/base",
            "_view_module_version": "1.2.0",
            "_view_name": "StyleView",
            "bar_color": null,
            "description_width": ""
          }
        },
        "88b2681cc4584d6a836160acd512f192": {
          "model_module": "@jupyter-widgets/base",
          "model_name": "LayoutModel",
          "model_module_version": "1.2.0",
          "state": {
            "_model_module": "@jupyter-widgets/base",
            "_model_module_version": "1.2.0",
            "_model_name": "LayoutModel",
            "_view_count": null,
            "_view_module": "@jupyter-widgets/base",
            "_view_module_version": "1.2.0",
            "_view_name": "LayoutView",
            "align_content": null,
            "align_items": null,
            "align_self": null,
            "border": null,
            "bottom": null,
            "display": null,
            "flex": null,
            "flex_flow": null,
            "grid_area": null,
            "grid_auto_columns": null,
            "grid_auto_flow": null,
            "grid_auto_rows": null,
            "grid_column": null,
            "grid_gap": null,
            "grid_row": null,
            "grid_template_areas": null,
            "grid_template_columns": null,
            "grid_template_rows": null,
            "height": null,
            "justify_content": null,
            "justify_items": null,
            "left": null,
            "margin": null,
            "max_height": null,
            "max_width": null,
            "min_height": null,
            "min_width": null,
            "object_fit": null,
            "object_position": null,
            "order": null,
            "overflow": null,
            "overflow_x": null,
            "overflow_y": null,
            "padding": null,
            "right": null,
            "top": null,
            "visibility": null,
            "width": null
          }
        },
        "d404971df2aa439d8d144ebab5f04b2a": {
          "model_module": "@jupyter-widgets/controls",
          "model_name": "DescriptionStyleModel",
          "model_module_version": "1.5.0",
          "state": {
            "_model_module": "@jupyter-widgets/controls",
            "_model_module_version": "1.5.0",
            "_model_name": "DescriptionStyleModel",
            "_view_count": null,
            "_view_module": "@jupyter-widgets/base",
            "_view_module_version": "1.2.0",
            "_view_name": "StyleView",
            "description_width": ""
          }
        },
        "9317012b81b44339b305292debcf7e5a": {
          "model_module": "@jupyter-widgets/controls",
          "model_name": "HBoxModel",
          "model_module_version": "1.5.0",
          "state": {
            "_dom_classes": [],
            "_model_module": "@jupyter-widgets/controls",
            "_model_module_version": "1.5.0",
            "_model_name": "HBoxModel",
            "_view_count": null,
            "_view_module": "@jupyter-widgets/controls",
            "_view_module_version": "1.5.0",
            "_view_name": "HBoxView",
            "box_style": "",
            "children": [
              "IPY_MODEL_b6d55da4fa1e4f11a8b859828fc6eb0f",
              "IPY_MODEL_6da0aedb60d9419b942eac923e7de85a",
              "IPY_MODEL_fa226c94af814111bf29bdabba40fe35"
            ],
            "layout": "IPY_MODEL_a88ca22bc8594cb9823de184bdefc72d"
          }
        },
        "b6d55da4fa1e4f11a8b859828fc6eb0f": {
          "model_module": "@jupyter-widgets/controls",
          "model_name": "HTMLModel",
          "model_module_version": "1.5.0",
          "state": {
            "_dom_classes": [],
            "_model_module": "@jupyter-widgets/controls",
            "_model_module_version": "1.5.0",
            "_model_name": "HTMLModel",
            "_view_count": null,
            "_view_module": "@jupyter-widgets/controls",
            "_view_module_version": "1.5.0",
            "_view_name": "HTMLView",
            "description": "",
            "description_tooltip": null,
            "layout": "IPY_MODEL_801f27e914b647878d7a2abbb7315eb4",
            "placeholder": "​",
            "style": "IPY_MODEL_f27b465c06354e46aabb667239e8de1a",
            "value": "Downloading: 100%"
          }
        },
        "6da0aedb60d9419b942eac923e7de85a": {
          "model_module": "@jupyter-widgets/controls",
          "model_name": "FloatProgressModel",
          "model_module_version": "1.5.0",
          "state": {
            "_dom_classes": [],
            "_model_module": "@jupyter-widgets/controls",
            "_model_module_version": "1.5.0",
            "_model_name": "FloatProgressModel",
            "_view_count": null,
            "_view_module": "@jupyter-widgets/controls",
            "_view_module_version": "1.5.0",
            "_view_name": "ProgressView",
            "bar_style": "success",
            "description": "",
            "description_tooltip": null,
            "layout": "IPY_MODEL_e31adb471751425988581a230ff8d7e1",
            "max": 28,
            "min": 0,
            "orientation": "horizontal",
            "style": "IPY_MODEL_261c18b401684fa9b21be554498dfb76",
            "value": 28
          }
        },
        "fa226c94af814111bf29bdabba40fe35": {
          "model_module": "@jupyter-widgets/controls",
          "model_name": "HTMLModel",
          "model_module_version": "1.5.0",
          "state": {
            "_dom_classes": [],
            "_model_module": "@jupyter-widgets/controls",
            "_model_module_version": "1.5.0",
            "_model_name": "HTMLModel",
            "_view_count": null,
            "_view_module": "@jupyter-widgets/controls",
            "_view_module_version": "1.5.0",
            "_view_name": "HTMLView",
            "description": "",
            "description_tooltip": null,
            "layout": "IPY_MODEL_6ada29f9480a47f981968a7ce8a07672",
            "placeholder": "​",
            "style": "IPY_MODEL_5fe4a9c2bba3431f88a199b1a262559a",
            "value": " 28.0/28.0 [00:00&lt;00:00, 1.17kB/s]"
          }
        },
        "a88ca22bc8594cb9823de184bdefc72d": {
          "model_module": "@jupyter-widgets/base",
          "model_name": "LayoutModel",
          "model_module_version": "1.2.0",
          "state": {
            "_model_module": "@jupyter-widgets/base",
            "_model_module_version": "1.2.0",
            "_model_name": "LayoutModel",
            "_view_count": null,
            "_view_module": "@jupyter-widgets/base",
            "_view_module_version": "1.2.0",
            "_view_name": "LayoutView",
            "align_content": null,
            "align_items": null,
            "align_self": null,
            "border": null,
            "bottom": null,
            "display": null,
            "flex": null,
            "flex_flow": null,
            "grid_area": null,
            "grid_auto_columns": null,
            "grid_auto_flow": null,
            "grid_auto_rows": null,
            "grid_column": null,
            "grid_gap": null,
            "grid_row": null,
            "grid_template_areas": null,
            "grid_template_columns": null,
            "grid_template_rows": null,
            "height": null,
            "justify_content": null,
            "justify_items": null,
            "left": null,
            "margin": null,
            "max_height": null,
            "max_width": null,
            "min_height": null,
            "min_width": null,
            "object_fit": null,
            "object_position": null,
            "order": null,
            "overflow": null,
            "overflow_x": null,
            "overflow_y": null,
            "padding": null,
            "right": null,
            "top": null,
            "visibility": null,
            "width": null
          }
        },
        "801f27e914b647878d7a2abbb7315eb4": {
          "model_module": "@jupyter-widgets/base",
          "model_name": "LayoutModel",
          "model_module_version": "1.2.0",
          "state": {
            "_model_module": "@jupyter-widgets/base",
            "_model_module_version": "1.2.0",
            "_model_name": "LayoutModel",
            "_view_count": null,
            "_view_module": "@jupyter-widgets/base",
            "_view_module_version": "1.2.0",
            "_view_name": "LayoutView",
            "align_content": null,
            "align_items": null,
            "align_self": null,
            "border": null,
            "bottom": null,
            "display": null,
            "flex": null,
            "flex_flow": null,
            "grid_area": null,
            "grid_auto_columns": null,
            "grid_auto_flow": null,
            "grid_auto_rows": null,
            "grid_column": null,
            "grid_gap": null,
            "grid_row": null,
            "grid_template_areas": null,
            "grid_template_columns": null,
            "grid_template_rows": null,
            "height": null,
            "justify_content": null,
            "justify_items": null,
            "left": null,
            "margin": null,
            "max_height": null,
            "max_width": null,
            "min_height": null,
            "min_width": null,
            "object_fit": null,
            "object_position": null,
            "order": null,
            "overflow": null,
            "overflow_x": null,
            "overflow_y": null,
            "padding": null,
            "right": null,
            "top": null,
            "visibility": null,
            "width": null
          }
        },
        "f27b465c06354e46aabb667239e8de1a": {
          "model_module": "@jupyter-widgets/controls",
          "model_name": "DescriptionStyleModel",
          "model_module_version": "1.5.0",
          "state": {
            "_model_module": "@jupyter-widgets/controls",
            "_model_module_version": "1.5.0",
            "_model_name": "DescriptionStyleModel",
            "_view_count": null,
            "_view_module": "@jupyter-widgets/base",
            "_view_module_version": "1.2.0",
            "_view_name": "StyleView",
            "description_width": ""
          }
        },
        "e31adb471751425988581a230ff8d7e1": {
          "model_module": "@jupyter-widgets/base",
          "model_name": "LayoutModel",
          "model_module_version": "1.2.0",
          "state": {
            "_model_module": "@jupyter-widgets/base",
            "_model_module_version": "1.2.0",
            "_model_name": "LayoutModel",
            "_view_count": null,
            "_view_module": "@jupyter-widgets/base",
            "_view_module_version": "1.2.0",
            "_view_name": "LayoutView",
            "align_content": null,
            "align_items": null,
            "align_self": null,
            "border": null,
            "bottom": null,
            "display": null,
            "flex": null,
            "flex_flow": null,
            "grid_area": null,
            "grid_auto_columns": null,
            "grid_auto_flow": null,
            "grid_auto_rows": null,
            "grid_column": null,
            "grid_gap": null,
            "grid_row": null,
            "grid_template_areas": null,
            "grid_template_columns": null,
            "grid_template_rows": null,
            "height": null,
            "justify_content": null,
            "justify_items": null,
            "left": null,
            "margin": null,
            "max_height": null,
            "max_width": null,
            "min_height": null,
            "min_width": null,
            "object_fit": null,
            "object_position": null,
            "order": null,
            "overflow": null,
            "overflow_x": null,
            "overflow_y": null,
            "padding": null,
            "right": null,
            "top": null,
            "visibility": null,
            "width": null
          }
        },
        "261c18b401684fa9b21be554498dfb76": {
          "model_module": "@jupyter-widgets/controls",
          "model_name": "ProgressStyleModel",
          "model_module_version": "1.5.0",
          "state": {
            "_model_module": "@jupyter-widgets/controls",
            "_model_module_version": "1.5.0",
            "_model_name": "ProgressStyleModel",
            "_view_count": null,
            "_view_module": "@jupyter-widgets/base",
            "_view_module_version": "1.2.0",
            "_view_name": "StyleView",
            "bar_color": null,
            "description_width": ""
          }
        },
        "6ada29f9480a47f981968a7ce8a07672": {
          "model_module": "@jupyter-widgets/base",
          "model_name": "LayoutModel",
          "model_module_version": "1.2.0",
          "state": {
            "_model_module": "@jupyter-widgets/base",
            "_model_module_version": "1.2.0",
            "_model_name": "LayoutModel",
            "_view_count": null,
            "_view_module": "@jupyter-widgets/base",
            "_view_module_version": "1.2.0",
            "_view_name": "LayoutView",
            "align_content": null,
            "align_items": null,
            "align_self": null,
            "border": null,
            "bottom": null,
            "display": null,
            "flex": null,
            "flex_flow": null,
            "grid_area": null,
            "grid_auto_columns": null,
            "grid_auto_flow": null,
            "grid_auto_rows": null,
            "grid_column": null,
            "grid_gap": null,
            "grid_row": null,
            "grid_template_areas": null,
            "grid_template_columns": null,
            "grid_template_rows": null,
            "height": null,
            "justify_content": null,
            "justify_items": null,
            "left": null,
            "margin": null,
            "max_height": null,
            "max_width": null,
            "min_height": null,
            "min_width": null,
            "object_fit": null,
            "object_position": null,
            "order": null,
            "overflow": null,
            "overflow_x": null,
            "overflow_y": null,
            "padding": null,
            "right": null,
            "top": null,
            "visibility": null,
            "width": null
          }
        },
        "5fe4a9c2bba3431f88a199b1a262559a": {
          "model_module": "@jupyter-widgets/controls",
          "model_name": "DescriptionStyleModel",
          "model_module_version": "1.5.0",
          "state": {
            "_model_module": "@jupyter-widgets/controls",
            "_model_module_version": "1.5.0",
            "_model_name": "DescriptionStyleModel",
            "_view_count": null,
            "_view_module": "@jupyter-widgets/base",
            "_view_module_version": "1.2.0",
            "_view_name": "StyleView",
            "description_width": ""
          }
        },
        "019fe23fce1c48e7b57f4f95e7715bd2": {
          "model_module": "@jupyter-widgets/controls",
          "model_name": "HBoxModel",
          "model_module_version": "1.5.0",
          "state": {
            "_dom_classes": [],
            "_model_module": "@jupyter-widgets/controls",
            "_model_module_version": "1.5.0",
            "_model_name": "HBoxModel",
            "_view_count": null,
            "_view_module": "@jupyter-widgets/controls",
            "_view_module_version": "1.5.0",
            "_view_name": "HBoxView",
            "box_style": "",
            "children": [
              "IPY_MODEL_a4cd2d8ce7184a71b2b22e2f38b4d305",
              "IPY_MODEL_dcd845368196419da1480554aa4f7520",
              "IPY_MODEL_9ac4e7a22daf4d729adeb0e70d895eb6"
            ],
            "layout": "IPY_MODEL_a4e6400ef7004e80a15b479d5ac56e31"
          }
        },
        "a4cd2d8ce7184a71b2b22e2f38b4d305": {
          "model_module": "@jupyter-widgets/controls",
          "model_name": "HTMLModel",
          "model_module_version": "1.5.0",
          "state": {
            "_dom_classes": [],
            "_model_module": "@jupyter-widgets/controls",
            "_model_module_version": "1.5.0",
            "_model_name": "HTMLModel",
            "_view_count": null,
            "_view_module": "@jupyter-widgets/controls",
            "_view_module_version": "1.5.0",
            "_view_name": "HTMLView",
            "description": "",
            "description_tooltip": null,
            "layout": "IPY_MODEL_8a8f53a11d5b493e973406d64bb67900",
            "placeholder": "​",
            "style": "IPY_MODEL_20c10e538e014322aed434a1ef3bf471",
            "value": "Downloading: 100%"
          }
        },
        "dcd845368196419da1480554aa4f7520": {
          "model_module": "@jupyter-widgets/controls",
          "model_name": "FloatProgressModel",
          "model_module_version": "1.5.0",
          "state": {
            "_dom_classes": [],
            "_model_module": "@jupyter-widgets/controls",
            "_model_module_version": "1.5.0",
            "_model_name": "FloatProgressModel",
            "_view_count": null,
            "_view_module": "@jupyter-widgets/controls",
            "_view_module_version": "1.5.0",
            "_view_name": "ProgressView",
            "bar_style": "success",
            "description": "",
            "description_tooltip": null,
            "layout": "IPY_MODEL_96a7d941f71e46dc961af3f0ac6adb71",
            "max": 570,
            "min": 0,
            "orientation": "horizontal",
            "style": "IPY_MODEL_a56b91debd2543e0b64c0c8f55d6c687",
            "value": 570
          }
        },
        "9ac4e7a22daf4d729adeb0e70d895eb6": {
          "model_module": "@jupyter-widgets/controls",
          "model_name": "HTMLModel",
          "model_module_version": "1.5.0",
          "state": {
            "_dom_classes": [],
            "_model_module": "@jupyter-widgets/controls",
            "_model_module_version": "1.5.0",
            "_model_name": "HTMLModel",
            "_view_count": null,
            "_view_module": "@jupyter-widgets/controls",
            "_view_module_version": "1.5.0",
            "_view_name": "HTMLView",
            "description": "",
            "description_tooltip": null,
            "layout": "IPY_MODEL_9b19d2696e33449892563b1eceeda260",
            "placeholder": "​",
            "style": "IPY_MODEL_31aa8cfb19da445c96e1422ab713bae3",
            "value": " 570/570 [00:00&lt;00:00, 23.5kB/s]"
          }
        },
        "a4e6400ef7004e80a15b479d5ac56e31": {
          "model_module": "@jupyter-widgets/base",
          "model_name": "LayoutModel",
          "model_module_version": "1.2.0",
          "state": {
            "_model_module": "@jupyter-widgets/base",
            "_model_module_version": "1.2.0",
            "_model_name": "LayoutModel",
            "_view_count": null,
            "_view_module": "@jupyter-widgets/base",
            "_view_module_version": "1.2.0",
            "_view_name": "LayoutView",
            "align_content": null,
            "align_items": null,
            "align_self": null,
            "border": null,
            "bottom": null,
            "display": null,
            "flex": null,
            "flex_flow": null,
            "grid_area": null,
            "grid_auto_columns": null,
            "grid_auto_flow": null,
            "grid_auto_rows": null,
            "grid_column": null,
            "grid_gap": null,
            "grid_row": null,
            "grid_template_areas": null,
            "grid_template_columns": null,
            "grid_template_rows": null,
            "height": null,
            "justify_content": null,
            "justify_items": null,
            "left": null,
            "margin": null,
            "max_height": null,
            "max_width": null,
            "min_height": null,
            "min_width": null,
            "object_fit": null,
            "object_position": null,
            "order": null,
            "overflow": null,
            "overflow_x": null,
            "overflow_y": null,
            "padding": null,
            "right": null,
            "top": null,
            "visibility": null,
            "width": null
          }
        },
        "8a8f53a11d5b493e973406d64bb67900": {
          "model_module": "@jupyter-widgets/base",
          "model_name": "LayoutModel",
          "model_module_version": "1.2.0",
          "state": {
            "_model_module": "@jupyter-widgets/base",
            "_model_module_version": "1.2.0",
            "_model_name": "LayoutModel",
            "_view_count": null,
            "_view_module": "@jupyter-widgets/base",
            "_view_module_version": "1.2.0",
            "_view_name": "LayoutView",
            "align_content": null,
            "align_items": null,
            "align_self": null,
            "border": null,
            "bottom": null,
            "display": null,
            "flex": null,
            "flex_flow": null,
            "grid_area": null,
            "grid_auto_columns": null,
            "grid_auto_flow": null,
            "grid_auto_rows": null,
            "grid_column": null,
            "grid_gap": null,
            "grid_row": null,
            "grid_template_areas": null,
            "grid_template_columns": null,
            "grid_template_rows": null,
            "height": null,
            "justify_content": null,
            "justify_items": null,
            "left": null,
            "margin": null,
            "max_height": null,
            "max_width": null,
            "min_height": null,
            "min_width": null,
            "object_fit": null,
            "object_position": null,
            "order": null,
            "overflow": null,
            "overflow_x": null,
            "overflow_y": null,
            "padding": null,
            "right": null,
            "top": null,
            "visibility": null,
            "width": null
          }
        },
        "20c10e538e014322aed434a1ef3bf471": {
          "model_module": "@jupyter-widgets/controls",
          "model_name": "DescriptionStyleModel",
          "model_module_version": "1.5.0",
          "state": {
            "_model_module": "@jupyter-widgets/controls",
            "_model_module_version": "1.5.0",
            "_model_name": "DescriptionStyleModel",
            "_view_count": null,
            "_view_module": "@jupyter-widgets/base",
            "_view_module_version": "1.2.0",
            "_view_name": "StyleView",
            "description_width": ""
          }
        },
        "96a7d941f71e46dc961af3f0ac6adb71": {
          "model_module": "@jupyter-widgets/base",
          "model_name": "LayoutModel",
          "model_module_version": "1.2.0",
          "state": {
            "_model_module": "@jupyter-widgets/base",
            "_model_module_version": "1.2.0",
            "_model_name": "LayoutModel",
            "_view_count": null,
            "_view_module": "@jupyter-widgets/base",
            "_view_module_version": "1.2.0",
            "_view_name": "LayoutView",
            "align_content": null,
            "align_items": null,
            "align_self": null,
            "border": null,
            "bottom": null,
            "display": null,
            "flex": null,
            "flex_flow": null,
            "grid_area": null,
            "grid_auto_columns": null,
            "grid_auto_flow": null,
            "grid_auto_rows": null,
            "grid_column": null,
            "grid_gap": null,
            "grid_row": null,
            "grid_template_areas": null,
            "grid_template_columns": null,
            "grid_template_rows": null,
            "height": null,
            "justify_content": null,
            "justify_items": null,
            "left": null,
            "margin": null,
            "max_height": null,
            "max_width": null,
            "min_height": null,
            "min_width": null,
            "object_fit": null,
            "object_position": null,
            "order": null,
            "overflow": null,
            "overflow_x": null,
            "overflow_y": null,
            "padding": null,
            "right": null,
            "top": null,
            "visibility": null,
            "width": null
          }
        },
        "a56b91debd2543e0b64c0c8f55d6c687": {
          "model_module": "@jupyter-widgets/controls",
          "model_name": "ProgressStyleModel",
          "model_module_version": "1.5.0",
          "state": {
            "_model_module": "@jupyter-widgets/controls",
            "_model_module_version": "1.5.0",
            "_model_name": "ProgressStyleModel",
            "_view_count": null,
            "_view_module": "@jupyter-widgets/base",
            "_view_module_version": "1.2.0",
            "_view_name": "StyleView",
            "bar_color": null,
            "description_width": ""
          }
        },
        "9b19d2696e33449892563b1eceeda260": {
          "model_module": "@jupyter-widgets/base",
          "model_name": "LayoutModel",
          "model_module_version": "1.2.0",
          "state": {
            "_model_module": "@jupyter-widgets/base",
            "_model_module_version": "1.2.0",
            "_model_name": "LayoutModel",
            "_view_count": null,
            "_view_module": "@jupyter-widgets/base",
            "_view_module_version": "1.2.0",
            "_view_name": "LayoutView",
            "align_content": null,
            "align_items": null,
            "align_self": null,
            "border": null,
            "bottom": null,
            "display": null,
            "flex": null,
            "flex_flow": null,
            "grid_area": null,
            "grid_auto_columns": null,
            "grid_auto_flow": null,
            "grid_auto_rows": null,
            "grid_column": null,
            "grid_gap": null,
            "grid_row": null,
            "grid_template_areas": null,
            "grid_template_columns": null,
            "grid_template_rows": null,
            "height": null,
            "justify_content": null,
            "justify_items": null,
            "left": null,
            "margin": null,
            "max_height": null,
            "max_width": null,
            "min_height": null,
            "min_width": null,
            "object_fit": null,
            "object_position": null,
            "order": null,
            "overflow": null,
            "overflow_x": null,
            "overflow_y": null,
            "padding": null,
            "right": null,
            "top": null,
            "visibility": null,
            "width": null
          }
        },
        "31aa8cfb19da445c96e1422ab713bae3": {
          "model_module": "@jupyter-widgets/controls",
          "model_name": "DescriptionStyleModel",
          "model_module_version": "1.5.0",
          "state": {
            "_model_module": "@jupyter-widgets/controls",
            "_model_module_version": "1.5.0",
            "_model_name": "DescriptionStyleModel",
            "_view_count": null,
            "_view_module": "@jupyter-widgets/base",
            "_view_module_version": "1.2.0",
            "_view_name": "StyleView",
            "description_width": ""
          }
        },
        "77eddca978aa4530955707c96d80decd": {
          "model_module": "@jupyter-widgets/controls",
          "model_name": "HBoxModel",
          "model_module_version": "1.5.0",
          "state": {
            "_dom_classes": [],
            "_model_module": "@jupyter-widgets/controls",
            "_model_module_version": "1.5.0",
            "_model_name": "HBoxModel",
            "_view_count": null,
            "_view_module": "@jupyter-widgets/controls",
            "_view_module_version": "1.5.0",
            "_view_name": "HBoxView",
            "box_style": "",
            "children": [
              "IPY_MODEL_7017c57437d94b608a6bfe20f5f45e43",
              "IPY_MODEL_73efe245318746569ba4e8d2b863764c",
              "IPY_MODEL_4efefa8791bc426f87a2347da383828e"
            ],
            "layout": "IPY_MODEL_e4856f5a9fbd43e492c3c0bb06c6ff6a"
          }
        },
        "7017c57437d94b608a6bfe20f5f45e43": {
          "model_module": "@jupyter-widgets/controls",
          "model_name": "HTMLModel",
          "model_module_version": "1.5.0",
          "state": {
            "_dom_classes": [],
            "_model_module": "@jupyter-widgets/controls",
            "_model_module_version": "1.5.0",
            "_model_name": "HTMLModel",
            "_view_count": null,
            "_view_module": "@jupyter-widgets/controls",
            "_view_module_version": "1.5.0",
            "_view_name": "HTMLView",
            "description": "",
            "description_tooltip": null,
            "layout": "IPY_MODEL_4b6440c6197743169e0acec1fc61883a",
            "placeholder": "​",
            "style": "IPY_MODEL_0e683f0aee21416ab324ad3ee2719507",
            "value": "Downloading: 100%"
          }
        },
        "73efe245318746569ba4e8d2b863764c": {
          "model_module": "@jupyter-widgets/controls",
          "model_name": "FloatProgressModel",
          "model_module_version": "1.5.0",
          "state": {
            "_dom_classes": [],
            "_model_module": "@jupyter-widgets/controls",
            "_model_module_version": "1.5.0",
            "_model_name": "FloatProgressModel",
            "_view_count": null,
            "_view_module": "@jupyter-widgets/controls",
            "_view_module_version": "1.5.0",
            "_view_name": "ProgressView",
            "bar_style": "success",
            "description": "",
            "description_tooltip": null,
            "layout": "IPY_MODEL_5708d8c29ee84b0ea8ec668fd71dae70",
            "max": 536063208,
            "min": 0,
            "orientation": "horizontal",
            "style": "IPY_MODEL_a6f2cd25c0ec4ecd921103c16dc5b0e6",
            "value": 536063208
          }
        },
        "4efefa8791bc426f87a2347da383828e": {
          "model_module": "@jupyter-widgets/controls",
          "model_name": "HTMLModel",
          "model_module_version": "1.5.0",
          "state": {
            "_dom_classes": [],
            "_model_module": "@jupyter-widgets/controls",
            "_model_module_version": "1.5.0",
            "_model_name": "HTMLModel",
            "_view_count": null,
            "_view_module": "@jupyter-widgets/controls",
            "_view_module_version": "1.5.0",
            "_view_name": "HTMLView",
            "description": "",
            "description_tooltip": null,
            "layout": "IPY_MODEL_2c29df0e75f74c9e923a56f5b9e8f711",
            "placeholder": "​",
            "style": "IPY_MODEL_c7d6d5b4e25a4e14ae82a285efb47508",
            "value": " 511M/511M [00:07&lt;00:00, 70.6MB/s]"
          }
        },
        "e4856f5a9fbd43e492c3c0bb06c6ff6a": {
          "model_module": "@jupyter-widgets/base",
          "model_name": "LayoutModel",
          "model_module_version": "1.2.0",
          "state": {
            "_model_module": "@jupyter-widgets/base",
            "_model_module_version": "1.2.0",
            "_model_name": "LayoutModel",
            "_view_count": null,
            "_view_module": "@jupyter-widgets/base",
            "_view_module_version": "1.2.0",
            "_view_name": "LayoutView",
            "align_content": null,
            "align_items": null,
            "align_self": null,
            "border": null,
            "bottom": null,
            "display": null,
            "flex": null,
            "flex_flow": null,
            "grid_area": null,
            "grid_auto_columns": null,
            "grid_auto_flow": null,
            "grid_auto_rows": null,
            "grid_column": null,
            "grid_gap": null,
            "grid_row": null,
            "grid_template_areas": null,
            "grid_template_columns": null,
            "grid_template_rows": null,
            "height": null,
            "justify_content": null,
            "justify_items": null,
            "left": null,
            "margin": null,
            "max_height": null,
            "max_width": null,
            "min_height": null,
            "min_width": null,
            "object_fit": null,
            "object_position": null,
            "order": null,
            "overflow": null,
            "overflow_x": null,
            "overflow_y": null,
            "padding": null,
            "right": null,
            "top": null,
            "visibility": null,
            "width": null
          }
        },
        "4b6440c6197743169e0acec1fc61883a": {
          "model_module": "@jupyter-widgets/base",
          "model_name": "LayoutModel",
          "model_module_version": "1.2.0",
          "state": {
            "_model_module": "@jupyter-widgets/base",
            "_model_module_version": "1.2.0",
            "_model_name": "LayoutModel",
            "_view_count": null,
            "_view_module": "@jupyter-widgets/base",
            "_view_module_version": "1.2.0",
            "_view_name": "LayoutView",
            "align_content": null,
            "align_items": null,
            "align_self": null,
            "border": null,
            "bottom": null,
            "display": null,
            "flex": null,
            "flex_flow": null,
            "grid_area": null,
            "grid_auto_columns": null,
            "grid_auto_flow": null,
            "grid_auto_rows": null,
            "grid_column": null,
            "grid_gap": null,
            "grid_row": null,
            "grid_template_areas": null,
            "grid_template_columns": null,
            "grid_template_rows": null,
            "height": null,
            "justify_content": null,
            "justify_items": null,
            "left": null,
            "margin": null,
            "max_height": null,
            "max_width": null,
            "min_height": null,
            "min_width": null,
            "object_fit": null,
            "object_position": null,
            "order": null,
            "overflow": null,
            "overflow_x": null,
            "overflow_y": null,
            "padding": null,
            "right": null,
            "top": null,
            "visibility": null,
            "width": null
          }
        },
        "0e683f0aee21416ab324ad3ee2719507": {
          "model_module": "@jupyter-widgets/controls",
          "model_name": "DescriptionStyleModel",
          "model_module_version": "1.5.0",
          "state": {
            "_model_module": "@jupyter-widgets/controls",
            "_model_module_version": "1.5.0",
            "_model_name": "DescriptionStyleModel",
            "_view_count": null,
            "_view_module": "@jupyter-widgets/base",
            "_view_module_version": "1.2.0",
            "_view_name": "StyleView",
            "description_width": ""
          }
        },
        "5708d8c29ee84b0ea8ec668fd71dae70": {
          "model_module": "@jupyter-widgets/base",
          "model_name": "LayoutModel",
          "model_module_version": "1.2.0",
          "state": {
            "_model_module": "@jupyter-widgets/base",
            "_model_module_version": "1.2.0",
            "_model_name": "LayoutModel",
            "_view_count": null,
            "_view_module": "@jupyter-widgets/base",
            "_view_module_version": "1.2.0",
            "_view_name": "LayoutView",
            "align_content": null,
            "align_items": null,
            "align_self": null,
            "border": null,
            "bottom": null,
            "display": null,
            "flex": null,
            "flex_flow": null,
            "grid_area": null,
            "grid_auto_columns": null,
            "grid_auto_flow": null,
            "grid_auto_rows": null,
            "grid_column": null,
            "grid_gap": null,
            "grid_row": null,
            "grid_template_areas": null,
            "grid_template_columns": null,
            "grid_template_rows": null,
            "height": null,
            "justify_content": null,
            "justify_items": null,
            "left": null,
            "margin": null,
            "max_height": null,
            "max_width": null,
            "min_height": null,
            "min_width": null,
            "object_fit": null,
            "object_position": null,
            "order": null,
            "overflow": null,
            "overflow_x": null,
            "overflow_y": null,
            "padding": null,
            "right": null,
            "top": null,
            "visibility": null,
            "width": null
          }
        },
        "a6f2cd25c0ec4ecd921103c16dc5b0e6": {
          "model_module": "@jupyter-widgets/controls",
          "model_name": "ProgressStyleModel",
          "model_module_version": "1.5.0",
          "state": {
            "_model_module": "@jupyter-widgets/controls",
            "_model_module_version": "1.5.0",
            "_model_name": "ProgressStyleModel",
            "_view_count": null,
            "_view_module": "@jupyter-widgets/base",
            "_view_module_version": "1.2.0",
            "_view_name": "StyleView",
            "bar_color": null,
            "description_width": ""
          }
        },
        "2c29df0e75f74c9e923a56f5b9e8f711": {
          "model_module": "@jupyter-widgets/base",
          "model_name": "LayoutModel",
          "model_module_version": "1.2.0",
          "state": {
            "_model_module": "@jupyter-widgets/base",
            "_model_module_version": "1.2.0",
            "_model_name": "LayoutModel",
            "_view_count": null,
            "_view_module": "@jupyter-widgets/base",
            "_view_module_version": "1.2.0",
            "_view_name": "LayoutView",
            "align_content": null,
            "align_items": null,
            "align_self": null,
            "border": null,
            "bottom": null,
            "display": null,
            "flex": null,
            "flex_flow": null,
            "grid_area": null,
            "grid_auto_columns": null,
            "grid_auto_flow": null,
            "grid_auto_rows": null,
            "grid_column": null,
            "grid_gap": null,
            "grid_row": null,
            "grid_template_areas": null,
            "grid_template_columns": null,
            "grid_template_rows": null,
            "height": null,
            "justify_content": null,
            "justify_items": null,
            "left": null,
            "margin": null,
            "max_height": null,
            "max_width": null,
            "min_height": null,
            "min_width": null,
            "object_fit": null,
            "object_position": null,
            "order": null,
            "overflow": null,
            "overflow_x": null,
            "overflow_y": null,
            "padding": null,
            "right": null,
            "top": null,
            "visibility": null,
            "width": null
          }
        },
        "c7d6d5b4e25a4e14ae82a285efb47508": {
          "model_module": "@jupyter-widgets/controls",
          "model_name": "DescriptionStyleModel",
          "model_module_version": "1.5.0",
          "state": {
            "_model_module": "@jupyter-widgets/controls",
            "_model_module_version": "1.5.0",
            "_model_name": "DescriptionStyleModel",
            "_view_count": null,
            "_view_module": "@jupyter-widgets/base",
            "_view_module_version": "1.2.0",
            "_view_name": "StyleView",
            "description_width": ""
          }
        }
      }
    }
  },
  "nbformat": 4,
  "nbformat_minor": 0
}